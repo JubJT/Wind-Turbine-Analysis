{
 "cells": [
  {
   "attachments": {},
   "cell_type": "markdown",
   "metadata": {},
   "source": [
    "<img src=\"img/wind-turbine.png\" style=\"float: left; margin: 20px; height: 55px\">\n",
    "\n",
    "# __<p style=\"color:lightgreen\">WHY SWITCH TO WIND TURBINES ?</p>__\n",
    "#### __<p style=\"color:lightgreen\">A POTENTIAL TO AMPLIFY YOUR INVESTMENT</p>__  \n",
    "\n",
    "_Green Power: Haleema Esam, Jubran AlTaitoon, Ameera Salman, Khulood Aloun & Zahra Alkhawaja_\n",
    "\n",
    "---"
   ]
  },
  {
   "attachments": {},
   "cell_type": "markdown",
   "metadata": {},
   "source": [
    "### Table of Contents\n",
    "\n",
    "1. [Introduction](#introduction)\n",
    "    - [Dictionary](#dictionary-function)\n",
    "    - [Installation & Importing](#installation--imports)\n",
    "    - [Functions](#functions)\n",
    "2. [Exploration](#exploration)\n",
    "    - [Reading Datasets](#read-wind-turbine--operators-data-sets)\n",
    "    - [Exploring Wing Turbine Dataset](#exploring-wind-turbine-data)\n",
    "    - [Exploring Operator Dataset](#exploring-operator-data)\n",
    "    - [Cleaning Operator Dataset](#cleaning-operator-data)\n",
    "    - [Filter & Further Cleaning Operator Dataset](#filter-operator-table)\n",
    "3. [Merging Wind Turbine with Wind Operator](#merging-wind_opr_df-with-wind_turbine_df)\n",
    "4. [Operators: Wind vs. Hydro](#operators-wind-vs-hydro)\n"
   ]
  },
  {
   "attachments": {},
   "cell_type": "markdown",
   "metadata": {},
   "source": [
    "<a id='Introduction'></a>\n",
    "\n",
    "# <p style=\"color:lightblue\">Introduction</p>\n",
    "---"
   ]
  },
  {
   "attachments": {},
   "cell_type": "markdown",
   "metadata": {},
   "source": [
    "#### Dictionary Function"
   ]
  },
  {
   "cell_type": "code",
   "execution_count": 1,
   "metadata": {},
   "outputs": [],
   "source": [
    "# Function to understand the column headers\n",
    "def dictionary(data_set_type,term):\n",
    "    '''\n",
    "        dictionary(type,term=None) -> None\n",
    "\n",
    "        Prints the term and the definition.\n",
    "        type:\n",
    "            0 -> Wind turbine data set\n",
    "            1 -> Operator data set\n",
    "    '''\n",
    "    term=term.lower()\n",
    "    if data_set_type==0:\n",
    "        wind_turbine_dictionary={\n",
    "            'case_id':'Unique stable identification number.',\n",
    "            'faa_ors':'Unique identifier for cross-reference to the Federal Aviation Administration (FAA) digital obstacle files.',\n",
    "            'faa_asn':'Unique identifier for cross-reference to the FAA obstruction evaluation airport airspace analysis dataset.',\n",
    "            'usgs_pr_id':'Unique identifier for cross-reference to the 2014 USGS turbine dataset.',\n",
    "            't_state':'State where turbine is located.',\n",
    "            't_county':'County where turbine is located.',\n",
    "            't_fips':'State and county fips where turbine is located, based on spatial join of turbine points with US state and county.',\n",
    "            'p_name':'Name of the wind power project that the turbine is a part of. Project names are typically provided by the developer; some names are identified via other internet resources, and others are created by the authors to differentiate them from previous projects. Values are that were unknown were assigned a name based on the county where the turbine is located.',\n",
    "            'p_year':'Year that the turbine became operational and began providing power. Note this may differ from the year that construction began.',\n",
    "            'p_tnum':'Number of turbines in the wind power project.',\n",
    "            'p_cap':'Cumulative capacity of all turbines in the wind power project in megawatts (MW).',\n",
    "            't_manu':'Turbine manufacturer - name of the original equipment manufacturer of the turbine.',\n",
    "            't_model':\"Turbine model - manufacturer's model name of each turbine.\",\n",
    "            't_cap':'Turbine rated capacity - stated output power at rated wind speed from manufacturer, ACP, and/or internet resources in kilowatts (kW).',\n",
    "            't_hh':'Turbine hub height in meters (m).',\n",
    "            't_rd':'Turbine rotor diameter in meters (m).',\n",
    "            't_rsa':'Turbine rotor swept area in square meters (m2).',\n",
    "            't_ttlh':'Turbine total height from ground to tip of a blade at its apex in meters (m).',\n",
    "            'retrofit':'Indicator of whether the turbine has been partially retrofit after initial construction (e.g., rotor and/or nacelle replacement). 0 indicates no known retrofit. 1 indicates yes known retrofit.',\n",
    "            'retrofit_year':'Year in which the turbine was partially retrofit.',\n",
    "            't_conf_atr':'Level of confidence in the turbine attributes.\\t\\n1—No confidence:\\tno attribute data beyond total height and year.\\t\\n2—Partial confidence:\\tincomplete information or substantial conflict between.\\t\\n3—Full confidence:\\tcomplete information, consistent across multiple data sources.',\n",
    "            't_conf_loc':'Level of confidence in turbine location.\\t\\n1— No turbine shown in image; image has clouds; imagery older than turbine built date.\\t\\n2— Partial confidence: image shows a developed pad with concrete base and/or turbine parts on the ground.\\n3— Full confidence: image shows an installed turbine.',\n",
    "            't_img_date':'Date of image used to visually verify turbine location. Note if source of image is NAIP, the month and day were set to 01/01.',\n",
    "            't_img_srce':'Source of image used to visually verify turbine location.',\n",
    "            'xlong':'Longitude of the turbine point, in decimal degrees.',\n",
    "            'ylat':'Latitude of the turbine point, in decimal degrees.',\n",
    "            'eia_id':'Plant ID from Energy Information Administration (EIA).'\n",
    "        }\n",
    "        if term in wind_turbine_dictionary:\n",
    "            print(term,':',wind_turbine_dictionary[term])\n",
    "        else:\n",
    "            print(term, 'not in the data set!\\ndataset terms:',wind_turbine_dictionary.keys())\n",
    "    elif data_set_type==1:\n",
    "        operator_dictionary={\n",
    "            'plant id':'EIA Plant Identification number. One to five digit numeric.',\n",
    "            'combined heat and power plant':'Whether or not the plant is a combined heat & power facility (cogenerator).One character alphanumeric, \"Y\" or \"N\"',\n",
    "            'nuclear unit id':'For nuclear plants only, the unit number .One digit numeric. Nuclear plants are the only type of plants for which data are shown explicitly at the generating unit level.',\n",
    "            'plant name':'Plant name. Alphanumeric',\n",
    "            'operator name':'The name of the entity which operates the plant. Alphanumeric.',\n",
    "            'operator id':'The EIA operator identification number. Five digit numeric, padded with leading zeros.',\n",
    "            'plant state':'State the facility is located in. Two character alphanumeric (standard state postal codes).',\n",
    "            'census region':'The census region the state is located in.Three to five character alphanumeric:\\t\\nNEW:\\tNew England\\t\\nMAT:\\tMiddle Atlantic\\t\\nSAT:\\tSouth Atlantic\\t\\nESC:\\tEast South Central\\t\\nWSC:\\tWest South Central\\t\\nENC:\\tEast North Central\\t\\nWNC:\\tWest North Central\\t\\nMTN:\\tMountain\\t\\nPACC:\\tPacific Contiguous (Oregon, Washington, and California)\\t\\nPACN:\\tPacific Non-Contiguous (Alaska and Hawaii)',\n",
    "            'nerc region':'The North American Electric Reliability Council (NERC) region where the plant is located.Alphanumeric:\\t\\nNPCC:\\tNortheast Power Coordinating Council\\t\\nMRO:\\tMidwest Reliability Organization\\nSERC:\\tSERC Reliability Corporation\\nRFC:\\tReliability First Corporation\\nSPP:\\tSouthwest Power Pool\\nTRE:\\tTexas Regional Entity\\t\\nFRCC:\\tFlorida Reliability Coordinating Council\\nWECC:\\tWestern Electricity Coordinating Council',\n",
    "            'reserved':'- No Entry -',\n",
    "            'naics code':\"The facility's North American Industrial Classification System (NAICS) code.Numeric. For information on the NAICS system, see:http://www.census.gov/epcd/www/naics.html\",\n",
    "            'eia sector number':\"Number and Sector Name EIA's internal consolidated NAICS sectors.For internal purposes, EIA consolidates the NAICS categories into seven groups.\\nThese are shown below in the Sector Codes and Names table:\\n1 Electric Utility:\\tTraditional regulated electric utilities\\n2 NAICS-22 Non-Cogen:\\tIndependent power producers which are not cogenerators\\n3 NAICS-22 Cogen:\\tIndependent power producers which are cogenerators, but whose primary business purpose is the sale of electricity to the public\\n4 Commercial NAICS Non-Cogen: Commercial non-cogeneration facilities that produce electric power, are connected to the gird, and can sell power to the public\\n5 Commercial NAICS Cogen:\\tCommercial cogeneration facilities that produce electric power, are connected to the grid, and can sell power to the public\\n6 Industrial NAICS Non-Cogen:\\tIndustrial non-cogeneration facilities that produce electric power, are connected to the gird, and can sell power to the public\\n7 Industrial NAICS Cogen:\\tIndustrial cogeneration facilities that produce electric power, are connected to the gird, and can sell power to the public\",\n",
    "            'sector name':\"Sector Name EIA's internal consolidated NAICS sectors.For internal purposes, EIA consolidates the NAICS categories into seven groups.\\nThese are shown below in the Sector Codes and Names table:\\n1 Electric Utility:\\tTraditional regulated electric utilities\\n2 NAICS-22 Non-Cogen:\\tIndependent power producers which are not cogenerators\\n3 NAICS-22 Cogen:\\tIndependent power producers which are cogenerators, but whose primary business purpose is the sale of electricity to the public\\n4 Commercial NAICS Non-Cogen: Commercial non-cogeneration facilities that produce electric power, are connected to the gird, and can sell power to the public\\n5 Commercial NAICS Cogen:\\tCommercial cogeneration facilities that produce electric power, are connected to the grid, and can sell power to the public\\n6 Industrial NAICS Non-Cogen:\\tIndustrial non-cogeneration facilities that produce electric power, are connected to the gird, and can sell power to the public\\n7 Industrial NAICS Cogen:\\tIndustrial cogeneration facilities that produce electric power, are connected to the gird, and can sell power to the public\",\n",
    "            'reported prime mover':'Type of prime mover:\\nBA:\\tEnergy Storage, Battery\\nBT:\\tTurbines Used in a Binary Cycle. Including those used for geothermal applications\\nCA:\\tCombined-Cycle -- Steam Part\\nCE:\\tEnergy Storage, Compressed Air\\nCP:\\tEnergy Storage, Concentrated Solar Power\\nCS:\\tCombined-Cycle Single-Shaft Combustion Turbine and Steam Turbine share of single generator\\nCT:\\tCombined-Cycle Combustion Turbine Part\\nES:\\tEnergy Storage, Other (Specify on Schedule 9, Comments)\\nFC:\\tFuel Cell\\nFW:\\tEnergy Storage, Flywheel\\nGT:\\tCombustion (Gas) Turbine. Including Jet Engine design\\nHA:\\tHydrokinetic, Axial Flow Turbine\\nHB:\\tHydrokinetic, Wave Buoy\\nHK:\\tHydrokinetic, Other\\nHY:\\tHydraulic Turbine. Including turbines associated with delivery of water by pipeline.\\nIC:\\tInternal Combustion (diesel, piston, reciprocating) Engine\\nPS:\\tEnergy Storage, Reversible Hydraulic Turbine (Pumped Storage)\\nOT:\\tOther\\nST:\\tSteam Turbine. Including Nuclear, Geothermal, and Solar Steam (does not include Combined Cycle).\\nPV:\\tPhotovoltaic, WT: Wind Turbine, Onshore,#WS: Wind Turbine, Offshore',\n",
    "            'reported fuel type code':'The fuel code reported to EIA.Two or three letter alphanumeric:\\nAB:\\tAgricultural By-Products\\nANT:\\tAnthracite Coal\\nBFG:\\tBlast Furnace Gas\\nBIT:\\tBituminous Coal\\nBLQ:\\tBlack Liquor\\nDFO:\\tDistillate Fuel Oil. Including diesel, No. 1, No. 2, and No. 4 fuel oils.\\nGEO:\\tGeothermal\\nJF:\\tJet Fuel\\nKER:\\tKerosene\\nLFG:\\tLandfill Gas\\nLIG:\\tLignite Coal\\nMSB:\\tBiogenic Municipal Solid Waste\\nMSN:\\tNon-biogenic Municipal Solid Waste\\nMWH:\\tElectricity used for energy storage\\nNG:\\tNatural Gas\\nNUC:\\tNuclear. Including Uranium, Plutonium, and Thorium.\\nOBG:\\tOther Biomass Gas. Including digester gas, methane, and other biomass gases.\\nOBL:\\tOther Biomass Liquids\\nOBS:\\tOther Biomass Solids\\nOG:\\tOther Gas\\nOTH:\\tOther Fuel\\nPC:\\tPetroleum Coke\\nPG:\\tGaseous Propane\\nPUR:\\tPurchased Steam\\nRC:\\tRefined Coal\\nRFO:\\tResidual Fuel Oil. Including No. 5 & 6 fuel oils and bunker C fuel oil.\\nSC:\\tCoal-based Synfuel. Including briquettes, pellets, or extrusions, which are formed by binding materials or processes that recycle materials.\\nSGC:\\tCoal-Derived Synthesis Gas\\nSGP:\\tSynthesis Gas from Petroleum Coke\\nSLW:\\tSludge Waste\\nSUB:\\tSubbituminous Coal\\nSUN:\\tSolar\\nTDF:\\tTire-derived Fuels\\nWAT:\\tWater at a Conventional Hydroelectric Turbine and water used in Wave Buoy Hydrokinetic Technology, current Hydrokinetic Technology, Tidal Hydrokinetic Technology, and Pumping Energy for Reversible (Pumped Storage) Hydroelectric Turbines.\\nWC:\\tWaste/Other Coal. Including anthracite culm, bituminous gob, fine coal, lignite waste, waste coal.\\nWDL:\\tWood Waste Liquids, excluding Black Liquor. Including red liquor, sludge wood, spent sulfite liquor, and other wood-based liquids.\\nWDS:\\tWood/Wood Waste Solids. Including paper pellets, railroad ties, utility polies, wood chips, bark, and other wood waste solids.\\nWH:\\tWaste Heat not directly attributed to a fuel source\\nWND:\\tWind\\nWO:\\tWaste/Other Oil. Including crude oil, liquid butane, liquid propane, naphtha, oil waste, re-refined moto oil, sludge oil, tar oil, or other petroleum-based liquid wastes.',\n",
    "            'aer fuel type code':'A partial aggregation of the reported fuel type codes into larger categories used by EIA in, for example, the Annual Energy Review (AER).Two or three letter alphanumeric.\\nSee the Fuel Code table (Table 5), below:\\nSUN:\\tSolar PV and thermal\\nCOL:\\tCoal\\nDFO:\\tDistillate Petroleum\\nGEO:\\tGeothermal\\nHPS:\\tHydroelectric Pumped Storage\\nHYC:\\tHydroelectric Conventional\\nMLG:\\tBiogenic Municipal Solid Waste and Landfill Gas\\nNG:\\tNatural Gas\\nNUC:\\tNuclear\\nOOG:\\tOther Gases\\nORW:\\tOther Renewables\\nOTH:\\tOther (including nonbiogenic MSW)\\nPC:\\tPetroleum Coke\\nRFO:\\tResidual Petroleum\\nWND:\\tWind\\nWOC:\\tWaste Coal\\nWOO:\\tWaste Oil\\nWWW:\\tWood and Wood Waste',\n",
    "            'balancing authority code':'The balancing authority code reported to EIA.\\nAEC:\\tPowerSouth Energy Cooperative\\nAECI:\\tAssociated Electric Cooperative, Inc.\\nAVA:\\tAvista Corporation\\nAVRN:\\tAvangrid Renewables LLC\\nAZPS:\\tArizona Public Service Company\\nBANC:\\tBalancing Authority of Northern California\\nBPAT:\\tBonneville Power Administration\\nCHPD:\\tPublic Utility District No. 1 of Chelan County\\nCISO:\\tCalifornia Independent System Operator\\nCPLE:\\tDuke Energy Progress East\\nCPLW:\\tDuke Energy Progress West\\nCSTO:\\tConstellation Energy Control and Dispatch, LLC\\nDEAA:\\tArlington Valley, LLC - AVBA\\nDOPD:\\tPUD No. 1 of Douglas County\\nDUK:\\tDuke Energy Carolinas\\nEEI:\\tElectric Energy, Inc.\\nEPE:\\tEl Paso Electric Company\\nERCO:\\tElectric Reliability Council of Texas, Inc.\\nFMPP:\\tFlorida Municipal Power Pool\\nFPC:\\tProgress Energy Florida\\nFPL:\\tFlorida Power & Light Company\\nGCPD:\\tPublic Utility District No. 2 of Grant County, Washington\\nGRIF:\\tGriffith Energy, LLC\\nGRIS:\\tGridforce South\\nGVL:\\tGainesville Regional Utilities\\nGWA:\\tNaturEner Power Watch, LLC (GWA)\\nHECO:\\tHawaiian Electric Co Inc\\nHGMA:\\tNew Harquahala Generating Company, LLC - HGBA\\nHST:\tCity of Homestead\\nIID:\\tImperial Irrigation District\\nIPCO:\\tIdaho Power Company\\nISNE:\\tISO New England Inc.\\nJEA:\\tJEA\\nLDWP:\\tLos Angeles Department of Water and Power\\nLGEE:\\tLG&E and KU Services Company as agent for Louisville Gas and Electric Company and Kentucky Utilities\\nMISO:\\tMidcontinent Independent Transmission System Operator, Inc.\\nNA:\\tNo Balancing Authority provided\\nNBSO:\\tNew Brunswick System Operator\\nNEVP:\\tNevada Power Company\\nNSB:\\tNew Smyrna Beach, Utilities Commission of\\nNWMT:\\tNorthWestern Energy (NWMT)\\nNYIS:\\tNew York Independent System Operator\\nOVEC:\\tOhio Valley Electric Corporation\\nPACE:\\tPacifiCorp - East\\nPACW:\\tPacifiCorp - West\\nPGE:\\tPortland General Electric Company\\nPJM:\\tPJM Interconnection, LLC\\nPNM:\\tPublic Service Company of New Mexico\\nPSCO:\\tPublic Service Company of Colorado\\nPSEI:\\tPuget Sound Energy\\nSC:\\tSouth Carolina Public Service Authority\\nSCEG:\\tSouth Carolina Electric & Gas Company\\nSCL:\\tSeattle City Light\\nSEC:\\tSeminole Electric Cooperative\\nSEPA:\\tSoutheastern Power Administration\\nSOCO:\\tSouthern Company Services, Inc. - Trans\\nSPA:\\tSouthwestern Power Administration\\nSRP:\\tSalt River Project\\nSWPP:\\tSouthwest Power Pool\\nTAL:\\tCity of Tallahassee\\nTEC:\\tTampa Electric Company\\nTEPC:\\tTucson Electric Power Company\\nTIDC:\\tTurlock Irrigation District\\nTPWR:\\tCity of Tacoma, Department of Public Utilities, Light Division\\nTVA:\\tTennessee Valley Authority\\nWACM:\\tWestern Area Power Administration - Rocky Mountain Region\\nWALC:\\tWestern Area Power Administration - Desert Southwest Region\\nWAUW:\\tWestern Area Power Administration UGP West\\nWWA:\\tNaturEner Wind Watch, LLC\\nYAD:\\tAlcoa Power Generating, Inc. - Yadkin Division',\n",
    "            'respondent frequency':\"Specifies what time period data has to be reported (i.e. monthly data or annual totals) and how often the power plant reports this data to EIA.\\nA:\\tThe respondent only provides an annual total(s) for this record via the EIA-923 annual survey form.  Any monthly data in this record is estimated based on the respondent's reported annual total(s) and power plants with similar characteristics to this plant.\\nAM:\\tThe respondent provides monthly values for this record, but does so once per year via the EIA-923 annual survey form.\\nM:\\tThe respondent provides monthly values for this record and does so via the EIA-923 monthly survey form.\",\n",
    "            'physical unit label':'The type of physical units fuel consumption is reported in:\\nmcf:\\tfor gases\\nshort tons:\\tfor solid\\nbarrels:\\tfor liquids',\n",
    "            'total quantity consumed in physical units (consumed for electric generation and useful thermal output)':'Consumption of the fuel type in physical units.Numeric.\\nNote: this is the total quantity consumed for both electricity and, in the case of combined heat and power plants, process steam production.',\n",
    "            'quantity consumed in physical units for electric generation':'Consumption for electric generation of the fuel type in physical units.Numeric.',\n",
    "            'heat content of fuels (mmbtu per unit)':'Heat content of the fuel in millions of Btus per physical unit.Numeric.',\n",
    "            'total fuel consumed (mmbtu)':'Total consumption of the fuel in millions of Btus.Numeric\\nNote: this is the total quantity consumed for both electricity and, in the case of combined heat and power plants, process steam production.',\n",
    "            'quantity consumed for electricity (mmbtu)':'Consumption of fuel in millions of Btus for the purpose of generating electricity.These fields are most relevant to combined heat and power plants.\\nFor non-combined heat and power plants, the data in these fields and in columns AK through AV (total fuel consumed) will be identical.',\n",
    "            'electricity net generation (mwh)':'Net generation of electricity in megawatthours (MWh).Numeric.  This is total electrical output net of station service.\\nIn the case of combined heat and power plants, this value is intended to include internal consumption of electricity for the purposes of a production process, as well as power put on the grid.',\n",
    "            'total fuel consumption quantity':'Total consumption of fuel in physical units, year to date.Numeric\\nNote: this is the total quantity consumed for both electricity and, in the case of combined heat and power plants, process steam production.',\n",
    "            'electric fuel consumption quantity':'Total consumption of fuel to produce electricity, in physical units, year to date. Numeric',\n",
    "            'total fuel consumption mmbtu':'Total consumption of fuel in MMBtus, year to date. Numeric   Note: this is the total quantity consumed for both electricity and, in the case of combined heat and power plants, process steam production.',\n",
    "            'elec fuel consumption mmbtu':'Consumption of fuel in millions of Btus for the purpose of generating electricity, year to date. This field is most relevant to combined heat and power plants.\\nFor non-combined heat and power plants, the data in this field and in column BV (total fuel consumed) will be identical.',\n",
    "            'net generation (megawatthours)':'Net generation, year to date in megawatthours (MWh).Numeric. This is total electrical output net of station service.\\nIn the case of combined heat and power plants, this value is intended to include internal consumption of electricity for the purposes of a production process, as well as power put on the grid.',\n",
    "            'year':'Calendar Year for Data'\n",
    "            \n",
    "        }\n",
    "        if term in operator_dictionary:\n",
    "            print(term,':',operator_dictionary[term])\n",
    "        elif ' - ' in term:\n",
    "            if term[:term.index(' - ')] in operator_dictionary:\n",
    "                print(term[:term.index(' - ')],':',operator_dictionary[term[:term.index(' - ')]])\n",
    "            elif term[term.index(' - ')+3:] in operator_dictionary:\n",
    "                print(term[term.index(' - ')+3:],':',operator_dictionary[term[term.index(' - ')+3:]])\n",
    "        else:\n",
    "            print(term, 'not in the data set!\\ndataset terms:',operator_dictionary.keys())\n",
    "    else:\n",
    "        print('Data set does not exist! Enter between 0 -1 ')"
   ]
  },
  {
   "attachments": {},
   "cell_type": "markdown",
   "metadata": {},
   "source": [
    "#### Installation & Imports"
   ]
  },
  {
   "cell_type": "code",
   "execution_count": 2,
   "metadata": {},
   "outputs": [],
   "source": [
    "#Installing libraries:-\n",
    "#pip install pandas\n",
    "#pip install numpy\n",
    "#pip install plotly\n",
    "#pip install statsmodels"
   ]
  },
  {
   "cell_type": "code",
   "execution_count": 3,
   "metadata": {},
   "outputs": [],
   "source": [
    "import pandas as pd\n",
    "import numpy as np\n",
    "import plotly.express as px\n",
    "import plotly.graph_objects as go"
   ]
  },
  {
   "attachments": {},
   "cell_type": "markdown",
   "metadata": {},
   "source": [
    "#### Functions"
   ]
  },
  {
   "cell_type": "code",
   "execution_count": 4,
   "metadata": {},
   "outputs": [],
   "source": [
    "# Function to clean the column header after reading from Excel \n",
    "def clean_header(df):\n",
    "    '''\n",
    "        clean_header(df) -> None\n",
    "\n",
    "        Gets the column names and removes \"Unnamed\" and \"\\n\" from the header \n",
    "    '''\n",
    "    new_column=[]\n",
    "    for line1,line2 in df.columns:\n",
    "        header=''\n",
    "        sub_header=''\n",
    "        # replaces Unamed assigned with empty string\n",
    "        if 'Unnamed' in line1:\n",
    "            header=''\n",
    "        else:\n",
    "            header=line1+' - '\n",
    "        # replaces \\n with empty space\n",
    "        header+=line2.replace('\\n',' ')\n",
    "        new_column.append(header)\n",
    "    df.columns=new_column"
   ]
  },
  {
   "cell_type": "code",
   "execution_count": 5,
   "metadata": {},
   "outputs": [],
   "source": [
    "# Checks the data set for null values\n",
    "def check(df,show_all=False):\n",
    "    '''\n",
    "        check(df,show_all=False) -> None\n",
    "\n",
    "        Checks the columns of the Dataframe for null and prints the result including percentage of nulls.\n",
    "        - show_all= default: False - displays only the columns with null values, True displays all coloumns with the number of null values.\n",
    "    '''\n",
    "    for col in df.columns:\n",
    "        if show_all:\n",
    "            # Check all for Null    \n",
    "            print(f\"{df[col].isnull().sum()} \\tNull values in {col[1] if col[0]=='' else col} ({(df[col].dtype)}) with {(df[col].value_counts().shape[0])} unique value(s)\")\n",
    "        else:\n",
    "            # Only with Null\n",
    "            null_count=df[col].isnull().sum()\n",
    "            if null_count>0:\n",
    "                print(f\"{df[col].isnull().sum()} \\tNull values ({round(100*null_count/df.shape[0],3)}%) in {col[1] if col[0]=='' else col} ({(df[col].dtype)}) with {(df[col].value_counts().shape[0])} unique value(s)\")\n",
    "        "
   ]
  },
  {
   "cell_type": "code",
   "execution_count": 6,
   "metadata": {},
   "outputs": [],
   "source": [
    "def get_column_containing(col_list,col_name):\n",
    "    '''\n",
    "        get_column_containing(col_list,col_name) -> list()\n",
    "\n",
    "        Checks the column name list if it contains the name. Then returns a list of column name(s)\n",
    "    '''\n",
    "    return [col for col in col_list if col_name in col ]"
   ]
  },
  {
   "cell_type": "code",
   "execution_count": 7,
   "metadata": {},
   "outputs": [],
   "source": [
    "def convert_to_float(df,columns):\n",
    "    '''\n",
    "        convert_to_float(df,columns) -> None\n",
    "\n",
    "        Converts object columns to float. Replace \".\" with \"Nan\" \n",
    "  '''\n",
    "    for col in columns:\n",
    "        df[col].replace('.', np.nan,inplace=True)\n",
    "        df[col].astype(float)"
   ]
  },
  {
   "attachments": {},
   "cell_type": "markdown",
   "metadata": {},
   "source": [
    "### Read Wind Turbine & Operators Data sets"
   ]
  },
  {
   "cell_type": "code",
   "execution_count": 8,
   "metadata": {},
   "outputs": [],
   "source": [
    "# Reading from wind_turbine_20220114.csv\n",
    "wind_turbine_df=pd.read_csv('data/wind_turbine_20220114.csv',engine='python',encoding='latin1')\n",
    "# Reading from Operators data.xlsx - Sheet: Page 1 Generation and Fuel Data\n",
    "df_dict=pd.read_excel('data/Operators data.xlsx',sheet_name=['Page 1 Generation and Fuel Data'],header=[4,5])\n",
    "# Extract Page 1 Generation and Fuel Data from datafram dictionary\n",
    "operator_df=df_dict['Page 1 Generation and Fuel Data']\n",
    "# Clean the header\n",
    "clean_header(operator_df)"
   ]
  },
  {
   "attachments": {},
   "cell_type": "markdown",
   "metadata": {},
   "source": [
    "### Exploring Wind Turbine Data"
   ]
  },
  {
   "cell_type": "code",
   "execution_count": 9,
   "metadata": {},
   "outputs": [
    {
     "data": {
      "application/vnd.microsoft.datawrangler.viewer.v0+json": {
       "columns": [
        {
         "name": "index",
         "rawType": "int64",
         "type": "integer"
        },
        {
         "name": "case_id",
         "rawType": "int64",
         "type": "integer"
        },
        {
         "name": "faa_ors",
         "rawType": "object",
         "type": "unknown"
        },
        {
         "name": "faa_asn",
         "rawType": "object",
         "type": "unknown"
        },
        {
         "name": "usgs_pr_id",
         "rawType": "float64",
         "type": "float"
        },
        {
         "name": "eia_id",
         "rawType": "float64",
         "type": "float"
        },
        {
         "name": "t_state",
         "rawType": "object",
         "type": "string"
        },
        {
         "name": "t_county",
         "rawType": "object",
         "type": "string"
        },
        {
         "name": "t_fips",
         "rawType": "int64",
         "type": "integer"
        },
        {
         "name": "p_name",
         "rawType": "object",
         "type": "string"
        },
        {
         "name": "p_year",
         "rawType": "float64",
         "type": "float"
        },
        {
         "name": "p_tnum",
         "rawType": "int64",
         "type": "integer"
        },
        {
         "name": "p_cap",
         "rawType": "float64",
         "type": "float"
        },
        {
         "name": "t_manu",
         "rawType": "object",
         "type": "string"
        },
        {
         "name": "t_model",
         "rawType": "object",
         "type": "unknown"
        },
        {
         "name": "t_cap",
         "rawType": "float64",
         "type": "float"
        },
        {
         "name": "t_hh",
         "rawType": "float64",
         "type": "float"
        },
        {
         "name": "t_rd",
         "rawType": "float64",
         "type": "float"
        },
        {
         "name": "t_rsa",
         "rawType": "float64",
         "type": "float"
        },
        {
         "name": "t_ttlh",
         "rawType": "float64",
         "type": "float"
        },
        {
         "name": "retrofit",
         "rawType": "int64",
         "type": "integer"
        },
        {
         "name": "retrofit_year",
         "rawType": "float64",
         "type": "float"
        },
        {
         "name": "t_conf_atr",
         "rawType": "int64",
         "type": "integer"
        },
        {
         "name": "t_conf_loc",
         "rawType": "int64",
         "type": "integer"
        },
        {
         "name": "t_img_date",
         "rawType": "object",
         "type": "string"
        },
        {
         "name": "t_img_srce",
         "rawType": "object",
         "type": "string"
        },
        {
         "name": "xlong",
         "rawType": "float64",
         "type": "float"
        },
        {
         "name": "ylat",
         "rawType": "float64",
         "type": "float"
        }
       ],
       "conversionMethod": "pd.DataFrame",
       "ref": "bd01abff-622a-4453-bf85-9dc3422c777b",
       "rows": [
        [
         "0",
         "3072661",
         null,
         null,
         "5149.0",
         "52161.0",
         "CA",
         "Kern County",
         "6029",
         "251 Wind",
         "1987.0",
         "194",
         "18.43",
         "Vestas",
         null,
         "95.0",
         null,
         null,
         null,
         null,
         "0",
         null,
         "2",
         "3",
         "5/8/2018",
         "Digital Globe",
         "-118.363762",
         "35.077908"
        ],
        [
         "1",
         "3072695",
         null,
         null,
         "5143.0",
         "52161.0",
         "CA",
         "Kern County",
         "6029",
         "251 Wind",
         "1987.0",
         "194",
         "18.43",
         "Vestas",
         null,
         "95.0",
         null,
         null,
         null,
         null,
         "0",
         null,
         "2",
         "3",
         "5/8/2018",
         "Digital Globe",
         "-118.36441",
         "35.077435"
        ],
        [
         "2",
         "3072704",
         null,
         null,
         "5146.0",
         "52161.0",
         "CA",
         "Kern County",
         "6029",
         "251 Wind",
         "1987.0",
         "194",
         "18.43",
         "Vestas",
         null,
         "95.0",
         null,
         null,
         null,
         null,
         "0",
         null,
         "2",
         "3",
         "5/8/2018",
         "Digital Globe",
         "-118.364197",
         "35.077644"
        ],
        [
         "3",
         "3063272",
         "19-028134",
         "2014-WTE-4084-OE",
         null,
         null,
         "IA",
         "Story County",
         "19169",
         "30 MW Iowa DG Portfolio",
         "2017.0",
         "10",
         "30.0",
         "Nordex",
         "AW125/3000",
         "3000.0",
         "87.5",
         "125.0",
         "12271.85",
         "150.0",
         "0",
         null,
         "3",
         "3",
         "4/24/2017",
         "Digital Globe",
         "-93.430367",
         "42.028233"
        ],
        [
         "4",
         "3053390",
         "19-028015",
         "2015-WTE-6386-OE",
         null,
         null,
         "IA",
         "Boone County",
         "19015",
         "30 MW Iowa DG Portfolio",
         "2017.0",
         "10",
         "30.0",
         "Nordex",
         "AW125/3000",
         "3000.0",
         "87.5",
         "125.0",
         "12271.85",
         "150.0",
         "0",
         null,
         "3",
         "3",
         "6/1/2017",
         "Digital Globe",
         "-93.700424",
         "41.977608"
        ]
       ],
       "shape": {
        "columns": 27,
        "rows": 5
       }
      },
      "text/html": [
       "<div>\n",
       "<style scoped>\n",
       "    .dataframe tbody tr th:only-of-type {\n",
       "        vertical-align: middle;\n",
       "    }\n",
       "\n",
       "    .dataframe tbody tr th {\n",
       "        vertical-align: top;\n",
       "    }\n",
       "\n",
       "    .dataframe thead th {\n",
       "        text-align: right;\n",
       "    }\n",
       "</style>\n",
       "<table border=\"1\" class=\"dataframe\">\n",
       "  <thead>\n",
       "    <tr style=\"text-align: right;\">\n",
       "      <th></th>\n",
       "      <th>case_id</th>\n",
       "      <th>faa_ors</th>\n",
       "      <th>faa_asn</th>\n",
       "      <th>usgs_pr_id</th>\n",
       "      <th>eia_id</th>\n",
       "      <th>t_state</th>\n",
       "      <th>t_county</th>\n",
       "      <th>t_fips</th>\n",
       "      <th>p_name</th>\n",
       "      <th>p_year</th>\n",
       "      <th>...</th>\n",
       "      <th>t_rsa</th>\n",
       "      <th>t_ttlh</th>\n",
       "      <th>retrofit</th>\n",
       "      <th>retrofit_year</th>\n",
       "      <th>t_conf_atr</th>\n",
       "      <th>t_conf_loc</th>\n",
       "      <th>t_img_date</th>\n",
       "      <th>t_img_srce</th>\n",
       "      <th>xlong</th>\n",
       "      <th>ylat</th>\n",
       "    </tr>\n",
       "  </thead>\n",
       "  <tbody>\n",
       "    <tr>\n",
       "      <th>0</th>\n",
       "      <td>3072661</td>\n",
       "      <td>NaN</td>\n",
       "      <td>NaN</td>\n",
       "      <td>5149.0</td>\n",
       "      <td>52161.0</td>\n",
       "      <td>CA</td>\n",
       "      <td>Kern County</td>\n",
       "      <td>6029</td>\n",
       "      <td>251 Wind</td>\n",
       "      <td>1987.0</td>\n",
       "      <td>...</td>\n",
       "      <td>NaN</td>\n",
       "      <td>NaN</td>\n",
       "      <td>0</td>\n",
       "      <td>NaN</td>\n",
       "      <td>2</td>\n",
       "      <td>3</td>\n",
       "      <td>5/8/2018</td>\n",
       "      <td>Digital Globe</td>\n",
       "      <td>-118.363762</td>\n",
       "      <td>35.077908</td>\n",
       "    </tr>\n",
       "    <tr>\n",
       "      <th>1</th>\n",
       "      <td>3072695</td>\n",
       "      <td>NaN</td>\n",
       "      <td>NaN</td>\n",
       "      <td>5143.0</td>\n",
       "      <td>52161.0</td>\n",
       "      <td>CA</td>\n",
       "      <td>Kern County</td>\n",
       "      <td>6029</td>\n",
       "      <td>251 Wind</td>\n",
       "      <td>1987.0</td>\n",
       "      <td>...</td>\n",
       "      <td>NaN</td>\n",
       "      <td>NaN</td>\n",
       "      <td>0</td>\n",
       "      <td>NaN</td>\n",
       "      <td>2</td>\n",
       "      <td>3</td>\n",
       "      <td>5/8/2018</td>\n",
       "      <td>Digital Globe</td>\n",
       "      <td>-118.364410</td>\n",
       "      <td>35.077435</td>\n",
       "    </tr>\n",
       "    <tr>\n",
       "      <th>2</th>\n",
       "      <td>3072704</td>\n",
       "      <td>NaN</td>\n",
       "      <td>NaN</td>\n",
       "      <td>5146.0</td>\n",
       "      <td>52161.0</td>\n",
       "      <td>CA</td>\n",
       "      <td>Kern County</td>\n",
       "      <td>6029</td>\n",
       "      <td>251 Wind</td>\n",
       "      <td>1987.0</td>\n",
       "      <td>...</td>\n",
       "      <td>NaN</td>\n",
       "      <td>NaN</td>\n",
       "      <td>0</td>\n",
       "      <td>NaN</td>\n",
       "      <td>2</td>\n",
       "      <td>3</td>\n",
       "      <td>5/8/2018</td>\n",
       "      <td>Digital Globe</td>\n",
       "      <td>-118.364197</td>\n",
       "      <td>35.077644</td>\n",
       "    </tr>\n",
       "    <tr>\n",
       "      <th>3</th>\n",
       "      <td>3063272</td>\n",
       "      <td>19-028134</td>\n",
       "      <td>2014-WTE-4084-OE</td>\n",
       "      <td>NaN</td>\n",
       "      <td>NaN</td>\n",
       "      <td>IA</td>\n",
       "      <td>Story County</td>\n",
       "      <td>19169</td>\n",
       "      <td>30 MW Iowa DG Portfolio</td>\n",
       "      <td>2017.0</td>\n",
       "      <td>...</td>\n",
       "      <td>12271.85</td>\n",
       "      <td>150.0</td>\n",
       "      <td>0</td>\n",
       "      <td>NaN</td>\n",
       "      <td>3</td>\n",
       "      <td>3</td>\n",
       "      <td>4/24/2017</td>\n",
       "      <td>Digital Globe</td>\n",
       "      <td>-93.430367</td>\n",
       "      <td>42.028233</td>\n",
       "    </tr>\n",
       "    <tr>\n",
       "      <th>4</th>\n",
       "      <td>3053390</td>\n",
       "      <td>19-028015</td>\n",
       "      <td>2015-WTE-6386-OE</td>\n",
       "      <td>NaN</td>\n",
       "      <td>NaN</td>\n",
       "      <td>IA</td>\n",
       "      <td>Boone County</td>\n",
       "      <td>19015</td>\n",
       "      <td>30 MW Iowa DG Portfolio</td>\n",
       "      <td>2017.0</td>\n",
       "      <td>...</td>\n",
       "      <td>12271.85</td>\n",
       "      <td>150.0</td>\n",
       "      <td>0</td>\n",
       "      <td>NaN</td>\n",
       "      <td>3</td>\n",
       "      <td>3</td>\n",
       "      <td>6/1/2017</td>\n",
       "      <td>Digital Globe</td>\n",
       "      <td>-93.700424</td>\n",
       "      <td>41.977608</td>\n",
       "    </tr>\n",
       "  </tbody>\n",
       "</table>\n",
       "<p>5 rows × 27 columns</p>\n",
       "</div>"
      ],
      "text/plain": [
       "   case_id    faa_ors           faa_asn  usgs_pr_id   eia_id t_state  \\\n",
       "0  3072661        NaN               NaN      5149.0  52161.0      CA   \n",
       "1  3072695        NaN               NaN      5143.0  52161.0      CA   \n",
       "2  3072704        NaN               NaN      5146.0  52161.0      CA   \n",
       "3  3063272  19-028134  2014-WTE-4084-OE         NaN      NaN      IA   \n",
       "4  3053390  19-028015  2015-WTE-6386-OE         NaN      NaN      IA   \n",
       "\n",
       "       t_county  t_fips                   p_name  p_year  ...     t_rsa  \\\n",
       "0   Kern County    6029                 251 Wind  1987.0  ...       NaN   \n",
       "1   Kern County    6029                 251 Wind  1987.0  ...       NaN   \n",
       "2   Kern County    6029                 251 Wind  1987.0  ...       NaN   \n",
       "3  Story County   19169  30 MW Iowa DG Portfolio  2017.0  ...  12271.85   \n",
       "4  Boone County   19015  30 MW Iowa DG Portfolio  2017.0  ...  12271.85   \n",
       "\n",
       "   t_ttlh retrofit retrofit_year  t_conf_atr  t_conf_loc  t_img_date  \\\n",
       "0     NaN        0           NaN           2           3    5/8/2018   \n",
       "1     NaN        0           NaN           2           3    5/8/2018   \n",
       "2     NaN        0           NaN           2           3    5/8/2018   \n",
       "3   150.0        0           NaN           3           3   4/24/2017   \n",
       "4   150.0        0           NaN           3           3    6/1/2017   \n",
       "\n",
       "      t_img_srce       xlong       ylat  \n",
       "0  Digital Globe -118.363762  35.077908  \n",
       "1  Digital Globe -118.364410  35.077435  \n",
       "2  Digital Globe -118.364197  35.077644  \n",
       "3  Digital Globe  -93.430367  42.028233  \n",
       "4  Digital Globe  -93.700424  41.977608  \n",
       "\n",
       "[5 rows x 27 columns]"
      ]
     },
     "execution_count": 9,
     "metadata": {},
     "output_type": "execute_result"
    }
   ],
   "source": [
    "# Display the first 5 rows\n",
    "wind_turbine_df.head()"
   ]
  },
  {
   "cell_type": "code",
   "execution_count": 10,
   "metadata": {},
   "outputs": [
    {
     "name": "stdout",
     "output_type": "stream",
     "text": [
      "Total of 27 columns\n",
      "['case_id', 'faa_ors', 'faa_asn', 'usgs_pr_id', 'eia_id', 't_state', 't_county', 't_fips', 'p_name', 'p_year', 'p_tnum', 'p_cap', 't_manu', 't_model', 't_cap', 't_hh', 't_rd', 't_rsa', 't_ttlh', 'retrofit', 'retrofit_year', 't_conf_atr', 't_conf_loc', 't_img_date', 't_img_srce', 'xlong', 'ylat']\n"
     ]
    }
   ],
   "source": [
    "# Display the column names\n",
    "print(f'Total of {wind_turbine_df.shape[1]} columns\\n{wind_turbine_df.columns.to_list()}')"
   ]
  },
  {
   "cell_type": "code",
   "execution_count": 11,
   "metadata": {},
   "outputs": [
    {
     "name": "stdout",
     "output_type": "stream",
     "text": [
      "eia_id : Plant ID from Energy Information Administration (EIA).\n"
     ]
    }
   ],
   "source": [
    "# To understand the column names - 0 refers to wind_turbine_df  , 1 refers to operator_df \n",
    "dictionary(0,'eia_id')"
   ]
  },
  {
   "cell_type": "code",
   "execution_count": 12,
   "metadata": {},
   "outputs": [
    {
     "name": "stdout",
     "output_type": "stream",
     "text": [
      "Size of data set (Rows , Columns):\n",
      " (70808, 27)\n",
      "\n",
      "Number of null values:\n",
      "5792 \tNull values (8.18%) in faa_ors (object) with 64999 unique value(s)\n",
      "5122 \tNull values (7.234%) in faa_asn (object) with 65275 unique value(s)\n",
      "32545 \tNull values (45.962%) in usgs_pr_id (float64) with 38241 unique value(s)\n",
      "5793 \tNull values (8.181%) in eia_id (float64) with 1193 unique value(s)\n",
      "613 \tNull values (0.866%) in p_year (float64) with 40 unique value(s)\n",
      "4482 \tNull values (6.33%) in p_cap (float64) with 718 unique value(s)\n",
      "5640 \tNull values (7.965%) in t_manu (object) with 63 unique value(s)\n",
      "5777 \tNull values (8.159%) in t_model (object) with 315 unique value(s)\n",
      "5480 \tNull values (7.739%) in t_cap (float64) with 95 unique value(s)\n",
      "6180 \tNull values (8.728%) in t_hh (float64) with 94 unique value(s)\n",
      "5934 \tNull values (8.38%) in t_rd (float64) with 102 unique value(s)\n",
      "5934 \tNull values (8.38%) in t_rsa (float64) with 103 unique value(s)\n",
      "6180 \tNull values (8.728%) in t_ttlh (float64) with 218 unique value(s)\n",
      "64822 \tNull values (91.546%) in retrofit_year (float64) with 5 unique value(s)\n",
      "8316 \tNull values (11.744%) in t_img_date (object) with 1200 unique value(s)\n"
     ]
    }
   ],
   "source": [
    "# Check for columns with null values (To check all columns send use: check_for_null(wind_turbine_df,True) )\n",
    "print('Size of data set (Rows , Columns):\\n',wind_turbine_df.shape)\n",
    "print('\\nNumber of null values:')\n",
    "check(wind_turbine_df)"
   ]
  },
  {
   "cell_type": "code",
   "execution_count": 13,
   "metadata": {},
   "outputs": [
    {
     "data": {
      "application/vnd.microsoft.datawrangler.viewer.v0+json": {
       "columns": [
        {
         "name": "index",
         "rawType": "object",
         "type": "string"
        },
        {
         "name": "case_id",
         "rawType": "float64",
         "type": "float"
        },
        {
         "name": "usgs_pr_id",
         "rawType": "float64",
         "type": "float"
        },
        {
         "name": "eia_id",
         "rawType": "float64",
         "type": "float"
        },
        {
         "name": "t_fips",
         "rawType": "float64",
         "type": "float"
        },
        {
         "name": "p_year",
         "rawType": "float64",
         "type": "float"
        },
        {
         "name": "p_tnum",
         "rawType": "float64",
         "type": "float"
        },
        {
         "name": "p_cap",
         "rawType": "float64",
         "type": "float"
        },
        {
         "name": "t_cap",
         "rawType": "float64",
         "type": "float"
        },
        {
         "name": "t_hh",
         "rawType": "float64",
         "type": "float"
        },
        {
         "name": "t_rd",
         "rawType": "float64",
         "type": "float"
        },
        {
         "name": "t_rsa",
         "rawType": "float64",
         "type": "float"
        },
        {
         "name": "t_ttlh",
         "rawType": "float64",
         "type": "float"
        },
        {
         "name": "retrofit",
         "rawType": "float64",
         "type": "float"
        },
        {
         "name": "retrofit_year",
         "rawType": "float64",
         "type": "float"
        },
        {
         "name": "t_conf_atr",
         "rawType": "float64",
         "type": "float"
        },
        {
         "name": "t_conf_loc",
         "rawType": "float64",
         "type": "float"
        },
        {
         "name": "xlong",
         "rawType": "float64",
         "type": "float"
        },
        {
         "name": "ylat",
         "rawType": "float64",
         "type": "float"
        }
       ],
       "conversionMethod": "pd.DataFrame",
       "ref": "769e5249-3c72-47c3-9cbd-5e694d1965cd",
       "rows": [
        [
         "count",
         "70808.0",
         "38263.0",
         "65015.0",
         "70808.0",
         "70195.0",
         "70808.0",
         "66326.0",
         "65328.0",
         "64628.0",
         "64874.0",
         "64874.0",
         "64628.0",
         "70808.0",
         "5986.0",
         "70808.0",
         "70808.0",
         "70808.0",
         "70808.0"
        ],
        [
         "mean",
         "3058490.32558468",
         "27523.587225256775",
         "57877.751641928786",
         "32244.494096712235",
         "2011.6506588788375",
         "104.36055247994577",
         "170.17612755178962",
         "1963.5341507469998",
         "81.05457077427741",
         "95.66371735980516",
         "7618.500656503377",
         "129.05059262239274",
         "0.08453847022935261",
         "2018.6403274306715",
         "2.766509433962264",
         "2.8837843181561404",
         "-100.08645744445543",
         "38.4795027018416"
        ],
        [
         "std",
         "32423.766130491713",
         "13564.44659270839",
         "5984.516486912782",
         "15498.246596266343",
         "7.879098841244469",
         "93.95478632101775",
         "104.47869250124391",
         "717.0679119876586",
         "12.028726248167029",
         "23.424345676488695",
         "3309.22928232591",
         "22.18598147723746",
         "0.27819563310008455",
         "1.1122936449461076",
         "0.5971945237435987",
         "0.46232593208132583",
         "11.141024691302032",
         "5.4297295022468175"
        ],
        [
         "min",
         "3000001.0",
         "1.0",
         "90.0",
         "2013.0",
         "1981.0",
         "1.0",
         "0.05",
         "50.0",
         "19.0",
         "13.4",
         "141.03",
         "30.4",
         "0.0",
         "2015.0",
         "1.0",
         "1.0",
         "-171.713074",
         "13.389381"
        ],
        [
         "25%",
         "3032229.75",
         "18625.5",
         "56763.0",
         "19081.0",
         "2008.0",
         "56.0",
         "99.0",
         "1500.0",
         "80.0",
         "82.0",
         "5281.02",
         "121.0",
         "0.0",
         "2018.0",
         "3.0",
         "3.0",
         "-103.03715525000001",
         "34.428042500000004"
        ],
        [
         "50%",
         "3050978.5",
         "28598.0",
         "57752.0",
         "35057.0",
         "2012.0",
         "85.0",
         "158.0",
         "2000.0",
         "80.0",
         "100.0",
         "7853.98",
         "130.1",
         "0.0",
         "2019.0",
         "3.0",
         "3.0",
         "-99.39376050000001",
         "39.0524425"
        ],
        [
         "75%",
         "3090448.25",
         "38719.5",
         "60338.0",
         "48141.0",
         "2018.0",
         "121.0",
         "211.22",
         "2300.0",
         "87.0",
         "110.0",
         "9503.32",
         "145.1",
         "0.0",
         "2020.0",
         "3.0",
         "3.0",
         "-95.20249925",
         "42.81281"
        ],
        [
         "max",
         "3118671.0",
         "49135.0",
         "65270.0",
         "72133.0",
         "2021.0",
         "731.0",
         "525.02",
         "6000.0",
         "131.0",
         "155.0",
         "18869.19",
         "199.6",
         "1.0",
         "2020.0",
         "3.0",
         "3.0",
         "144.722656",
         "66.839905"
        ]
       ],
       "shape": {
        "columns": 18,
        "rows": 8
       }
      },
      "text/html": [
       "<div>\n",
       "<style scoped>\n",
       "    .dataframe tbody tr th:only-of-type {\n",
       "        vertical-align: middle;\n",
       "    }\n",
       "\n",
       "    .dataframe tbody tr th {\n",
       "        vertical-align: top;\n",
       "    }\n",
       "\n",
       "    .dataframe thead th {\n",
       "        text-align: right;\n",
       "    }\n",
       "</style>\n",
       "<table border=\"1\" class=\"dataframe\">\n",
       "  <thead>\n",
       "    <tr style=\"text-align: right;\">\n",
       "      <th></th>\n",
       "      <th>case_id</th>\n",
       "      <th>usgs_pr_id</th>\n",
       "      <th>eia_id</th>\n",
       "      <th>t_fips</th>\n",
       "      <th>p_year</th>\n",
       "      <th>p_tnum</th>\n",
       "      <th>p_cap</th>\n",
       "      <th>t_cap</th>\n",
       "      <th>t_hh</th>\n",
       "      <th>t_rd</th>\n",
       "      <th>t_rsa</th>\n",
       "      <th>t_ttlh</th>\n",
       "      <th>retrofit</th>\n",
       "      <th>retrofit_year</th>\n",
       "      <th>t_conf_atr</th>\n",
       "      <th>t_conf_loc</th>\n",
       "      <th>xlong</th>\n",
       "      <th>ylat</th>\n",
       "    </tr>\n",
       "  </thead>\n",
       "  <tbody>\n",
       "    <tr>\n",
       "      <th>count</th>\n",
       "      <td>7.080800e+04</td>\n",
       "      <td>38263.000000</td>\n",
       "      <td>65015.000000</td>\n",
       "      <td>70808.000000</td>\n",
       "      <td>70195.000000</td>\n",
       "      <td>70808.000000</td>\n",
       "      <td>66326.000000</td>\n",
       "      <td>65328.000000</td>\n",
       "      <td>64628.000000</td>\n",
       "      <td>64874.000000</td>\n",
       "      <td>64874.000000</td>\n",
       "      <td>64628.000000</td>\n",
       "      <td>70808.000000</td>\n",
       "      <td>5986.000000</td>\n",
       "      <td>70808.000000</td>\n",
       "      <td>70808.000000</td>\n",
       "      <td>70808.000000</td>\n",
       "      <td>70808.000000</td>\n",
       "    </tr>\n",
       "    <tr>\n",
       "      <th>mean</th>\n",
       "      <td>3.058490e+06</td>\n",
       "      <td>27523.587225</td>\n",
       "      <td>57877.751642</td>\n",
       "      <td>32244.494097</td>\n",
       "      <td>2011.650659</td>\n",
       "      <td>104.360552</td>\n",
       "      <td>170.176128</td>\n",
       "      <td>1963.534151</td>\n",
       "      <td>81.054571</td>\n",
       "      <td>95.663717</td>\n",
       "      <td>7618.500657</td>\n",
       "      <td>129.050593</td>\n",
       "      <td>0.084538</td>\n",
       "      <td>2018.640327</td>\n",
       "      <td>2.766509</td>\n",
       "      <td>2.883784</td>\n",
       "      <td>-100.086457</td>\n",
       "      <td>38.479503</td>\n",
       "    </tr>\n",
       "    <tr>\n",
       "      <th>std</th>\n",
       "      <td>3.242377e+04</td>\n",
       "      <td>13564.446593</td>\n",
       "      <td>5984.516487</td>\n",
       "      <td>15498.246596</td>\n",
       "      <td>7.879099</td>\n",
       "      <td>93.954786</td>\n",
       "      <td>104.478693</td>\n",
       "      <td>717.067912</td>\n",
       "      <td>12.028726</td>\n",
       "      <td>23.424346</td>\n",
       "      <td>3309.229282</td>\n",
       "      <td>22.185981</td>\n",
       "      <td>0.278196</td>\n",
       "      <td>1.112294</td>\n",
       "      <td>0.597195</td>\n",
       "      <td>0.462326</td>\n",
       "      <td>11.141025</td>\n",
       "      <td>5.429730</td>\n",
       "    </tr>\n",
       "    <tr>\n",
       "      <th>min</th>\n",
       "      <td>3.000001e+06</td>\n",
       "      <td>1.000000</td>\n",
       "      <td>90.000000</td>\n",
       "      <td>2013.000000</td>\n",
       "      <td>1981.000000</td>\n",
       "      <td>1.000000</td>\n",
       "      <td>0.050000</td>\n",
       "      <td>50.000000</td>\n",
       "      <td>19.000000</td>\n",
       "      <td>13.400000</td>\n",
       "      <td>141.030000</td>\n",
       "      <td>30.400000</td>\n",
       "      <td>0.000000</td>\n",
       "      <td>2015.000000</td>\n",
       "      <td>1.000000</td>\n",
       "      <td>1.000000</td>\n",
       "      <td>-171.713074</td>\n",
       "      <td>13.389381</td>\n",
       "    </tr>\n",
       "    <tr>\n",
       "      <th>25%</th>\n",
       "      <td>3.032230e+06</td>\n",
       "      <td>18625.500000</td>\n",
       "      <td>56763.000000</td>\n",
       "      <td>19081.000000</td>\n",
       "      <td>2008.000000</td>\n",
       "      <td>56.000000</td>\n",
       "      <td>99.000000</td>\n",
       "      <td>1500.000000</td>\n",
       "      <td>80.000000</td>\n",
       "      <td>82.000000</td>\n",
       "      <td>5281.020000</td>\n",
       "      <td>121.000000</td>\n",
       "      <td>0.000000</td>\n",
       "      <td>2018.000000</td>\n",
       "      <td>3.000000</td>\n",
       "      <td>3.000000</td>\n",
       "      <td>-103.037155</td>\n",
       "      <td>34.428043</td>\n",
       "    </tr>\n",
       "    <tr>\n",
       "      <th>50%</th>\n",
       "      <td>3.050978e+06</td>\n",
       "      <td>28598.000000</td>\n",
       "      <td>57752.000000</td>\n",
       "      <td>35057.000000</td>\n",
       "      <td>2012.000000</td>\n",
       "      <td>85.000000</td>\n",
       "      <td>158.000000</td>\n",
       "      <td>2000.000000</td>\n",
       "      <td>80.000000</td>\n",
       "      <td>100.000000</td>\n",
       "      <td>7853.980000</td>\n",
       "      <td>130.100000</td>\n",
       "      <td>0.000000</td>\n",
       "      <td>2019.000000</td>\n",
       "      <td>3.000000</td>\n",
       "      <td>3.000000</td>\n",
       "      <td>-99.393761</td>\n",
       "      <td>39.052442</td>\n",
       "    </tr>\n",
       "    <tr>\n",
       "      <th>75%</th>\n",
       "      <td>3.090448e+06</td>\n",
       "      <td>38719.500000</td>\n",
       "      <td>60338.000000</td>\n",
       "      <td>48141.000000</td>\n",
       "      <td>2018.000000</td>\n",
       "      <td>121.000000</td>\n",
       "      <td>211.220000</td>\n",
       "      <td>2300.000000</td>\n",
       "      <td>87.000000</td>\n",
       "      <td>110.000000</td>\n",
       "      <td>9503.320000</td>\n",
       "      <td>145.100000</td>\n",
       "      <td>0.000000</td>\n",
       "      <td>2020.000000</td>\n",
       "      <td>3.000000</td>\n",
       "      <td>3.000000</td>\n",
       "      <td>-95.202499</td>\n",
       "      <td>42.812810</td>\n",
       "    </tr>\n",
       "    <tr>\n",
       "      <th>max</th>\n",
       "      <td>3.118671e+06</td>\n",
       "      <td>49135.000000</td>\n",
       "      <td>65270.000000</td>\n",
       "      <td>72133.000000</td>\n",
       "      <td>2021.000000</td>\n",
       "      <td>731.000000</td>\n",
       "      <td>525.020000</td>\n",
       "      <td>6000.000000</td>\n",
       "      <td>131.000000</td>\n",
       "      <td>155.000000</td>\n",
       "      <td>18869.190000</td>\n",
       "      <td>199.600000</td>\n",
       "      <td>1.000000</td>\n",
       "      <td>2020.000000</td>\n",
       "      <td>3.000000</td>\n",
       "      <td>3.000000</td>\n",
       "      <td>144.722656</td>\n",
       "      <td>66.839905</td>\n",
       "    </tr>\n",
       "  </tbody>\n",
       "</table>\n",
       "</div>"
      ],
      "text/plain": [
       "            case_id    usgs_pr_id        eia_id        t_fips        p_year  \\\n",
       "count  7.080800e+04  38263.000000  65015.000000  70808.000000  70195.000000   \n",
       "mean   3.058490e+06  27523.587225  57877.751642  32244.494097   2011.650659   \n",
       "std    3.242377e+04  13564.446593   5984.516487  15498.246596      7.879099   \n",
       "min    3.000001e+06      1.000000     90.000000   2013.000000   1981.000000   \n",
       "25%    3.032230e+06  18625.500000  56763.000000  19081.000000   2008.000000   \n",
       "50%    3.050978e+06  28598.000000  57752.000000  35057.000000   2012.000000   \n",
       "75%    3.090448e+06  38719.500000  60338.000000  48141.000000   2018.000000   \n",
       "max    3.118671e+06  49135.000000  65270.000000  72133.000000   2021.000000   \n",
       "\n",
       "             p_tnum         p_cap         t_cap          t_hh          t_rd  \\\n",
       "count  70808.000000  66326.000000  65328.000000  64628.000000  64874.000000   \n",
       "mean     104.360552    170.176128   1963.534151     81.054571     95.663717   \n",
       "std       93.954786    104.478693    717.067912     12.028726     23.424346   \n",
       "min        1.000000      0.050000     50.000000     19.000000     13.400000   \n",
       "25%       56.000000     99.000000   1500.000000     80.000000     82.000000   \n",
       "50%       85.000000    158.000000   2000.000000     80.000000    100.000000   \n",
       "75%      121.000000    211.220000   2300.000000     87.000000    110.000000   \n",
       "max      731.000000    525.020000   6000.000000    131.000000    155.000000   \n",
       "\n",
       "              t_rsa        t_ttlh      retrofit  retrofit_year    t_conf_atr  \\\n",
       "count  64874.000000  64628.000000  70808.000000    5986.000000  70808.000000   \n",
       "mean    7618.500657    129.050593      0.084538    2018.640327      2.766509   \n",
       "std     3309.229282     22.185981      0.278196       1.112294      0.597195   \n",
       "min      141.030000     30.400000      0.000000    2015.000000      1.000000   \n",
       "25%     5281.020000    121.000000      0.000000    2018.000000      3.000000   \n",
       "50%     7853.980000    130.100000      0.000000    2019.000000      3.000000   \n",
       "75%     9503.320000    145.100000      0.000000    2020.000000      3.000000   \n",
       "max    18869.190000    199.600000      1.000000    2020.000000      3.000000   \n",
       "\n",
       "         t_conf_loc         xlong          ylat  \n",
       "count  70808.000000  70808.000000  70808.000000  \n",
       "mean       2.883784   -100.086457     38.479503  \n",
       "std        0.462326     11.141025      5.429730  \n",
       "min        1.000000   -171.713074     13.389381  \n",
       "25%        3.000000   -103.037155     34.428043  \n",
       "50%        3.000000    -99.393761     39.052442  \n",
       "75%        3.000000    -95.202499     42.812810  \n",
       "max        3.000000    144.722656     66.839905  "
      ]
     },
     "execution_count": 13,
     "metadata": {},
     "output_type": "execute_result"
    }
   ],
   "source": [
    "# Summary Statistics\n",
    "wind_turbine_df.describe()"
   ]
  },
  {
   "cell_type": "code",
   "execution_count": 14,
   "metadata": {},
   "outputs": [
    {
     "ename": "ValueError",
     "evalue": "could not convert string to float: '19-028134'",
     "output_type": "error",
     "traceback": [
      "\u001b[1;31m---------------------------------------------------------------------------\u001b[0m",
      "\u001b[1;31mValueError\u001b[0m                                Traceback (most recent call last)",
      "Cell \u001b[1;32mIn[14], line 2\u001b[0m\n\u001b[0;32m      1\u001b[0m \u001b[38;5;66;03m# Correlation Table\u001b[39;00m\n\u001b[1;32m----> 2\u001b[0m fig \u001b[38;5;241m=\u001b[39m px\u001b[38;5;241m.\u001b[39mimshow(\u001b[43mwind_turbine_df\u001b[49m\u001b[38;5;241;43m.\u001b[39;49m\u001b[43mcorr\u001b[49m\u001b[43m(\u001b[49m\u001b[43m)\u001b[49m, text_auto\u001b[38;5;241m=\u001b[39m\u001b[38;5;28;01mTrue\u001b[39;00m)\n\u001b[0;32m      3\u001b[0m fig\u001b[38;5;241m.\u001b[39mshow()\n",
      "File \u001b[1;32mc:\\Users\\jamal\\anaconda3\\Lib\\site-packages\\pandas\\core\\frame.py:11049\u001b[0m, in \u001b[0;36mDataFrame.corr\u001b[1;34m(self, method, min_periods, numeric_only)\u001b[0m\n\u001b[0;32m  11047\u001b[0m cols \u001b[38;5;241m=\u001b[39m data\u001b[38;5;241m.\u001b[39mcolumns\n\u001b[0;32m  11048\u001b[0m idx \u001b[38;5;241m=\u001b[39m cols\u001b[38;5;241m.\u001b[39mcopy()\n\u001b[1;32m> 11049\u001b[0m mat \u001b[38;5;241m=\u001b[39m \u001b[43mdata\u001b[49m\u001b[38;5;241;43m.\u001b[39;49m\u001b[43mto_numpy\u001b[49m\u001b[43m(\u001b[49m\u001b[43mdtype\u001b[49m\u001b[38;5;241;43m=\u001b[39;49m\u001b[38;5;28;43mfloat\u001b[39;49m\u001b[43m,\u001b[49m\u001b[43m \u001b[49m\u001b[43mna_value\u001b[49m\u001b[38;5;241;43m=\u001b[39;49m\u001b[43mnp\u001b[49m\u001b[38;5;241;43m.\u001b[39;49m\u001b[43mnan\u001b[49m\u001b[43m,\u001b[49m\u001b[43m \u001b[49m\u001b[43mcopy\u001b[49m\u001b[38;5;241;43m=\u001b[39;49m\u001b[38;5;28;43;01mFalse\u001b[39;49;00m\u001b[43m)\u001b[49m\n\u001b[0;32m  11051\u001b[0m \u001b[38;5;28;01mif\u001b[39;00m method \u001b[38;5;241m==\u001b[39m \u001b[38;5;124m\"\u001b[39m\u001b[38;5;124mpearson\u001b[39m\u001b[38;5;124m\"\u001b[39m:\n\u001b[0;32m  11052\u001b[0m     correl \u001b[38;5;241m=\u001b[39m libalgos\u001b[38;5;241m.\u001b[39mnancorr(mat, minp\u001b[38;5;241m=\u001b[39mmin_periods)\n",
      "File \u001b[1;32mc:\\Users\\jamal\\anaconda3\\Lib\\site-packages\\pandas\\core\\frame.py:1993\u001b[0m, in \u001b[0;36mDataFrame.to_numpy\u001b[1;34m(self, dtype, copy, na_value)\u001b[0m\n\u001b[0;32m   1991\u001b[0m \u001b[38;5;28;01mif\u001b[39;00m dtype \u001b[38;5;129;01mis\u001b[39;00m \u001b[38;5;129;01mnot\u001b[39;00m \u001b[38;5;28;01mNone\u001b[39;00m:\n\u001b[0;32m   1992\u001b[0m     dtype \u001b[38;5;241m=\u001b[39m np\u001b[38;5;241m.\u001b[39mdtype(dtype)\n\u001b[1;32m-> 1993\u001b[0m result \u001b[38;5;241m=\u001b[39m \u001b[38;5;28;43mself\u001b[39;49m\u001b[38;5;241;43m.\u001b[39;49m\u001b[43m_mgr\u001b[49m\u001b[38;5;241;43m.\u001b[39;49m\u001b[43mas_array\u001b[49m\u001b[43m(\u001b[49m\u001b[43mdtype\u001b[49m\u001b[38;5;241;43m=\u001b[39;49m\u001b[43mdtype\u001b[49m\u001b[43m,\u001b[49m\u001b[43m \u001b[49m\u001b[43mcopy\u001b[49m\u001b[38;5;241;43m=\u001b[39;49m\u001b[43mcopy\u001b[49m\u001b[43m,\u001b[49m\u001b[43m \u001b[49m\u001b[43mna_value\u001b[49m\u001b[38;5;241;43m=\u001b[39;49m\u001b[43mna_value\u001b[49m\u001b[43m)\u001b[49m\n\u001b[0;32m   1994\u001b[0m \u001b[38;5;28;01mif\u001b[39;00m result\u001b[38;5;241m.\u001b[39mdtype \u001b[38;5;129;01mis\u001b[39;00m \u001b[38;5;129;01mnot\u001b[39;00m dtype:\n\u001b[0;32m   1995\u001b[0m     result \u001b[38;5;241m=\u001b[39m np\u001b[38;5;241m.\u001b[39masarray(result, dtype\u001b[38;5;241m=\u001b[39mdtype)\n",
      "File \u001b[1;32mc:\\Users\\jamal\\anaconda3\\Lib\\site-packages\\pandas\\core\\internals\\managers.py:1694\u001b[0m, in \u001b[0;36mBlockManager.as_array\u001b[1;34m(self, dtype, copy, na_value)\u001b[0m\n\u001b[0;32m   1692\u001b[0m         arr\u001b[38;5;241m.\u001b[39mflags\u001b[38;5;241m.\u001b[39mwriteable \u001b[38;5;241m=\u001b[39m \u001b[38;5;28;01mFalse\u001b[39;00m\n\u001b[0;32m   1693\u001b[0m \u001b[38;5;28;01melse\u001b[39;00m:\n\u001b[1;32m-> 1694\u001b[0m     arr \u001b[38;5;241m=\u001b[39m \u001b[38;5;28;43mself\u001b[39;49m\u001b[38;5;241;43m.\u001b[39;49m\u001b[43m_interleave\u001b[49m\u001b[43m(\u001b[49m\u001b[43mdtype\u001b[49m\u001b[38;5;241;43m=\u001b[39;49m\u001b[43mdtype\u001b[49m\u001b[43m,\u001b[49m\u001b[43m \u001b[49m\u001b[43mna_value\u001b[49m\u001b[38;5;241;43m=\u001b[39;49m\u001b[43mna_value\u001b[49m\u001b[43m)\u001b[49m\n\u001b[0;32m   1695\u001b[0m     \u001b[38;5;66;03m# The underlying data was copied within _interleave, so no need\u001b[39;00m\n\u001b[0;32m   1696\u001b[0m     \u001b[38;5;66;03m# to further copy if copy=True or setting na_value\u001b[39;00m\n\u001b[0;32m   1698\u001b[0m \u001b[38;5;28;01mif\u001b[39;00m na_value \u001b[38;5;129;01mis\u001b[39;00m lib\u001b[38;5;241m.\u001b[39mno_default:\n",
      "File \u001b[1;32mc:\\Users\\jamal\\anaconda3\\Lib\\site-packages\\pandas\\core\\internals\\managers.py:1753\u001b[0m, in \u001b[0;36mBlockManager._interleave\u001b[1;34m(self, dtype, na_value)\u001b[0m\n\u001b[0;32m   1751\u001b[0m     \u001b[38;5;28;01melse\u001b[39;00m:\n\u001b[0;32m   1752\u001b[0m         arr \u001b[38;5;241m=\u001b[39m blk\u001b[38;5;241m.\u001b[39mget_values(dtype)\n\u001b[1;32m-> 1753\u001b[0m     \u001b[43mresult\u001b[49m\u001b[43m[\u001b[49m\u001b[43mrl\u001b[49m\u001b[38;5;241;43m.\u001b[39;49m\u001b[43mindexer\u001b[49m\u001b[43m]\u001b[49m \u001b[38;5;241m=\u001b[39m arr\n\u001b[0;32m   1754\u001b[0m     itemmask[rl\u001b[38;5;241m.\u001b[39mindexer] \u001b[38;5;241m=\u001b[39m \u001b[38;5;241m1\u001b[39m\n\u001b[0;32m   1756\u001b[0m \u001b[38;5;28;01mif\u001b[39;00m \u001b[38;5;129;01mnot\u001b[39;00m itemmask\u001b[38;5;241m.\u001b[39mall():\n",
      "\u001b[1;31mValueError\u001b[0m: could not convert string to float: '19-028134'"
     ]
    }
   ],
   "source": [
    "# Correlation Table\n",
    "fig = px.imshow(wind_turbine_df.corr(), text_auto=True)\n",
    "fig.show()"
   ]
  },
  {
   "attachments": {},
   "cell_type": "markdown",
   "metadata": {},
   "source": [
    "### Exploring Operator Data"
   ]
  },
  {
   "cell_type": "code",
   "execution_count": null,
   "metadata": {},
   "outputs": [
    {
     "data": {
      "text/html": [
       "<div>\n",
       "<style scoped>\n",
       "    .dataframe tbody tr th:only-of-type {\n",
       "        vertical-align: middle;\n",
       "    }\n",
       "\n",
       "    .dataframe tbody tr th {\n",
       "        vertical-align: top;\n",
       "    }\n",
       "\n",
       "    .dataframe thead th {\n",
       "        text-align: right;\n",
       "    }\n",
       "</style>\n",
       "<table border=\"1\" class=\"dataframe\">\n",
       "  <thead>\n",
       "    <tr style=\"text-align: right;\">\n",
       "      <th></th>\n",
       "      <th>Plant Id</th>\n",
       "      <th>Combined Heat And Power Plant</th>\n",
       "      <th>Nuclear Unit Id</th>\n",
       "      <th>Plant Name</th>\n",
       "      <th>Operator Name</th>\n",
       "      <th>Operator Id</th>\n",
       "      <th>Plant State</th>\n",
       "      <th>Census Region</th>\n",
       "      <th>NERC Region</th>\n",
       "      <th>Reserved</th>\n",
       "      <th>...</th>\n",
       "      <th>Electricity Net Generation (MWh) - Netgen September</th>\n",
       "      <th>Electricity Net Generation (MWh) - Netgen October</th>\n",
       "      <th>Electricity Net Generation (MWh) - Netgen November</th>\n",
       "      <th>Electricity Net Generation (MWh) - Netgen December</th>\n",
       "      <th>Year-To-Date - Total Fuel Consumption Quantity</th>\n",
       "      <th>Year-To-Date - Electric Fuel Consumption Quantity</th>\n",
       "      <th>Year-To-Date - Total Fuel Consumption MMBtu</th>\n",
       "      <th>Year-To-Date - Elec Fuel Consumption MMBtu</th>\n",
       "      <th>Year-To-Date - Net Generation (Megawatthours)</th>\n",
       "      <th>Year-To-Date - YEAR</th>\n",
       "    </tr>\n",
       "  </thead>\n",
       "  <tbody>\n",
       "    <tr>\n",
       "      <th>0</th>\n",
       "      <td>1</td>\n",
       "      <td>N</td>\n",
       "      <td>.</td>\n",
       "      <td>Sand Point</td>\n",
       "      <td>TDX Sand Point Generating, LLC</td>\n",
       "      <td>63560</td>\n",
       "      <td>AK</td>\n",
       "      <td>PACN</td>\n",
       "      <td>NaN</td>\n",
       "      <td>NaN</td>\n",
       "      <td>...</td>\n",
       "      <td>23.559</td>\n",
       "      <td>28.982</td>\n",
       "      <td>33.296</td>\n",
       "      <td>30.694</td>\n",
       "      <td>0</td>\n",
       "      <td>0</td>\n",
       "      <td>3045</td>\n",
       "      <td>3045</td>\n",
       "      <td>347.0</td>\n",
       "      <td>2020</td>\n",
       "    </tr>\n",
       "    <tr>\n",
       "      <th>1</th>\n",
       "      <td>2</td>\n",
       "      <td>N</td>\n",
       "      <td>.</td>\n",
       "      <td>Bankhead Dam</td>\n",
       "      <td>Alabama Power Co</td>\n",
       "      <td>195</td>\n",
       "      <td>AL</td>\n",
       "      <td>ESC</td>\n",
       "      <td>SERC</td>\n",
       "      <td>NaN</td>\n",
       "      <td>...</td>\n",
       "      <td>9187.081</td>\n",
       "      <td>9136.794</td>\n",
       "      <td>10514.102</td>\n",
       "      <td>10935.553</td>\n",
       "      <td>0</td>\n",
       "      <td>0</td>\n",
       "      <td>1220939</td>\n",
       "      <td>1220939</td>\n",
       "      <td>139170.0</td>\n",
       "      <td>2020</td>\n",
       "    </tr>\n",
       "    <tr>\n",
       "      <th>2</th>\n",
       "      <td>3</td>\n",
       "      <td>N</td>\n",
       "      <td>.</td>\n",
       "      <td>Barry</td>\n",
       "      <td>Alabama Power Co</td>\n",
       "      <td>195</td>\n",
       "      <td>AL</td>\n",
       "      <td>ESC</td>\n",
       "      <td>SERC</td>\n",
       "      <td>NaN</td>\n",
       "      <td>...</td>\n",
       "      <td>254351</td>\n",
       "      <td>220717</td>\n",
       "      <td>248068</td>\n",
       "      <td>227801</td>\n",
       "      <td>1219642</td>\n",
       "      <td>1219642</td>\n",
       "      <td>1243854</td>\n",
       "      <td>1243854</td>\n",
       "      <td>2633517.0</td>\n",
       "      <td>2020</td>\n",
       "    </tr>\n",
       "    <tr>\n",
       "      <th>3</th>\n",
       "      <td>3</td>\n",
       "      <td>N</td>\n",
       "      <td>.</td>\n",
       "      <td>Barry</td>\n",
       "      <td>Alabama Power Co</td>\n",
       "      <td>195</td>\n",
       "      <td>AL</td>\n",
       "      <td>ESC</td>\n",
       "      <td>SERC</td>\n",
       "      <td>NaN</td>\n",
       "      <td>...</td>\n",
       "      <td>486059</td>\n",
       "      <td>420338</td>\n",
       "      <td>483657</td>\n",
       "      <td>455550</td>\n",
       "      <td>52001418</td>\n",
       "      <td>52001418</td>\n",
       "      <td>53006762</td>\n",
       "      <td>53006762</td>\n",
       "      <td>5084350.0</td>\n",
       "      <td>2020</td>\n",
       "    </tr>\n",
       "    <tr>\n",
       "      <th>4</th>\n",
       "      <td>3</td>\n",
       "      <td>N</td>\n",
       "      <td>.</td>\n",
       "      <td>Barry</td>\n",
       "      <td>Alabama Power Co</td>\n",
       "      <td>195</td>\n",
       "      <td>AL</td>\n",
       "      <td>ESC</td>\n",
       "      <td>SERC</td>\n",
       "      <td>NaN</td>\n",
       "      <td>...</td>\n",
       "      <td>347191.37</td>\n",
       "      <td>424257.74</td>\n",
       "      <td>335569.93</td>\n",
       "      <td>144470.5</td>\n",
       "      <td>1292499</td>\n",
       "      <td>1292499</td>\n",
       "      <td>26188716</td>\n",
       "      <td>26188716</td>\n",
       "      <td>2625834.5</td>\n",
       "      <td>2020</td>\n",
       "    </tr>\n",
       "  </tbody>\n",
       "</table>\n",
       "<p>5 rows × 97 columns</p>\n",
       "</div>"
      ],
      "text/plain": [
       "   Plant Id Combined Heat And Power Plant Nuclear Unit Id    Plant Name  \\\n",
       "0         1                             N               .    Sand Point   \n",
       "1         2                             N               .  Bankhead Dam   \n",
       "2         3                             N               .         Barry   \n",
       "3         3                             N               .         Barry   \n",
       "4         3                             N               .         Barry   \n",
       "\n",
       "                    Operator Name Operator Id Plant State Census Region  \\\n",
       "0  TDX Sand Point Generating, LLC       63560          AK          PACN   \n",
       "1                Alabama Power Co         195          AL           ESC   \n",
       "2                Alabama Power Co         195          AL           ESC   \n",
       "3                Alabama Power Co         195          AL           ESC   \n",
       "4                Alabama Power Co         195          AL           ESC   \n",
       "\n",
       "  NERC Region  Reserved  ...  \\\n",
       "0         NaN       NaN  ...   \n",
       "1        SERC       NaN  ...   \n",
       "2        SERC       NaN  ...   \n",
       "3        SERC       NaN  ...   \n",
       "4        SERC       NaN  ...   \n",
       "\n",
       "   Electricity Net Generation (MWh) - Netgen September  \\\n",
       "0                                             23.559     \n",
       "1                                           9187.081     \n",
       "2                                             254351     \n",
       "3                                             486059     \n",
       "4                                          347191.37     \n",
       "\n",
       "   Electricity Net Generation (MWh) - Netgen October  \\\n",
       "0                                             28.982   \n",
       "1                                           9136.794   \n",
       "2                                             220717   \n",
       "3                                             420338   \n",
       "4                                          424257.74   \n",
       "\n",
       "  Electricity Net Generation (MWh) - Netgen November  \\\n",
       "0                                             33.296   \n",
       "1                                          10514.102   \n",
       "2                                             248068   \n",
       "3                                             483657   \n",
       "4                                          335569.93   \n",
       "\n",
       "  Electricity Net Generation (MWh) - Netgen December  \\\n",
       "0                                             30.694   \n",
       "1                                          10935.553   \n",
       "2                                             227801   \n",
       "3                                             455550   \n",
       "4                                           144470.5   \n",
       "\n",
       "  Year-To-Date - Total Fuel Consumption Quantity  \\\n",
       "0                                              0   \n",
       "1                                              0   \n",
       "2                                        1219642   \n",
       "3                                       52001418   \n",
       "4                                        1292499   \n",
       "\n",
       "  Year-To-Date - Electric Fuel Consumption Quantity  \\\n",
       "0                                                 0   \n",
       "1                                                 0   \n",
       "2                                           1219642   \n",
       "3                                          52001418   \n",
       "4                                           1292499   \n",
       "\n",
       "  Year-To-Date - Total Fuel Consumption MMBtu  \\\n",
       "0                                        3045   \n",
       "1                                     1220939   \n",
       "2                                     1243854   \n",
       "3                                    53006762   \n",
       "4                                    26188716   \n",
       "\n",
       "  Year-To-Date - Elec Fuel Consumption MMBtu  \\\n",
       "0                                       3045   \n",
       "1                                    1220939   \n",
       "2                                    1243854   \n",
       "3                                   53006762   \n",
       "4                                   26188716   \n",
       "\n",
       "  Year-To-Date - Net Generation (Megawatthours) Year-To-Date - YEAR  \n",
       "0                                         347.0                2020  \n",
       "1                                      139170.0                2020  \n",
       "2                                     2633517.0                2020  \n",
       "3                                     5084350.0                2020  \n",
       "4                                     2625834.5                2020  \n",
       "\n",
       "[5 rows x 97 columns]"
      ]
     },
     "execution_count": 16,
     "metadata": {},
     "output_type": "execute_result"
    }
   ],
   "source": [
    "# Display the first 5 rows\n",
    "operator_df.head()"
   ]
  },
  {
   "cell_type": "code",
   "execution_count": null,
   "metadata": {},
   "outputs": [
    {
     "name": "stdout",
     "output_type": "stream",
     "text": [
      "Total of 97 columns\n",
      "['Plant Id', 'Combined Heat And Power Plant', 'Nuclear Unit Id', 'Plant Name', 'Operator Name', 'Operator Id', 'Plant State', 'Census Region', 'NERC Region', 'Reserved', 'NAICS Code', 'EIA Sector Number', 'Sector Name', 'Reported Prime Mover', 'Reported Fuel Type Code', 'AER Fuel Type Code', 'Balancing Authority Code', 'Respondent Frequency', 'Physical Unit Label', 'Total Quantity Consumed In Physical Units (Consumed For Electric Generation And Useful Thermal Output) - Quantity January', 'Total Quantity Consumed In Physical Units (Consumed For Electric Generation And Useful Thermal Output) - Quantity February', 'Total Quantity Consumed In Physical Units (Consumed For Electric Generation And Useful Thermal Output) - Quantity March', 'Total Quantity Consumed In Physical Units (Consumed For Electric Generation And Useful Thermal Output) - Quantity April', 'Total Quantity Consumed In Physical Units (Consumed For Electric Generation And Useful Thermal Output) - Quantity May', 'Total Quantity Consumed In Physical Units (Consumed For Electric Generation And Useful Thermal Output) - Quantity June', 'Total Quantity Consumed In Physical Units (Consumed For Electric Generation And Useful Thermal Output) - Quantity July', 'Total Quantity Consumed In Physical Units (Consumed For Electric Generation And Useful Thermal Output) - Quantity August', 'Total Quantity Consumed In Physical Units (Consumed For Electric Generation And Useful Thermal Output) - Quantity September', 'Total Quantity Consumed In Physical Units (Consumed For Electric Generation And Useful Thermal Output) - Quantity October', 'Total Quantity Consumed In Physical Units (Consumed For Electric Generation And Useful Thermal Output) - Quantity November', 'Total Quantity Consumed In Physical Units (Consumed For Electric Generation And Useful Thermal Output) - Quantity December', 'Quantity Consumed In Physical Units For Electric Generation - Elec_Quantity January', 'Quantity Consumed In Physical Units For Electric Generation - Elec_Quantity February', 'Quantity Consumed In Physical Units For Electric Generation - Elec_Quantity March', 'Quantity Consumed In Physical Units For Electric Generation - Elec_Quantity April', 'Quantity Consumed In Physical Units For Electric Generation - Elec_Quantity May', 'Quantity Consumed In Physical Units For Electric Generation - Elec_Quantity June', 'Quantity Consumed In Physical Units For Electric Generation - Elec_Quantity July', 'Quantity Consumed In Physical Units For Electric Generation - Elec_Quantity August', 'Quantity Consumed In Physical Units For Electric Generation - Elec_Quantity September', 'Quantity Consumed In Physical Units For Electric Generation - Elec_Quantity October', 'Quantity Consumed In Physical Units For Electric Generation - Elec_Quantity November', 'Quantity Consumed In Physical Units For Electric Generation - Elec_Quantity December', 'Heat Content Of Fuels (MMBtu Per Unit) - MMBtuPer_Unit January', 'Heat Content Of Fuels (MMBtu Per Unit) - MMBtuPer_Unit February', 'Heat Content Of Fuels (MMBtu Per Unit) - MMBtuPer_Unit March', 'Heat Content Of Fuels (MMBtu Per Unit) - MMBtuPer_Unit April', 'Heat Content Of Fuels (MMBtu Per Unit) - MMBtuPer_Unit May', 'Heat Content Of Fuels (MMBtu Per Unit) - MMBtuPer_Unit June', 'Heat Content Of Fuels (MMBtu Per Unit) - MMBtuPer_Unit July', 'Heat Content Of Fuels (MMBtu Per Unit) - MMBtuPer_Unit August', 'Heat Content Of Fuels (MMBtu Per Unit) - MMBtuPer_Unit September', 'Heat Content Of Fuels (MMBtu Per Unit) - MMBtuPer_Unit October', 'Heat Content Of Fuels (MMBtu Per Unit) - MMBtuPer_Unit November', 'Heat Content Of Fuels (MMBtu Per Unit) - MMBtuPer_Unit December', 'Total Fuel Consumed (MMBtu) - Tot_MMBtu January', 'Total Fuel Consumed (MMBtu) - Tot_MMBtu February', 'Total Fuel Consumed (MMBtu) - Tot_MMBtu March', 'Total Fuel Consumed (MMBtu) - Tot_MMBtu April', 'Total Fuel Consumed (MMBtu) - Tot_MMBtu May', 'Total Fuel Consumed (MMBtu) - Tot_MMBtu June', 'Total Fuel Consumed (MMBtu) - Tot_MMBtu July', 'Total Fuel Consumed (MMBtu) - Tot_MMBtu August', 'Total Fuel Consumed (MMBtu) - Tot_MMBtu September', 'Total Fuel Consumed (MMBtu) - Tot_MMBtu October', 'Total Fuel Consumed (MMBtu) - Tot_MMBtu November', 'Total Fuel Consumed (MMBtu) - Tot_MMBtu December', 'Quantity Consumed For Electricity (MMBtu) - Elec_MMBtu January', 'Quantity Consumed For Electricity (MMBtu) - Elec_MMBtu February', 'Quantity Consumed For Electricity (MMBtu) - Elec_MMBtu March', 'Quantity Consumed For Electricity (MMBtu) - Elec_MMBtu April', 'Quantity Consumed For Electricity (MMBtu) - Elec_MMBtu May', 'Quantity Consumed For Electricity (MMBtu) - Elec_MMBtu June', 'Quantity Consumed For Electricity (MMBtu) - Elec_MMBtu July', 'Quantity Consumed For Electricity (MMBtu) - Elec_MMBtu August', 'Quantity Consumed For Electricity (MMBtu) - Elec_MMBtu September', 'Quantity Consumed For Electricity (MMBtu) - Elec_MMBtu October', 'Quantity Consumed For Electricity (MMBtu) - Elec_MMBtu November', 'Quantity Consumed For Electricity (MMBtu) - Elec_MMBtu December', 'Electricity Net Generation (MWh) - Netgen January', 'Electricity Net Generation (MWh) - Netgen February', 'Electricity Net Generation (MWh) - Netgen March', 'Electricity Net Generation (MWh) - Netgen April', 'Electricity Net Generation (MWh) - Netgen May', 'Electricity Net Generation (MWh) - Netgen June', 'Electricity Net Generation (MWh) - Netgen July', 'Electricity Net Generation (MWh) - Netgen August', 'Electricity Net Generation (MWh) - Netgen September', 'Electricity Net Generation (MWh) - Netgen October', 'Electricity Net Generation (MWh) - Netgen November', 'Electricity Net Generation (MWh) - Netgen December', 'Year-To-Date - Total Fuel Consumption Quantity', 'Year-To-Date - Electric Fuel Consumption Quantity', 'Year-To-Date - Total Fuel Consumption MMBtu', 'Year-To-Date - Elec Fuel Consumption MMBtu', 'Year-To-Date - Net Generation (Megawatthours)', 'Year-To-Date - YEAR']\n"
     ]
    }
   ],
   "source": [
    "# Display the column names - first index of the tupples is column name and the second is the sub-column name\n",
    "print(f'Total of {operator_df.shape[1]} columns\\n{operator_df.columns.to_list()}')"
   ]
  },
  {
   "cell_type": "code",
   "execution_count": null,
   "metadata": {},
   "outputs": [
    {
     "name": "stdout",
     "output_type": "stream",
     "text": [
      "total fuel consumed (mmbtu) : Total consumption of the fuel in millions of Btus.Numeric\n",
      "Note: this is the total quantity consumed for both electricity and, in the case of combined heat and power plants, process steam production.\n"
     ]
    }
   ],
   "source": [
    "# To understand the column names - 0 refers to wind_turbine_df  , 1 refers to operator_df \n",
    "# If the sub-column name does not work try to enter the column name\n",
    "dictionary(1,'Total Fuel Consumed (MMBtu)')"
   ]
  },
  {
   "cell_type": "code",
   "execution_count": null,
   "metadata": {},
   "outputs": [
    {
     "name": "stdout",
     "output_type": "stream",
     "text": [
      "Size of data set (Rows , Columns):\n",
      " (15115, 97)\n",
      "\n",
      "Number of null values:\n",
      "1 \tNull values (0.007%) in Plant Name (object) with 10448 unique value(s)\n",
      "1 \tNull values (0.007%) in Operator Name (object) with 4780 unique value(s)\n",
      "1 \tNull values (0.007%) in Plant State (object) with 51 unique value(s)\n",
      "565 \tNull values (3.738%) in NERC Region (object) with 6 unique value(s)\n",
      "15115 \tNull values (100.0%) in Reserved (float64) with 0 unique value(s)\n",
      "391 \tNull values (2.587%) in Balancing Authority Code (object) with 70 unique value(s)\n",
      "162 \tNull values (1.072%) in Respondent Frequency (object) with 3 unique value(s)\n",
      "6881 \tNull values (45.524%) in Physical Unit Label (object) with 5 unique value(s)\n"
     ]
    }
   ],
   "source": [
    "# Check for columns with null values (To check all columns send use: check_for_null(wind_turbine_df,True) )\n",
    "print('Size of data set (Rows , Columns):\\n',operator_df.shape)\n",
    "print('\\nNumber of null values:')\n",
    "check(operator_df)"
   ]
  },
  {
   "attachments": {},
   "cell_type": "markdown",
   "metadata": {},
   "source": [
    "#### Cleaning Operator Data"
   ]
  },
  {
   "attachments": {},
   "cell_type": "markdown",
   "metadata": {},
   "source": [
    "Dropping 'Reserved' column since all of its values are Null."
   ]
  },
  {
   "cell_type": "code",
   "execution_count": null,
   "metadata": {},
   "outputs": [],
   "source": [
    "# Dropping 'Reserved' column\n",
    "operator_df.drop(columns=['Reserved'],axis=1,inplace=True)"
   ]
  },
  {
   "attachments": {},
   "cell_type": "markdown",
   "metadata": {},
   "source": [
    "Dropping:\n",
    "- 'Nuclear Unit Id' column since it is used for nuclear plants.\n",
    "- 'Heat Content Of Fuels (MMBtu Per Unit)' column since it used for fuel plants. (A column with 12 sub-columns)"
   ]
  },
  {
   "cell_type": "code",
   "execution_count": null,
   "metadata": {},
   "outputs": [
    {
     "name": "stdout",
     "output_type": "stream",
     "text": [
      "nuclear unit id : For nuclear plants only, the unit number .One digit numeric. Nuclear plants are the only type of plants for which data are shown explicitly at the generating unit level.\n"
     ]
    }
   ],
   "source": [
    "# Check the definition of 'Nuclear Unit Id'\n",
    "dictionary(1,'Nuclear Unit Id')"
   ]
  },
  {
   "cell_type": "code",
   "execution_count": null,
   "metadata": {},
   "outputs": [],
   "source": [
    "# Dropping 'Nuclear Unit Id' column\n",
    "operator_df.drop(columns=['Nuclear Unit Id'],axis=1,inplace=True)"
   ]
  },
  {
   "cell_type": "code",
   "execution_count": null,
   "metadata": {},
   "outputs": [
    {
     "name": "stdout",
     "output_type": "stream",
     "text": [
      "heat content of fuels (mmbtu per unit) : Heat content of the fuel in millions of Btus per physical unit.Numeric.\n"
     ]
    }
   ],
   "source": [
    "# Check the definition of 'Heat Content Of Fuels (MMBtu Per Unit)'\n",
    "dictionary(1,'Heat Content Of Fuels (MMBtu Per Unit)')"
   ]
  },
  {
   "cell_type": "code",
   "execution_count": null,
   "metadata": {},
   "outputs": [],
   "source": [
    "# Dropping 'Heat Content Of Fuels (MMBtu Per Unit)' column (12 sub-columns)\n",
    "operator_df.drop(columns=get_column_containing(operator_df.columns,'Heat Content Of Fuels (MMBtu Per Unit)'),axis=1,inplace=True)"
   ]
  },
  {
   "attachments": {},
   "cell_type": "markdown",
   "metadata": {},
   "source": [
    "#### __Filter & Further Cleaning the Operator Table__:\n",
    "Extract operator data relating to wind and hydro"
   ]
  },
  {
   "cell_type": "code",
   "execution_count": null,
   "metadata": {},
   "outputs": [
    {
     "data": {
      "text/html": [
       "<div>\n",
       "<style scoped>\n",
       "    .dataframe tbody tr th:only-of-type {\n",
       "        vertical-align: middle;\n",
       "    }\n",
       "\n",
       "    .dataframe tbody tr th {\n",
       "        vertical-align: top;\n",
       "    }\n",
       "\n",
       "    .dataframe thead th {\n",
       "        text-align: right;\n",
       "    }\n",
       "</style>\n",
       "<table border=\"1\" class=\"dataframe\">\n",
       "  <thead>\n",
       "    <tr style=\"text-align: right;\">\n",
       "      <th></th>\n",
       "      <th>Plant Id</th>\n",
       "      <th>Combined Heat And Power Plant</th>\n",
       "      <th>Plant Name</th>\n",
       "      <th>Operator Name</th>\n",
       "      <th>Operator Id</th>\n",
       "      <th>Plant State</th>\n",
       "      <th>Census Region</th>\n",
       "      <th>NERC Region</th>\n",
       "      <th>NAICS Code</th>\n",
       "      <th>EIA Sector Number</th>\n",
       "      <th>...</th>\n",
       "      <th>Electricity Net Generation (MWh) - Netgen September</th>\n",
       "      <th>Electricity Net Generation (MWh) - Netgen October</th>\n",
       "      <th>Electricity Net Generation (MWh) - Netgen November</th>\n",
       "      <th>Electricity Net Generation (MWh) - Netgen December</th>\n",
       "      <th>Year-To-Date - Total Fuel Consumption Quantity</th>\n",
       "      <th>Year-To-Date - Electric Fuel Consumption Quantity</th>\n",
       "      <th>Year-To-Date - Total Fuel Consumption MMBtu</th>\n",
       "      <th>Year-To-Date - Elec Fuel Consumption MMBtu</th>\n",
       "      <th>Year-To-Date - Net Generation (Megawatthours)</th>\n",
       "      <th>Year-To-Date - YEAR</th>\n",
       "    </tr>\n",
       "  </thead>\n",
       "  <tbody>\n",
       "    <tr>\n",
       "      <th>0</th>\n",
       "      <td>1</td>\n",
       "      <td>N</td>\n",
       "      <td>Sand Point</td>\n",
       "      <td>TDX Sand Point Generating, LLC</td>\n",
       "      <td>63560</td>\n",
       "      <td>AK</td>\n",
       "      <td>PACN</td>\n",
       "      <td>NaN</td>\n",
       "      <td>22</td>\n",
       "      <td>2</td>\n",
       "      <td>...</td>\n",
       "      <td>23.559</td>\n",
       "      <td>28.982</td>\n",
       "      <td>33.296</td>\n",
       "      <td>30.694</td>\n",
       "      <td>0</td>\n",
       "      <td>0</td>\n",
       "      <td>3045</td>\n",
       "      <td>3045</td>\n",
       "      <td>347.0</td>\n",
       "      <td>2020</td>\n",
       "    </tr>\n",
       "    <tr>\n",
       "      <th>1</th>\n",
       "      <td>90</td>\n",
       "      <td>N</td>\n",
       "      <td>Snake River</td>\n",
       "      <td>Nome Joint Utility Systems</td>\n",
       "      <td>13642</td>\n",
       "      <td>AK</td>\n",
       "      <td>PACN</td>\n",
       "      <td>NaN</td>\n",
       "      <td>22</td>\n",
       "      <td>1</td>\n",
       "      <td>...</td>\n",
       "      <td>161.789</td>\n",
       "      <td>199.034</td>\n",
       "      <td>228.657</td>\n",
       "      <td>210.791</td>\n",
       "      <td>0</td>\n",
       "      <td>0</td>\n",
       "      <td>20906</td>\n",
       "      <td>20906</td>\n",
       "      <td>2383.0</td>\n",
       "      <td>2020</td>\n",
       "    </tr>\n",
       "    <tr>\n",
       "      <th>2</th>\n",
       "      <td>508</td>\n",
       "      <td>N</td>\n",
       "      <td>Lamar Plant</td>\n",
       "      <td>City of Lamar - (CO)</td>\n",
       "      <td>10633</td>\n",
       "      <td>CO</td>\n",
       "      <td>MTN</td>\n",
       "      <td>WECC</td>\n",
       "      <td>22</td>\n",
       "      <td>1</td>\n",
       "      <td>...</td>\n",
       "      <td>901.626</td>\n",
       "      <td>952.676</td>\n",
       "      <td>1092.82</td>\n",
       "      <td>1338.32</td>\n",
       "      <td>0</td>\n",
       "      <td>0</td>\n",
       "      <td>116085</td>\n",
       "      <td>116085</td>\n",
       "      <td>13232.0</td>\n",
       "      <td>2020</td>\n",
       "    </tr>\n",
       "    <tr>\n",
       "      <th>3</th>\n",
       "      <td>692</td>\n",
       "      <td>N</td>\n",
       "      <td>Medicine Bow</td>\n",
       "      <td>SRIV Partnership LLC</td>\n",
       "      <td>62042</td>\n",
       "      <td>WY</td>\n",
       "      <td>MTN</td>\n",
       "      <td>WECC</td>\n",
       "      <td>22</td>\n",
       "      <td>2</td>\n",
       "      <td>...</td>\n",
       "      <td>765.206</td>\n",
       "      <td>1313.838</td>\n",
       "      <td>1936.102</td>\n",
       "      <td>2063.125</td>\n",
       "      <td>0</td>\n",
       "      <td>0</td>\n",
       "      <td>141429</td>\n",
       "      <td>141429</td>\n",
       "      <td>16121.0</td>\n",
       "      <td>2020</td>\n",
       "    </tr>\n",
       "    <tr>\n",
       "      <th>4</th>\n",
       "      <td>944</td>\n",
       "      <td>N</td>\n",
       "      <td>Geneseo</td>\n",
       "      <td>City of Geneseo - (IL)</td>\n",
       "      <td>7095</td>\n",
       "      <td>IL</td>\n",
       "      <td>ENC</td>\n",
       "      <td>MRO</td>\n",
       "      <td>22</td>\n",
       "      <td>1</td>\n",
       "      <td>...</td>\n",
       "      <td>420</td>\n",
       "      <td>540</td>\n",
       "      <td>855</td>\n",
       "      <td>548</td>\n",
       "      <td>0</td>\n",
       "      <td>0</td>\n",
       "      <td>51368</td>\n",
       "      <td>51368</td>\n",
       "      <td>5855.0</td>\n",
       "      <td>2020</td>\n",
       "    </tr>\n",
       "  </tbody>\n",
       "</table>\n",
       "<p>5 rows × 83 columns</p>\n",
       "</div>"
      ],
      "text/plain": [
       "   Plant Id Combined Heat And Power Plant    Plant Name  \\\n",
       "0         1                             N    Sand Point   \n",
       "1        90                             N   Snake River   \n",
       "2       508                             N   Lamar Plant   \n",
       "3       692                             N  Medicine Bow   \n",
       "4       944                             N       Geneseo   \n",
       "\n",
       "                    Operator Name Operator Id Plant State Census Region  \\\n",
       "0  TDX Sand Point Generating, LLC       63560          AK          PACN   \n",
       "1      Nome Joint Utility Systems       13642          AK          PACN   \n",
       "2            City of Lamar - (CO)       10633          CO           MTN   \n",
       "3            SRIV Partnership LLC       62042          WY           MTN   \n",
       "4          City of Geneseo - (IL)        7095          IL           ENC   \n",
       "\n",
       "  NERC Region  NAICS Code  EIA Sector Number  ...  \\\n",
       "0         NaN          22                  2  ...   \n",
       "1         NaN          22                  1  ...   \n",
       "2        WECC          22                  1  ...   \n",
       "3        WECC          22                  2  ...   \n",
       "4         MRO          22                  1  ...   \n",
       "\n",
       "  Electricity Net Generation (MWh) - Netgen September  \\\n",
       "0                                             23.559    \n",
       "1                                            161.789    \n",
       "2                                            901.626    \n",
       "3                                            765.206    \n",
       "4                                                420    \n",
       "\n",
       "  Electricity Net Generation (MWh) - Netgen October  \\\n",
       "0                                            28.982   \n",
       "1                                           199.034   \n",
       "2                                           952.676   \n",
       "3                                          1313.838   \n",
       "4                                               540   \n",
       "\n",
       "  Electricity Net Generation (MWh) - Netgen November  \\\n",
       "0                                             33.296   \n",
       "1                                            228.657   \n",
       "2                                            1092.82   \n",
       "3                                           1936.102   \n",
       "4                                                855   \n",
       "\n",
       "  Electricity Net Generation (MWh) - Netgen December  \\\n",
       "0                                             30.694   \n",
       "1                                            210.791   \n",
       "2                                            1338.32   \n",
       "3                                           2063.125   \n",
       "4                                                548   \n",
       "\n",
       "  Year-To-Date - Total Fuel Consumption Quantity  \\\n",
       "0                                              0   \n",
       "1                                              0   \n",
       "2                                              0   \n",
       "3                                              0   \n",
       "4                                              0   \n",
       "\n",
       "  Year-To-Date - Electric Fuel Consumption Quantity  \\\n",
       "0                                                 0   \n",
       "1                                                 0   \n",
       "2                                                 0   \n",
       "3                                                 0   \n",
       "4                                                 0   \n",
       "\n",
       "  Year-To-Date - Total Fuel Consumption MMBtu  \\\n",
       "0                                        3045   \n",
       "1                                       20906   \n",
       "2                                      116085   \n",
       "3                                      141429   \n",
       "4                                       51368   \n",
       "\n",
       "  Year-To-Date - Elec Fuel Consumption MMBtu  \\\n",
       "0                                       3045   \n",
       "1                                      20906   \n",
       "2                                     116085   \n",
       "3                                     141429   \n",
       "4                                      51368   \n",
       "\n",
       "  Year-To-Date - Net Generation (Megawatthours) Year-To-Date - YEAR  \n",
       "0                                         347.0                2020  \n",
       "1                                        2383.0                2020  \n",
       "2                                       13232.0                2020  \n",
       "3                                       16121.0                2020  \n",
       "4                                        5855.0                2020  \n",
       "\n",
       "[5 rows x 83 columns]"
      ]
     },
     "execution_count": 25,
     "metadata": {},
     "output_type": "execute_result"
    }
   ],
   "source": [
    "# Filter 'Reported Fuel Type Code' to 'WND' (Wind) and assign it to a new Dataframe (wind_opr_df) and reset index\n",
    "wind_opr_df=operator_df[operator_df['Reported Fuel Type Code']=='WND']\n",
    "wind_opr_df.reset_index(drop=True,inplace=True)\n",
    "\n",
    "# Display first 5 rows\n",
    "wind_opr_df.head()"
   ]
  },
  {
   "cell_type": "code",
   "execution_count": null,
   "metadata": {},
   "outputs": [
    {
     "data": {
      "text/html": [
       "<div>\n",
       "<style scoped>\n",
       "    .dataframe tbody tr th:only-of-type {\n",
       "        vertical-align: middle;\n",
       "    }\n",
       "\n",
       "    .dataframe tbody tr th {\n",
       "        vertical-align: top;\n",
       "    }\n",
       "\n",
       "    .dataframe thead th {\n",
       "        text-align: right;\n",
       "    }\n",
       "</style>\n",
       "<table border=\"1\" class=\"dataframe\">\n",
       "  <thead>\n",
       "    <tr style=\"text-align: right;\">\n",
       "      <th></th>\n",
       "      <th>Plant Id</th>\n",
       "      <th>Combined Heat And Power Plant</th>\n",
       "      <th>Plant Name</th>\n",
       "      <th>Operator Name</th>\n",
       "      <th>Operator Id</th>\n",
       "      <th>Plant State</th>\n",
       "      <th>Census Region</th>\n",
       "      <th>NERC Region</th>\n",
       "      <th>NAICS Code</th>\n",
       "      <th>EIA Sector Number</th>\n",
       "      <th>...</th>\n",
       "      <th>Electricity Net Generation (MWh) - Netgen September</th>\n",
       "      <th>Electricity Net Generation (MWh) - Netgen October</th>\n",
       "      <th>Electricity Net Generation (MWh) - Netgen November</th>\n",
       "      <th>Electricity Net Generation (MWh) - Netgen December</th>\n",
       "      <th>Year-To-Date - Total Fuel Consumption Quantity</th>\n",
       "      <th>Year-To-Date - Electric Fuel Consumption Quantity</th>\n",
       "      <th>Year-To-Date - Total Fuel Consumption MMBtu</th>\n",
       "      <th>Year-To-Date - Elec Fuel Consumption MMBtu</th>\n",
       "      <th>Year-To-Date - Net Generation (Megawatthours)</th>\n",
       "      <th>Year-To-Date - YEAR</th>\n",
       "    </tr>\n",
       "  </thead>\n",
       "  <tbody>\n",
       "    <tr>\n",
       "      <th>0</th>\n",
       "      <td>2</td>\n",
       "      <td>N</td>\n",
       "      <td>Bankhead Dam</td>\n",
       "      <td>Alabama Power Co</td>\n",
       "      <td>195</td>\n",
       "      <td>AL</td>\n",
       "      <td>ESC</td>\n",
       "      <td>SERC</td>\n",
       "      <td>22</td>\n",
       "      <td>1</td>\n",
       "      <td>...</td>\n",
       "      <td>9187.081</td>\n",
       "      <td>9136.794</td>\n",
       "      <td>10514.102</td>\n",
       "      <td>10935.553</td>\n",
       "      <td>0</td>\n",
       "      <td>0</td>\n",
       "      <td>1220939</td>\n",
       "      <td>1220939</td>\n",
       "      <td>139170.0</td>\n",
       "      <td>2020</td>\n",
       "    </tr>\n",
       "    <tr>\n",
       "      <th>1</th>\n",
       "      <td>4</td>\n",
       "      <td>N</td>\n",
       "      <td>Walter Bouldin Dam</td>\n",
       "      <td>Alabama Power Co</td>\n",
       "      <td>195</td>\n",
       "      <td>AL</td>\n",
       "      <td>ESC</td>\n",
       "      <td>SERC</td>\n",
       "      <td>22</td>\n",
       "      <td>1</td>\n",
       "      <td>...</td>\n",
       "      <td>36611.875</td>\n",
       "      <td>36411.474</td>\n",
       "      <td>41900.248</td>\n",
       "      <td>43579.795</td>\n",
       "      <td>0</td>\n",
       "      <td>0</td>\n",
       "      <td>4865621</td>\n",
       "      <td>4865621</td>\n",
       "      <td>554613.0</td>\n",
       "      <td>2020</td>\n",
       "    </tr>\n",
       "    <tr>\n",
       "      <th>2</th>\n",
       "      <td>11</td>\n",
       "      <td>N</td>\n",
       "      <td>H Neely Henry Dam</td>\n",
       "      <td>Alabama Power Co</td>\n",
       "      <td>195</td>\n",
       "      <td>AL</td>\n",
       "      <td>ESC</td>\n",
       "      <td>SERC</td>\n",
       "      <td>22</td>\n",
       "      <td>1</td>\n",
       "      <td>...</td>\n",
       "      <td>17781.89</td>\n",
       "      <td>17684.558</td>\n",
       "      <td>20350.381</td>\n",
       "      <td>21166.115</td>\n",
       "      <td>0</td>\n",
       "      <td>0</td>\n",
       "      <td>2363166</td>\n",
       "      <td>2363166</td>\n",
       "      <td>269368.0</td>\n",
       "      <td>2020</td>\n",
       "    </tr>\n",
       "    <tr>\n",
       "      <th>3</th>\n",
       "      <td>12</td>\n",
       "      <td>N</td>\n",
       "      <td>Holt Dam</td>\n",
       "      <td>Alabama Power Co</td>\n",
       "      <td>195</td>\n",
       "      <td>AL</td>\n",
       "      <td>ESC</td>\n",
       "      <td>SERC</td>\n",
       "      <td>22</td>\n",
       "      <td>1</td>\n",
       "      <td>...</td>\n",
       "      <td>12304.299</td>\n",
       "      <td>12236.949</td>\n",
       "      <td>14081.583</td>\n",
       "      <td>14646.035</td>\n",
       "      <td>0</td>\n",
       "      <td>0</td>\n",
       "      <td>1635209</td>\n",
       "      <td>1635209</td>\n",
       "      <td>186391.0</td>\n",
       "      <td>2020</td>\n",
       "    </tr>\n",
       "    <tr>\n",
       "      <th>4</th>\n",
       "      <td>13</td>\n",
       "      <td>N</td>\n",
       "      <td>Jordan Dam</td>\n",
       "      <td>Alabama Power Co</td>\n",
       "      <td>195</td>\n",
       "      <td>AL</td>\n",
       "      <td>ESC</td>\n",
       "      <td>SERC</td>\n",
       "      <td>22</td>\n",
       "      <td>1</td>\n",
       "      <td>...</td>\n",
       "      <td>38754.735</td>\n",
       "      <td>38542.605</td>\n",
       "      <td>44352.631</td>\n",
       "      <td>46130.482</td>\n",
       "      <td>0</td>\n",
       "      <td>0</td>\n",
       "      <td>5150399</td>\n",
       "      <td>5150399</td>\n",
       "      <td>587074.0</td>\n",
       "      <td>2020</td>\n",
       "    </tr>\n",
       "  </tbody>\n",
       "</table>\n",
       "<p>5 rows × 83 columns</p>\n",
       "</div>"
      ],
      "text/plain": [
       "   Plant Id Combined Heat And Power Plant          Plant Name  \\\n",
       "0         2                             N        Bankhead Dam   \n",
       "1         4                             N  Walter Bouldin Dam   \n",
       "2        11                             N   H Neely Henry Dam   \n",
       "3        12                             N            Holt Dam   \n",
       "4        13                             N          Jordan Dam   \n",
       "\n",
       "      Operator Name Operator Id Plant State Census Region NERC Region  \\\n",
       "0  Alabama Power Co         195          AL           ESC        SERC   \n",
       "1  Alabama Power Co         195          AL           ESC        SERC   \n",
       "2  Alabama Power Co         195          AL           ESC        SERC   \n",
       "3  Alabama Power Co         195          AL           ESC        SERC   \n",
       "4  Alabama Power Co         195          AL           ESC        SERC   \n",
       "\n",
       "   NAICS Code  EIA Sector Number  ...  \\\n",
       "0          22                  1  ...   \n",
       "1          22                  1  ...   \n",
       "2          22                  1  ...   \n",
       "3          22                  1  ...   \n",
       "4          22                  1  ...   \n",
       "\n",
       "  Electricity Net Generation (MWh) - Netgen September  \\\n",
       "0                                           9187.081    \n",
       "1                                          36611.875    \n",
       "2                                           17781.89    \n",
       "3                                          12304.299    \n",
       "4                                          38754.735    \n",
       "\n",
       "  Electricity Net Generation (MWh) - Netgen October  \\\n",
       "0                                          9136.794   \n",
       "1                                         36411.474   \n",
       "2                                         17684.558   \n",
       "3                                         12236.949   \n",
       "4                                         38542.605   \n",
       "\n",
       "  Electricity Net Generation (MWh) - Netgen November  \\\n",
       "0                                          10514.102   \n",
       "1                                          41900.248   \n",
       "2                                          20350.381   \n",
       "3                                          14081.583   \n",
       "4                                          44352.631   \n",
       "\n",
       "  Electricity Net Generation (MWh) - Netgen December  \\\n",
       "0                                          10935.553   \n",
       "1                                          43579.795   \n",
       "2                                          21166.115   \n",
       "3                                          14646.035   \n",
       "4                                          46130.482   \n",
       "\n",
       "  Year-To-Date - Total Fuel Consumption Quantity  \\\n",
       "0                                              0   \n",
       "1                                              0   \n",
       "2                                              0   \n",
       "3                                              0   \n",
       "4                                              0   \n",
       "\n",
       "  Year-To-Date - Electric Fuel Consumption Quantity  \\\n",
       "0                                                 0   \n",
       "1                                                 0   \n",
       "2                                                 0   \n",
       "3                                                 0   \n",
       "4                                                 0   \n",
       "\n",
       "  Year-To-Date - Total Fuel Consumption MMBtu  \\\n",
       "0                                     1220939   \n",
       "1                                     4865621   \n",
       "2                                     2363166   \n",
       "3                                     1635209   \n",
       "4                                     5150399   \n",
       "\n",
       "  Year-To-Date - Elec Fuel Consumption MMBtu  \\\n",
       "0                                    1220939   \n",
       "1                                    4865621   \n",
       "2                                    2363166   \n",
       "3                                    1635209   \n",
       "4                                    5150399   \n",
       "\n",
       "  Year-To-Date - Net Generation (Megawatthours) Year-To-Date - YEAR  \n",
       "0                                      139170.0                2020  \n",
       "1                                      554613.0                2020  \n",
       "2                                      269368.0                2020  \n",
       "3                                      186391.0                2020  \n",
       "4                                      587074.0                2020  \n",
       "\n",
       "[5 rows x 83 columns]"
      ]
     },
     "execution_count": 26,
     "metadata": {},
     "output_type": "execute_result"
    }
   ],
   "source": [
    "# Filter 'Reported Fuel Type Code' to 'WAT' (Water aka hydro) and assign it to a new Dataframe (hydro_opr_df) and reset index\n",
    "hydro_opr_df=operator_df[operator_df['Reported Fuel Type Code']=='WAT']\n",
    "hydro_opr_df.reset_index(drop=True,inplace=True)\n",
    "\n",
    "# Display first 5 rows\n",
    "hydro_opr_df.head()"
   ]
  },
  {
   "attachments": {},
   "cell_type": "markdown",
   "metadata": {},
   "source": [
    "##### __Wind operator Table:__"
   ]
  },
  {
   "cell_type": "code",
   "execution_count": null,
   "metadata": {},
   "outputs": [
    {
     "name": "stdout",
     "output_type": "stream",
     "text": [
      "Size of data set (Rows , Columns):\n",
      " (1243, 83)\n",
      "\n",
      "Number of null values:\n",
      "23 \tNull values (1.85%) in NERC Region (object) with 6 unique value(s)\n",
      "15 \tNull values (1.207%) in Balancing Authority Code (object) with 35 unique value(s)\n",
      "8 \tNull values (0.644%) in Respondent Frequency (object) with 2 unique value(s)\n",
      "1243 \tNull values (100.0%) in Physical Unit Label (object) with 0 unique value(s)\n"
     ]
    }
   ],
   "source": [
    "# Check for columns with null values (To check all columns send use: check_for_null(wind_opr_df,True) )\n",
    "print('Size of data set (Rows , Columns):\\n',wind_opr_df.shape)\n",
    "print('\\nNumber of null values:')\n",
    "check(wind_opr_df)"
   ]
  },
  {
   "attachments": {},
   "cell_type": "markdown",
   "metadata": {},
   "source": [
    "Dropping 'Physical Unit Label' column since its values are Null"
   ]
  },
  {
   "cell_type": "code",
   "execution_count": null,
   "metadata": {},
   "outputs": [
    {
     "name": "stderr",
     "output_type": "stream",
     "text": [
      "C:\\Users\\jubra\\AppData\\Local\\Temp\\ipykernel_12056\\3665391784.py:1: SettingWithCopyWarning:\n",
      "\n",
      "\n",
      "A value is trying to be set on a copy of a slice from a DataFrame\n",
      "\n",
      "See the caveats in the documentation: https://pandas.pydata.org/pandas-docs/stable/user_guide/indexing.html#returning-a-view-versus-a-copy\n",
      "\n"
     ]
    }
   ],
   "source": [
    "wind_opr_df.drop(columns=['Physical Unit Label'],axis=1,inplace=True)"
   ]
  },
  {
   "attachments": {},
   "cell_type": "markdown",
   "metadata": {},
   "source": [
    "Dropping:\n",
    "- 'Total Fuel Consumption Quantity' column since it does not relate to wind plants.\n",
    "- 'Electric Fuel Consumption Quantity' column since it does not relate to wind plants.\n",
    "- 'Total Quantity Consumed In Physical Units (Consumed For Electric Generation And Useful Thermal Output)' column since it does not relate to wind plants. (12 sub-columns)\n",
    "- 'Quantity Consumed In Physical Units For Electric Generation' column since it does not relate to wind plants. (A column with 12 sub-columns)"
   ]
  },
  {
   "cell_type": "code",
   "execution_count": null,
   "metadata": {},
   "outputs": [
    {
     "name": "stdout",
     "output_type": "stream",
     "text": [
      "total fuel consumption quantity : Total consumption of fuel in physical units, year to date.Numeric\n",
      "Note: this is the total quantity consumed for both electricity and, in the case of combined heat and power plants, process steam production.\n"
     ]
    },
    {
     "data": {
      "text/plain": [
       "0    1243\n",
       "Name: Year-To-Date - Total Fuel Consumption Quantity, dtype: int64"
      ]
     },
     "execution_count": 29,
     "metadata": {},
     "output_type": "execute_result"
    }
   ],
   "source": [
    "dictionary(1,'Total Fuel Consumption Quantity')\n",
    "wind_opr_df['Year-To-Date - Total Fuel Consumption Quantity'].value_counts()"
   ]
  },
  {
   "cell_type": "code",
   "execution_count": null,
   "metadata": {},
   "outputs": [
    {
     "name": "stderr",
     "output_type": "stream",
     "text": [
      "C:\\Users\\jubra\\AppData\\Local\\Temp\\ipykernel_12056\\3786511360.py:1: SettingWithCopyWarning:\n",
      "\n",
      "\n",
      "A value is trying to be set on a copy of a slice from a DataFrame\n",
      "\n",
      "See the caveats in the documentation: https://pandas.pydata.org/pandas-docs/stable/user_guide/indexing.html#returning-a-view-versus-a-copy\n",
      "\n"
     ]
    }
   ],
   "source": [
    "wind_opr_df.drop(columns=['Year-To-Date - Total Fuel Consumption Quantity'],axis=1,inplace=True)"
   ]
  },
  {
   "cell_type": "code",
   "execution_count": null,
   "metadata": {},
   "outputs": [
    {
     "name": "stdout",
     "output_type": "stream",
     "text": [
      "electric fuel consumption quantity : Total consumption of fuel to produce electricity, in physical units, year to date. Numeric\n"
     ]
    },
    {
     "data": {
      "text/plain": [
       "0    1243\n",
       "Name: Year-To-Date - Electric Fuel Consumption Quantity, dtype: int64"
      ]
     },
     "execution_count": 31,
     "metadata": {},
     "output_type": "execute_result"
    }
   ],
   "source": [
    "dictionary(1,'Electric Fuel Consumption Quantity')\n",
    "wind_opr_df['Year-To-Date - Electric Fuel Consumption Quantity'].value_counts()"
   ]
  },
  {
   "cell_type": "code",
   "execution_count": null,
   "metadata": {},
   "outputs": [
    {
     "name": "stderr",
     "output_type": "stream",
     "text": [
      "C:\\Users\\jubra\\AppData\\Local\\Temp\\ipykernel_12056\\939091366.py:1: SettingWithCopyWarning:\n",
      "\n",
      "\n",
      "A value is trying to be set on a copy of a slice from a DataFrame\n",
      "\n",
      "See the caveats in the documentation: https://pandas.pydata.org/pandas-docs/stable/user_guide/indexing.html#returning-a-view-versus-a-copy\n",
      "\n"
     ]
    }
   ],
   "source": [
    "wind_opr_df.drop(columns=['Year-To-Date - Electric Fuel Consumption Quantity'],axis=1,inplace=True)"
   ]
  },
  {
   "cell_type": "code",
   "execution_count": null,
   "metadata": {},
   "outputs": [
    {
     "name": "stdout",
     "output_type": "stream",
     "text": [
      "total quantity consumed in physical units (consumed for electric generation and useful thermal output) : Consumption of the fuel type in physical units.Numeric.\n",
      "Note: this is the total quantity consumed for both electricity and, in the case of combined heat and power plants, process steam production.\n",
      "0    1156\n",
      ".      87\n",
      "Name: Total Quantity Consumed In Physical Units (Consumed For Electric Generation And Useful Thermal Output) - Quantity January, dtype: int64\n",
      "0    1149\n",
      ".      94\n",
      "Name: Total Quantity Consumed In Physical Units (Consumed For Electric Generation And Useful Thermal Output) - Quantity February, dtype: int64\n",
      "0    1153\n",
      ".      90\n",
      "Name: Total Quantity Consumed In Physical Units (Consumed For Electric Generation And Useful Thermal Output) - Quantity March, dtype: int64\n",
      "0    1155\n",
      ".      88\n",
      "Name: Total Quantity Consumed In Physical Units (Consumed For Electric Generation And Useful Thermal Output) - Quantity April, dtype: int64\n",
      "0    1161\n",
      ".      82\n",
      "Name: Total Quantity Consumed In Physical Units (Consumed For Electric Generation And Useful Thermal Output) - Quantity May, dtype: int64\n",
      "0    1164\n",
      ".      79\n",
      "Name: Total Quantity Consumed In Physical Units (Consumed For Electric Generation And Useful Thermal Output) - Quantity June, dtype: int64\n",
      "0    1165\n",
      ".      78\n",
      "Name: Total Quantity Consumed In Physical Units (Consumed For Electric Generation And Useful Thermal Output) - Quantity July, dtype: int64\n",
      "0    1170\n",
      ".      73\n",
      "Name: Total Quantity Consumed In Physical Units (Consumed For Electric Generation And Useful Thermal Output) - Quantity August, dtype: int64\n",
      "0    1174\n",
      ".      69\n",
      "Name: Total Quantity Consumed In Physical Units (Consumed For Electric Generation And Useful Thermal Output) - Quantity September, dtype: int64\n",
      "0    1178\n",
      ".      65\n",
      "Name: Total Quantity Consumed In Physical Units (Consumed For Electric Generation And Useful Thermal Output) - Quantity October, dtype: int64\n",
      "0    1190\n",
      ".      53\n",
      "Name: Total Quantity Consumed In Physical Units (Consumed For Electric Generation And Useful Thermal Output) - Quantity November, dtype: int64\n",
      "0    1222\n",
      ".      21\n",
      "Name: Total Quantity Consumed In Physical Units (Consumed For Electric Generation And Useful Thermal Output) - Quantity December, dtype: int64\n"
     ]
    }
   ],
   "source": [
    "dictionary(1,'Total Quantity Consumed In Physical Units (Consumed For Electric Generation And Useful Thermal Output)')\n",
    "for col in get_column_containing(wind_opr_df.columns,'Total Quantity Consumed In Physical Units (Consumed For Electric Generation And Useful Thermal Output)'):\n",
    "    print(wind_opr_df[col].value_counts())"
   ]
  },
  {
   "cell_type": "code",
   "execution_count": null,
   "metadata": {},
   "outputs": [
    {
     "name": "stdout",
     "output_type": "stream",
     "text": [
      "quantity consumed in physical units for electric generation : Consumption for electric generation of the fuel type in physical units.Numeric.\n",
      "0    1156\n",
      ".      87\n",
      "Name: Quantity Consumed In Physical Units For Electric Generation - Elec_Quantity January, dtype: int64\n",
      "0    1149\n",
      ".      94\n",
      "Name: Quantity Consumed In Physical Units For Electric Generation - Elec_Quantity February, dtype: int64\n",
      "0    1153\n",
      ".      90\n",
      "Name: Quantity Consumed In Physical Units For Electric Generation - Elec_Quantity March, dtype: int64\n",
      "0    1155\n",
      ".      88\n",
      "Name: Quantity Consumed In Physical Units For Electric Generation - Elec_Quantity April, dtype: int64\n",
      "0    1161\n",
      ".      82\n",
      "Name: Quantity Consumed In Physical Units For Electric Generation - Elec_Quantity May, dtype: int64\n",
      "0    1164\n",
      ".      79\n",
      "Name: Quantity Consumed In Physical Units For Electric Generation - Elec_Quantity June, dtype: int64\n",
      "0    1165\n",
      ".      78\n",
      "Name: Quantity Consumed In Physical Units For Electric Generation - Elec_Quantity July, dtype: int64\n",
      "0    1170\n",
      ".      73\n",
      "Name: Quantity Consumed In Physical Units For Electric Generation - Elec_Quantity August, dtype: int64\n",
      "0    1174\n",
      ".      69\n",
      "Name: Quantity Consumed In Physical Units For Electric Generation - Elec_Quantity September, dtype: int64\n",
      "0    1178\n",
      ".      65\n",
      "Name: Quantity Consumed In Physical Units For Electric Generation - Elec_Quantity October, dtype: int64\n",
      "0    1190\n",
      ".      53\n",
      "Name: Quantity Consumed In Physical Units For Electric Generation - Elec_Quantity November, dtype: int64\n",
      "0    1222\n",
      ".      21\n",
      "Name: Quantity Consumed In Physical Units For Electric Generation - Elec_Quantity December, dtype: int64\n"
     ]
    }
   ],
   "source": [
    "dictionary(1,'Quantity Consumed In Physical Units For Electric Generation')\n",
    "for col in get_column_containing(wind_opr_df.columns,'Quantity Consumed In Physical Units For Electric Generation'):\n",
    "    print(wind_opr_df[col].value_counts())"
   ]
  },
  {
   "cell_type": "code",
   "execution_count": null,
   "metadata": {},
   "outputs": [
    {
     "name": "stderr",
     "output_type": "stream",
     "text": [
      "C:\\Users\\jubra\\AppData\\Local\\Temp\\ipykernel_12056\\569489568.py:5: SettingWithCopyWarning:\n",
      "\n",
      "\n",
      "A value is trying to be set on a copy of a slice from a DataFrame\n",
      "\n",
      "See the caveats in the documentation: https://pandas.pydata.org/pandas-docs/stable/user_guide/indexing.html#returning-a-view-versus-a-copy\n",
      "\n",
      "C:\\Users\\jubra\\AppData\\Local\\Temp\\ipykernel_12056\\569489568.py:6: SettingWithCopyWarning:\n",
      "\n",
      "\n",
      "A value is trying to be set on a copy of a slice from a DataFrame\n",
      "\n",
      "See the caveats in the documentation: https://pandas.pydata.org/pandas-docs/stable/user_guide/indexing.html#returning-a-view-versus-a-copy\n",
      "\n"
     ]
    }
   ],
   "source": [
    "# Dropping columns:\n",
    "# - 'Total Quantity Consumed In Physical Units (Consumed For Electric Generation And Useful Thermal Output)' (12 sub-columns)\n",
    "# - 'Quantity Consumed In Physical Units For Electric Generation' (12 sub-columns)\n",
    "                          \n",
    "wind_opr_df.drop(columns=get_column_containing(wind_opr_df.columns,'Total Quantity Consumed In Physical Units (Consumed For Electric Generation And Useful Thermal Output)'),axis=1,inplace=True)\n",
    "wind_opr_df.drop(columns=get_column_containing(wind_opr_df.columns,'Quantity Consumed In Physical Units For Electric Generation'),axis=1,inplace=True)"
   ]
  },
  {
   "cell_type": "code",
   "execution_count": null,
   "metadata": {},
   "outputs": [
    {
     "name": "stdout",
     "output_type": "stream",
     "text": [
      "Size of data set (Rows , Columns):\n",
      " (1243, 56)\n"
     ]
    }
   ],
   "source": [
    "print('Size of data set (Rows , Columns):\\n',wind_opr_df.shape)"
   ]
  },
  {
   "cell_type": "code",
   "execution_count": null,
   "metadata": {},
   "outputs": [
    {
     "name": "stdout",
     "output_type": "stream",
     "text": [
      "<class 'pandas.core.frame.DataFrame'>\n",
      "RangeIndex: 1243 entries, 0 to 1242\n",
      "Data columns (total 56 columns):\n",
      " #   Column                                                            Non-Null Count  Dtype  \n",
      "---  ------                                                            --------------  -----  \n",
      " 0   Plant Id                                                          1243 non-null   int64  \n",
      " 1   Combined Heat And Power Plant                                     1243 non-null   object \n",
      " 2   Plant Name                                                        1243 non-null   object \n",
      " 3   Operator Name                                                     1243 non-null   object \n",
      " 4   Operator Id                                                       1243 non-null   object \n",
      " 5   Plant State                                                       1243 non-null   object \n",
      " 6   Census Region                                                     1243 non-null   object \n",
      " 7   NERC Region                                                       1220 non-null   object \n",
      " 8   NAICS Code                                                        1243 non-null   int64  \n",
      " 9   EIA Sector Number                                                 1243 non-null   int64  \n",
      " 10  Sector Name                                                       1243 non-null   object \n",
      " 11  Reported Prime Mover                                              1243 non-null   object \n",
      " 12  Reported Fuel Type Code                                           1243 non-null   object \n",
      " 13  AER Fuel Type Code                                                1243 non-null   object \n",
      " 14  Balancing Authority Code                                          1228 non-null   object \n",
      " 15  Respondent Frequency                                              1235 non-null   object \n",
      " 16  Total Fuel Consumed (MMBtu) - Tot_MMBtu January                   1243 non-null   object \n",
      " 17  Total Fuel Consumed (MMBtu) - Tot_MMBtu February                  1243 non-null   object \n",
      " 18  Total Fuel Consumed (MMBtu) - Tot_MMBtu March                     1243 non-null   object \n",
      " 19  Total Fuel Consumed (MMBtu) - Tot_MMBtu April                     1243 non-null   object \n",
      " 20  Total Fuel Consumed (MMBtu) - Tot_MMBtu May                       1243 non-null   object \n",
      " 21  Total Fuel Consumed (MMBtu) - Tot_MMBtu June                      1243 non-null   object \n",
      " 22  Total Fuel Consumed (MMBtu) - Tot_MMBtu July                      1243 non-null   object \n",
      " 23  Total Fuel Consumed (MMBtu) - Tot_MMBtu August                    1243 non-null   object \n",
      " 24  Total Fuel Consumed (MMBtu) - Tot_MMBtu September                 1243 non-null   object \n",
      " 25  Total Fuel Consumed (MMBtu) - Tot_MMBtu October                   1243 non-null   object \n",
      " 26  Total Fuel Consumed (MMBtu) - Tot_MMBtu November                  1243 non-null   object \n",
      " 27  Total Fuel Consumed (MMBtu) - Tot_MMBtu December                  1243 non-null   object \n",
      " 28  Quantity Consumed For Electricity (MMBtu) - Elec_MMBtu January    1243 non-null   object \n",
      " 29  Quantity Consumed For Electricity (MMBtu) - Elec_MMBtu February   1243 non-null   object \n",
      " 30  Quantity Consumed For Electricity (MMBtu) - Elec_MMBtu March      1243 non-null   object \n",
      " 31  Quantity Consumed For Electricity (MMBtu) - Elec_MMBtu April      1243 non-null   object \n",
      " 32  Quantity Consumed For Electricity (MMBtu) - Elec_MMBtu May        1243 non-null   object \n",
      " 33  Quantity Consumed For Electricity (MMBtu) - Elec_MMBtu June       1243 non-null   object \n",
      " 34  Quantity Consumed For Electricity (MMBtu) - Elec_MMBtu July       1243 non-null   object \n",
      " 35  Quantity Consumed For Electricity (MMBtu) - Elec_MMBtu August     1243 non-null   object \n",
      " 36  Quantity Consumed For Electricity (MMBtu) - Elec_MMBtu September  1243 non-null   object \n",
      " 37  Quantity Consumed For Electricity (MMBtu) - Elec_MMBtu October    1243 non-null   object \n",
      " 38  Quantity Consumed For Electricity (MMBtu) - Elec_MMBtu November   1243 non-null   object \n",
      " 39  Quantity Consumed For Electricity (MMBtu) - Elec_MMBtu December   1243 non-null   object \n",
      " 40  Electricity Net Generation (MWh) - Netgen January                 1243 non-null   object \n",
      " 41  Electricity Net Generation (MWh) - Netgen February                1243 non-null   object \n",
      " 42  Electricity Net Generation (MWh) - Netgen March                   1243 non-null   object \n",
      " 43  Electricity Net Generation (MWh) - Netgen April                   1243 non-null   object \n",
      " 44  Electricity Net Generation (MWh) - Netgen May                     1243 non-null   object \n",
      " 45  Electricity Net Generation (MWh) - Netgen June                    1243 non-null   object \n",
      " 46  Electricity Net Generation (MWh) - Netgen July                    1243 non-null   object \n",
      " 47  Electricity Net Generation (MWh) - Netgen August                  1243 non-null   object \n",
      " 48  Electricity Net Generation (MWh) - Netgen September               1243 non-null   object \n",
      " 49  Electricity Net Generation (MWh) - Netgen October                 1243 non-null   object \n",
      " 50  Electricity Net Generation (MWh) - Netgen November                1243 non-null   object \n",
      " 51  Electricity Net Generation (MWh) - Netgen December                1243 non-null   object \n",
      " 52  Year-To-Date - Total Fuel Consumption MMBtu                       1243 non-null   int64  \n",
      " 53  Year-To-Date - Elec Fuel Consumption MMBtu                        1243 non-null   int64  \n",
      " 54  Year-To-Date - Net Generation (Megawatthours)                     1243 non-null   float64\n",
      " 55  Year-To-Date - YEAR                                               1243 non-null   int64  \n",
      "dtypes: float64(1), int64(6), object(49)\n",
      "memory usage: 543.9+ KB\n"
     ]
    }
   ],
   "source": [
    "# Check data type\n",
    "wind_opr_df.info()"
   ]
  },
  {
   "cell_type": "code",
   "execution_count": null,
   "metadata": {},
   "outputs": [
    {
     "name": "stderr",
     "output_type": "stream",
     "text": [
      "C:\\Users\\jubra\\AppData\\Local\\Temp\\ipykernel_12056\\3761527868.py:8: SettingWithCopyWarning:\n",
      "\n",
      "\n",
      "A value is trying to be set on a copy of a slice from a DataFrame\n",
      "\n",
      "See the caveats in the documentation: https://pandas.pydata.org/pandas-docs/stable/user_guide/indexing.html#returning-a-view-versus-a-copy\n",
      "\n"
     ]
    }
   ],
   "source": [
    "# Change data type from object to float\n",
    "convert_to_float(wind_opr_df,get_column_containing(wind_opr_df.columns,'Total Fuel Consumed (MMBtu)'))\n",
    "convert_to_float(wind_opr_df,get_column_containing(wind_opr_df.columns,'Quantity Consumed For Electricity (MMBtu)'))\n",
    "convert_to_float(wind_opr_df,get_column_containing(wind_opr_df.columns,'Electricity Net Generation (MWh)'))"
   ]
  },
  {
   "cell_type": "code",
   "execution_count": null,
   "metadata": {},
   "outputs": [
    {
     "data": {
      "text/html": [
       "<div>\n",
       "<style scoped>\n",
       "    .dataframe tbody tr th:only-of-type {\n",
       "        vertical-align: middle;\n",
       "    }\n",
       "\n",
       "    .dataframe tbody tr th {\n",
       "        vertical-align: top;\n",
       "    }\n",
       "\n",
       "    .dataframe thead th {\n",
       "        text-align: right;\n",
       "    }\n",
       "</style>\n",
       "<table border=\"1\" class=\"dataframe\">\n",
       "  <thead>\n",
       "    <tr style=\"text-align: right;\">\n",
       "      <th></th>\n",
       "      <th>Plant Id</th>\n",
       "      <th>NAICS Code</th>\n",
       "      <th>EIA Sector Number</th>\n",
       "      <th>Total Fuel Consumed (MMBtu) - Tot_MMBtu January</th>\n",
       "      <th>Total Fuel Consumed (MMBtu) - Tot_MMBtu February</th>\n",
       "      <th>Total Fuel Consumed (MMBtu) - Tot_MMBtu March</th>\n",
       "      <th>Total Fuel Consumed (MMBtu) - Tot_MMBtu April</th>\n",
       "      <th>Total Fuel Consumed (MMBtu) - Tot_MMBtu May</th>\n",
       "      <th>Total Fuel Consumed (MMBtu) - Tot_MMBtu June</th>\n",
       "      <th>Total Fuel Consumed (MMBtu) - Tot_MMBtu July</th>\n",
       "      <th>...</th>\n",
       "      <th>Electricity Net Generation (MWh) - Netgen July</th>\n",
       "      <th>Electricity Net Generation (MWh) - Netgen August</th>\n",
       "      <th>Electricity Net Generation (MWh) - Netgen September</th>\n",
       "      <th>Electricity Net Generation (MWh) - Netgen October</th>\n",
       "      <th>Electricity Net Generation (MWh) - Netgen November</th>\n",
       "      <th>Electricity Net Generation (MWh) - Netgen December</th>\n",
       "      <th>Year-To-Date - Total Fuel Consumption MMBtu</th>\n",
       "      <th>Year-To-Date - Elec Fuel Consumption MMBtu</th>\n",
       "      <th>Year-To-Date - Net Generation (Megawatthours)</th>\n",
       "      <th>Year-To-Date - YEAR</th>\n",
       "    </tr>\n",
       "  </thead>\n",
       "  <tbody>\n",
       "    <tr>\n",
       "      <th>count</th>\n",
       "      <td>1243.000000</td>\n",
       "      <td>1243.000000</td>\n",
       "      <td>1243.000000</td>\n",
       "      <td>1.156000e+03</td>\n",
       "      <td>1.149000e+03</td>\n",
       "      <td>1.153000e+03</td>\n",
       "      <td>1.155000e+03</td>\n",
       "      <td>1.161000e+03</td>\n",
       "      <td>1.164000e+03</td>\n",
       "      <td>1.165000e+03</td>\n",
       "      <td>...</td>\n",
       "      <td>1165.000000</td>\n",
       "      <td>1170.000000</td>\n",
       "      <td>1174.000000</td>\n",
       "      <td>1178.000000</td>\n",
       "      <td>1190.000000</td>\n",
       "      <td>1222.000000</td>\n",
       "      <td>1.243000e+03</td>\n",
       "      <td>1.243000e+03</td>\n",
       "      <td>1.243000e+03</td>\n",
       "      <td>1243.0</td>\n",
       "    </tr>\n",
       "    <tr>\n",
       "      <th>mean</th>\n",
       "      <td>57312.234916</td>\n",
       "      <td>1076.500402</td>\n",
       "      <td>1.968624</td>\n",
       "      <td>2.134162e+05</td>\n",
       "      <td>2.222684e+05</td>\n",
       "      <td>2.230897e+05</td>\n",
       "      <td>2.259881e+05</td>\n",
       "      <td>2.144322e+05</td>\n",
       "      <td>2.277091e+05</td>\n",
       "      <td>1.721933e+05</td>\n",
       "      <td>...</td>\n",
       "      <td>19627.637947</td>\n",
       "      <td>19683.189660</td>\n",
       "      <td>19749.554982</td>\n",
       "      <td>24467.455591</td>\n",
       "      <td>27839.836220</td>\n",
       "      <td>26195.290647</td>\n",
       "      <td>2.385141e+06</td>\n",
       "      <td>2.385141e+06</td>\n",
       "      <td>2.718729e+05</td>\n",
       "      <td>2020.0</td>\n",
       "    </tr>\n",
       "    <tr>\n",
       "      <th>std</th>\n",
       "      <td>8956.763670</td>\n",
       "      <td>12526.455911</td>\n",
       "      <td>0.687932</td>\n",
       "      <td>2.538814e+05</td>\n",
       "      <td>2.568774e+05</td>\n",
       "      <td>2.529347e+05</td>\n",
       "      <td>2.574561e+05</td>\n",
       "      <td>2.470443e+05</td>\n",
       "      <td>2.791473e+05</td>\n",
       "      <td>2.093712e+05</td>\n",
       "      <td>...</td>\n",
       "      <td>23865.403300</td>\n",
       "      <td>23834.450177</td>\n",
       "      <td>23422.559508</td>\n",
       "      <td>29010.878656</td>\n",
       "      <td>32382.185532</td>\n",
       "      <td>30282.781138</td>\n",
       "      <td>2.818591e+06</td>\n",
       "      <td>2.818591e+06</td>\n",
       "      <td>3.212801e+05</td>\n",
       "      <td>0.0</td>\n",
       "    </tr>\n",
       "    <tr>\n",
       "      <th>min</th>\n",
       "      <td>1.000000</td>\n",
       "      <td>22.000000</td>\n",
       "      <td>1.000000</td>\n",
       "      <td>0.000000e+00</td>\n",
       "      <td>0.000000e+00</td>\n",
       "      <td>0.000000e+00</td>\n",
       "      <td>0.000000e+00</td>\n",
       "      <td>0.000000e+00</td>\n",
       "      <td>0.000000e+00</td>\n",
       "      <td>0.000000e+00</td>\n",
       "      <td>...</td>\n",
       "      <td>0.000000</td>\n",
       "      <td>0.000000</td>\n",
       "      <td>0.000000</td>\n",
       "      <td>0.000000</td>\n",
       "      <td>0.000000</td>\n",
       "      <td>0.000000</td>\n",
       "      <td>0.000000e+00</td>\n",
       "      <td>0.000000e+00</td>\n",
       "      <td>0.000000e+00</td>\n",
       "      <td>2020.0</td>\n",
       "    </tr>\n",
       "    <tr>\n",
       "      <th>25%</th>\n",
       "      <td>56644.500000</td>\n",
       "      <td>22.000000</td>\n",
       "      <td>2.000000</td>\n",
       "      <td>1.261325e+04</td>\n",
       "      <td>1.480000e+04</td>\n",
       "      <td>1.564500e+04</td>\n",
       "      <td>1.693900e+04</td>\n",
       "      <td>1.537900e+04</td>\n",
       "      <td>1.601950e+04</td>\n",
       "      <td>1.271400e+04</td>\n",
       "      <td>...</td>\n",
       "      <td>1449.180000</td>\n",
       "      <td>1480.786500</td>\n",
       "      <td>1280.647000</td>\n",
       "      <td>1638.739000</td>\n",
       "      <td>1757.448500</td>\n",
       "      <td>1586.500000</td>\n",
       "      <td>1.590315e+05</td>\n",
       "      <td>1.590315e+05</td>\n",
       "      <td>1.812750e+04</td>\n",
       "      <td>2020.0</td>\n",
       "    </tr>\n",
       "    <tr>\n",
       "      <th>50%</th>\n",
       "      <td>57617.000000</td>\n",
       "      <td>22.000000</td>\n",
       "      <td>2.000000</td>\n",
       "      <td>1.250050e+05</td>\n",
       "      <td>1.334810e+05</td>\n",
       "      <td>1.425490e+05</td>\n",
       "      <td>1.455270e+05</td>\n",
       "      <td>1.402020e+05</td>\n",
       "      <td>1.278235e+05</td>\n",
       "      <td>9.761200e+04</td>\n",
       "      <td>...</td>\n",
       "      <td>11126.397000</td>\n",
       "      <td>11094.053500</td>\n",
       "      <td>12148.380500</td>\n",
       "      <td>14618.184500</td>\n",
       "      <td>16722.469500</td>\n",
       "      <td>16004.469500</td>\n",
       "      <td>1.332750e+06</td>\n",
       "      <td>1.332750e+06</td>\n",
       "      <td>1.519150e+05</td>\n",
       "      <td>2020.0</td>\n",
       "    </tr>\n",
       "    <tr>\n",
       "      <th>75%</th>\n",
       "      <td>59493.500000</td>\n",
       "      <td>22.000000</td>\n",
       "      <td>2.000000</td>\n",
       "      <td>3.331575e+05</td>\n",
       "      <td>3.440140e+05</td>\n",
       "      <td>3.391440e+05</td>\n",
       "      <td>3.481610e+05</td>\n",
       "      <td>3.241360e+05</td>\n",
       "      <td>3.372460e+05</td>\n",
       "      <td>2.563650e+05</td>\n",
       "      <td>...</td>\n",
       "      <td>29222.000000</td>\n",
       "      <td>29422.124000</td>\n",
       "      <td>29410.823250</td>\n",
       "      <td>36883.356250</td>\n",
       "      <td>42024.750000</td>\n",
       "      <td>39885.257500</td>\n",
       "      <td>3.662180e+06</td>\n",
       "      <td>3.662180e+06</td>\n",
       "      <td>4.174375e+05</td>\n",
       "      <td>2020.0</td>\n",
       "    </tr>\n",
       "    <tr>\n",
       "      <th>max</th>\n",
       "      <td>99999.000000</td>\n",
       "      <td>325211.000000</td>\n",
       "      <td>7.000000</td>\n",
       "      <td>2.067463e+06</td>\n",
       "      <td>1.918111e+06</td>\n",
       "      <td>1.845901e+06</td>\n",
       "      <td>2.159342e+06</td>\n",
       "      <td>2.049934e+06</td>\n",
       "      <td>2.034932e+06</td>\n",
       "      <td>1.560927e+06</td>\n",
       "      <td>...</td>\n",
       "      <td>177924.000000</td>\n",
       "      <td>174457.000000</td>\n",
       "      <td>158202.000000</td>\n",
       "      <td>230505.000000</td>\n",
       "      <td>229165.000000</td>\n",
       "      <td>219055.000000</td>\n",
       "      <td>2.205056e+07</td>\n",
       "      <td>2.205056e+07</td>\n",
       "      <td>2.513457e+06</td>\n",
       "      <td>2020.0</td>\n",
       "    </tr>\n",
       "  </tbody>\n",
       "</table>\n",
       "<p>8 rows × 43 columns</p>\n",
       "</div>"
      ],
      "text/plain": [
       "           Plant Id     NAICS Code  EIA Sector Number  \\\n",
       "count   1243.000000    1243.000000        1243.000000   \n",
       "mean   57312.234916    1076.500402           1.968624   \n",
       "std     8956.763670   12526.455911           0.687932   \n",
       "min        1.000000      22.000000           1.000000   \n",
       "25%    56644.500000      22.000000           2.000000   \n",
       "50%    57617.000000      22.000000           2.000000   \n",
       "75%    59493.500000      22.000000           2.000000   \n",
       "max    99999.000000  325211.000000           7.000000   \n",
       "\n",
       "       Total Fuel Consumed (MMBtu) - Tot_MMBtu January  \\\n",
       "count                                     1.156000e+03   \n",
       "mean                                      2.134162e+05   \n",
       "std                                       2.538814e+05   \n",
       "min                                       0.000000e+00   \n",
       "25%                                       1.261325e+04   \n",
       "50%                                       1.250050e+05   \n",
       "75%                                       3.331575e+05   \n",
       "max                                       2.067463e+06   \n",
       "\n",
       "       Total Fuel Consumed (MMBtu) - Tot_MMBtu February  \\\n",
       "count                                      1.149000e+03   \n",
       "mean                                       2.222684e+05   \n",
       "std                                        2.568774e+05   \n",
       "min                                        0.000000e+00   \n",
       "25%                                        1.480000e+04   \n",
       "50%                                        1.334810e+05   \n",
       "75%                                        3.440140e+05   \n",
       "max                                        1.918111e+06   \n",
       "\n",
       "       Total Fuel Consumed (MMBtu) - Tot_MMBtu March  \\\n",
       "count                                   1.153000e+03   \n",
       "mean                                    2.230897e+05   \n",
       "std                                     2.529347e+05   \n",
       "min                                     0.000000e+00   \n",
       "25%                                     1.564500e+04   \n",
       "50%                                     1.425490e+05   \n",
       "75%                                     3.391440e+05   \n",
       "max                                     1.845901e+06   \n",
       "\n",
       "       Total Fuel Consumed (MMBtu) - Tot_MMBtu April  \\\n",
       "count                                   1.155000e+03   \n",
       "mean                                    2.259881e+05   \n",
       "std                                     2.574561e+05   \n",
       "min                                     0.000000e+00   \n",
       "25%                                     1.693900e+04   \n",
       "50%                                     1.455270e+05   \n",
       "75%                                     3.481610e+05   \n",
       "max                                     2.159342e+06   \n",
       "\n",
       "       Total Fuel Consumed (MMBtu) - Tot_MMBtu May  \\\n",
       "count                                 1.161000e+03   \n",
       "mean                                  2.144322e+05   \n",
       "std                                   2.470443e+05   \n",
       "min                                   0.000000e+00   \n",
       "25%                                   1.537900e+04   \n",
       "50%                                   1.402020e+05   \n",
       "75%                                   3.241360e+05   \n",
       "max                                   2.049934e+06   \n",
       "\n",
       "       Total Fuel Consumed (MMBtu) - Tot_MMBtu June  \\\n",
       "count                                  1.164000e+03   \n",
       "mean                                   2.277091e+05   \n",
       "std                                    2.791473e+05   \n",
       "min                                    0.000000e+00   \n",
       "25%                                    1.601950e+04   \n",
       "50%                                    1.278235e+05   \n",
       "75%                                    3.372460e+05   \n",
       "max                                    2.034932e+06   \n",
       "\n",
       "       Total Fuel Consumed (MMBtu) - Tot_MMBtu July  ...  \\\n",
       "count                                  1.165000e+03  ...   \n",
       "mean                                   1.721933e+05  ...   \n",
       "std                                    2.093712e+05  ...   \n",
       "min                                    0.000000e+00  ...   \n",
       "25%                                    1.271400e+04  ...   \n",
       "50%                                    9.761200e+04  ...   \n",
       "75%                                    2.563650e+05  ...   \n",
       "max                                    1.560927e+06  ...   \n",
       "\n",
       "       Electricity Net Generation (MWh) - Netgen July  \\\n",
       "count                                     1165.000000   \n",
       "mean                                     19627.637947   \n",
       "std                                      23865.403300   \n",
       "min                                          0.000000   \n",
       "25%                                       1449.180000   \n",
       "50%                                      11126.397000   \n",
       "75%                                      29222.000000   \n",
       "max                                     177924.000000   \n",
       "\n",
       "       Electricity Net Generation (MWh) - Netgen August  \\\n",
       "count                                       1170.000000   \n",
       "mean                                       19683.189660   \n",
       "std                                        23834.450177   \n",
       "min                                            0.000000   \n",
       "25%                                         1480.786500   \n",
       "50%                                        11094.053500   \n",
       "75%                                        29422.124000   \n",
       "max                                       174457.000000   \n",
       "\n",
       "       Electricity Net Generation (MWh) - Netgen September  \\\n",
       "count                                        1174.000000     \n",
       "mean                                        19749.554982     \n",
       "std                                         23422.559508     \n",
       "min                                             0.000000     \n",
       "25%                                          1280.647000     \n",
       "50%                                         12148.380500     \n",
       "75%                                         29410.823250     \n",
       "max                                        158202.000000     \n",
       "\n",
       "       Electricity Net Generation (MWh) - Netgen October  \\\n",
       "count                                        1178.000000   \n",
       "mean                                        24467.455591   \n",
       "std                                         29010.878656   \n",
       "min                                             0.000000   \n",
       "25%                                          1638.739000   \n",
       "50%                                         14618.184500   \n",
       "75%                                         36883.356250   \n",
       "max                                        230505.000000   \n",
       "\n",
       "       Electricity Net Generation (MWh) - Netgen November  \\\n",
       "count                                        1190.000000    \n",
       "mean                                        27839.836220    \n",
       "std                                         32382.185532    \n",
       "min                                             0.000000    \n",
       "25%                                          1757.448500    \n",
       "50%                                         16722.469500    \n",
       "75%                                         42024.750000    \n",
       "max                                        229165.000000    \n",
       "\n",
       "       Electricity Net Generation (MWh) - Netgen December  \\\n",
       "count                                        1222.000000    \n",
       "mean                                        26195.290647    \n",
       "std                                         30282.781138    \n",
       "min                                             0.000000    \n",
       "25%                                          1586.500000    \n",
       "50%                                         16004.469500    \n",
       "75%                                         39885.257500    \n",
       "max                                        219055.000000    \n",
       "\n",
       "       Year-To-Date - Total Fuel Consumption MMBtu  \\\n",
       "count                                 1.243000e+03   \n",
       "mean                                  2.385141e+06   \n",
       "std                                   2.818591e+06   \n",
       "min                                   0.000000e+00   \n",
       "25%                                   1.590315e+05   \n",
       "50%                                   1.332750e+06   \n",
       "75%                                   3.662180e+06   \n",
       "max                                   2.205056e+07   \n",
       "\n",
       "       Year-To-Date - Elec Fuel Consumption MMBtu  \\\n",
       "count                                1.243000e+03   \n",
       "mean                                 2.385141e+06   \n",
       "std                                  2.818591e+06   \n",
       "min                                  0.000000e+00   \n",
       "25%                                  1.590315e+05   \n",
       "50%                                  1.332750e+06   \n",
       "75%                                  3.662180e+06   \n",
       "max                                  2.205056e+07   \n",
       "\n",
       "       Year-To-Date - Net Generation (Megawatthours)  Year-To-Date - YEAR  \n",
       "count                                   1.243000e+03               1243.0  \n",
       "mean                                    2.718729e+05               2020.0  \n",
       "std                                     3.212801e+05                  0.0  \n",
       "min                                     0.000000e+00               2020.0  \n",
       "25%                                     1.812750e+04               2020.0  \n",
       "50%                                     1.519150e+05               2020.0  \n",
       "75%                                     4.174375e+05               2020.0  \n",
       "max                                     2.513457e+06               2020.0  \n",
       "\n",
       "[8 rows x 43 columns]"
      ]
     },
     "execution_count": 39,
     "metadata": {},
     "output_type": "execute_result"
    }
   ],
   "source": [
    "# Summary statistics\n",
    "wind_opr_df.describe()"
   ]
  },
  {
   "attachments": {},
   "cell_type": "markdown",
   "metadata": {},
   "source": [
    "##### __Hydro operator Table:__ "
   ]
  },
  {
   "cell_type": "code",
   "execution_count": null,
   "metadata": {},
   "outputs": [
    {
     "name": "stdout",
     "output_type": "stream",
     "text": [
      "Size of data set (Rows , Columns):\n",
      " (1477, 83)\n",
      "\n",
      "Number of null values:\n",
      "44 \tNull values (2.979%) in NERC Region (object) with 6 unique value(s)\n",
      "38 \tNull values (2.573%) in Balancing Authority Code (object) with 45 unique value(s)\n",
      "6 \tNull values (0.406%) in Respondent Frequency (object) with 2 unique value(s)\n",
      "1435 \tNull values (97.156%) in Physical Unit Label (object) with 1 unique value(s)\n"
     ]
    }
   ],
   "source": [
    "# Check for columns with null values (To check all columns send use: check_for_null(wind_opr_df,True) )\n",
    "print('Size of data set (Rows , Columns):\\n',hydro_opr_df.shape)\n",
    "print('\\nNumber of null values:')\n",
    "check(hydro_opr_df)"
   ]
  },
  {
   "attachments": {},
   "cell_type": "markdown",
   "metadata": {},
   "source": [
    "Dropping 'Physical Unit Label' column since more than 97% of its values are missing"
   ]
  },
  {
   "cell_type": "code",
   "execution_count": null,
   "metadata": {},
   "outputs": [
    {
     "name": "stdout",
     "output_type": "stream",
     "text": [
      "physical unit label : The type of physical units fuel consumption is reported in:\n",
      "mcf:\tfor gases\n",
      "short tons:\tfor solid\n",
      "barrels:\tfor liquids\n"
     ]
    }
   ],
   "source": [
    "dictionary(1,\"Physical Unit Label\")"
   ]
  },
  {
   "cell_type": "code",
   "execution_count": null,
   "metadata": {},
   "outputs": [
    {
     "name": "stderr",
     "output_type": "stream",
     "text": [
      "C:\\Users\\jubra\\AppData\\Local\\Temp\\ipykernel_12056\\2952157296.py:2: SettingWithCopyWarning:\n",
      "\n",
      "\n",
      "A value is trying to be set on a copy of a slice from a DataFrame\n",
      "\n",
      "See the caveats in the documentation: https://pandas.pydata.org/pandas-docs/stable/user_guide/indexing.html#returning-a-view-versus-a-copy\n",
      "\n"
     ]
    }
   ],
   "source": [
    "# Drop 'Physical Unit Label'\n",
    "hydro_opr_df.drop(columns=['Physical Unit Label'],axis=1,inplace=True)"
   ]
  },
  {
   "cell_type": "code",
   "execution_count": null,
   "metadata": {},
   "outputs": [
    {
     "name": "stdout",
     "output_type": "stream",
     "text": [
      "Size of data set (Rows , Columns):\n",
      " (1477, 82)\n"
     ]
    }
   ],
   "source": [
    "print('Size of data set (Rows , Columns):\\n',hydro_opr_df.shape)"
   ]
  },
  {
   "cell_type": "code",
   "execution_count": null,
   "metadata": {},
   "outputs": [
    {
     "data": {
      "text/html": [
       "<div>\n",
       "<style scoped>\n",
       "    .dataframe tbody tr th:only-of-type {\n",
       "        vertical-align: middle;\n",
       "    }\n",
       "\n",
       "    .dataframe tbody tr th {\n",
       "        vertical-align: top;\n",
       "    }\n",
       "\n",
       "    .dataframe thead th {\n",
       "        text-align: right;\n",
       "    }\n",
       "</style>\n",
       "<table border=\"1\" class=\"dataframe\">\n",
       "  <thead>\n",
       "    <tr style=\"text-align: right;\">\n",
       "      <th></th>\n",
       "      <th>Plant Id</th>\n",
       "      <th>NAICS Code</th>\n",
       "      <th>EIA Sector Number</th>\n",
       "      <th>Total Quantity Consumed In Physical Units (Consumed For Electric Generation And Useful Thermal Output) - Quantity January</th>\n",
       "      <th>Total Quantity Consumed In Physical Units (Consumed For Electric Generation And Useful Thermal Output) - Quantity February</th>\n",
       "      <th>Total Quantity Consumed In Physical Units (Consumed For Electric Generation And Useful Thermal Output) - Quantity March</th>\n",
       "      <th>Total Quantity Consumed In Physical Units (Consumed For Electric Generation And Useful Thermal Output) - Quantity April</th>\n",
       "      <th>Total Quantity Consumed In Physical Units (Consumed For Electric Generation And Useful Thermal Output) - Quantity May</th>\n",
       "      <th>Total Quantity Consumed In Physical Units (Consumed For Electric Generation And Useful Thermal Output) - Quantity June</th>\n",
       "      <th>Total Quantity Consumed In Physical Units (Consumed For Electric Generation And Useful Thermal Output) - Quantity July</th>\n",
       "      <th>...</th>\n",
       "      <th>Electricity Net Generation (MWh) - Netgen September</th>\n",
       "      <th>Electricity Net Generation (MWh) - Netgen October</th>\n",
       "      <th>Electricity Net Generation (MWh) - Netgen November</th>\n",
       "      <th>Electricity Net Generation (MWh) - Netgen December</th>\n",
       "      <th>Year-To-Date - Total Fuel Consumption Quantity</th>\n",
       "      <th>Year-To-Date - Electric Fuel Consumption Quantity</th>\n",
       "      <th>Year-To-Date - Total Fuel Consumption MMBtu</th>\n",
       "      <th>Year-To-Date - Elec Fuel Consumption MMBtu</th>\n",
       "      <th>Year-To-Date - Net Generation (Megawatthours)</th>\n",
       "      <th>Year-To-Date - YEAR</th>\n",
       "    </tr>\n",
       "  </thead>\n",
       "  <tbody>\n",
       "    <tr>\n",
       "      <th>count</th>\n",
       "      <td>1477.000000</td>\n",
       "      <td>1477.000000</td>\n",
       "      <td>1477.000000</td>\n",
       "      <td>1474.000000</td>\n",
       "      <td>1474.000000</td>\n",
       "      <td>1474.000000</td>\n",
       "      <td>1474.000000</td>\n",
       "      <td>1474.000000</td>\n",
       "      <td>1471.000000</td>\n",
       "      <td>1472.000000</td>\n",
       "      <td>...</td>\n",
       "      <td>1.471000e+03</td>\n",
       "      <td>1.470000e+03</td>\n",
       "      <td>1.470000e+03</td>\n",
       "      <td>1.470000e+03</td>\n",
       "      <td>1.477000e+03</td>\n",
       "      <td>1.477000e+03</td>\n",
       "      <td>1.477000e+03</td>\n",
       "      <td>1.477000e+03</td>\n",
       "      <td>1.477000e+03</td>\n",
       "      <td>1477.0</td>\n",
       "    </tr>\n",
       "    <tr>\n",
       "      <th>mean</th>\n",
       "      <td>14513.930941</td>\n",
       "      <td>3323.263372</td>\n",
       "      <td>1.489506</td>\n",
       "      <td>1291.894844</td>\n",
       "      <td>1146.075305</td>\n",
       "      <td>1152.063094</td>\n",
       "      <td>1133.480326</td>\n",
       "      <td>1495.078697</td>\n",
       "      <td>1841.688647</td>\n",
       "      <td>2310.474864</td>\n",
       "      <td>...</td>\n",
       "      <td>1.234132e+04</td>\n",
       "      <td>1.250827e+04</td>\n",
       "      <td>1.396152e+04</td>\n",
       "      <td>1.438117e+04</td>\n",
       "      <td>1.785897e+04</td>\n",
       "      <td>1.785897e+04</td>\n",
       "      <td>1.694466e+06</td>\n",
       "      <td>1.694466e+06</td>\n",
       "      <td>1.895414e+05</td>\n",
       "      <td>2020.0</td>\n",
       "    </tr>\n",
       "    <tr>\n",
       "      <th>std</th>\n",
       "      <td>21403.430214</td>\n",
       "      <td>29663.998413</td>\n",
       "      <td>0.896805</td>\n",
       "      <td>14355.954403</td>\n",
       "      <td>13170.663410</td>\n",
       "      <td>12005.836079</td>\n",
       "      <td>12126.213941</td>\n",
       "      <td>16781.499717</td>\n",
       "      <td>20763.456040</td>\n",
       "      <td>26715.069328</td>\n",
       "      <td>...</td>\n",
       "      <td>6.255959e+04</td>\n",
       "      <td>6.241934e+04</td>\n",
       "      <td>7.403358e+04</td>\n",
       "      <td>7.618157e+04</td>\n",
       "      <td>1.969042e+05</td>\n",
       "      <td>1.969042e+05</td>\n",
       "      <td>8.241922e+06</td>\n",
       "      <td>8.241922e+06</td>\n",
       "      <td>9.412930e+05</td>\n",
       "      <td>0.0</td>\n",
       "    </tr>\n",
       "    <tr>\n",
       "      <th>min</th>\n",
       "      <td>2.000000</td>\n",
       "      <td>22.000000</td>\n",
       "      <td>1.000000</td>\n",
       "      <td>0.000000</td>\n",
       "      <td>0.000000</td>\n",
       "      <td>0.000000</td>\n",
       "      <td>0.000000</td>\n",
       "      <td>0.000000</td>\n",
       "      <td>0.000000</td>\n",
       "      <td>0.000000</td>\n",
       "      <td>...</td>\n",
       "      <td>-9.508400e+04</td>\n",
       "      <td>-7.229900e+04</td>\n",
       "      <td>-6.836000e+04</td>\n",
       "      <td>-5.969000e+04</td>\n",
       "      <td>0.000000e+00</td>\n",
       "      <td>0.000000e+00</td>\n",
       "      <td>0.000000e+00</td>\n",
       "      <td>0.000000e+00</td>\n",
       "      <td>-8.454800e+05</td>\n",
       "      <td>2020.0</td>\n",
       "    </tr>\n",
       "    <tr>\n",
       "      <th>25%</th>\n",
       "      <td>1516.000000</td>\n",
       "      <td>22.000000</td>\n",
       "      <td>1.000000</td>\n",
       "      <td>0.000000</td>\n",
       "      <td>0.000000</td>\n",
       "      <td>0.000000</td>\n",
       "      <td>0.000000</td>\n",
       "      <td>0.000000</td>\n",
       "      <td>0.000000</td>\n",
       "      <td>0.000000</td>\n",
       "      <td>...</td>\n",
       "      <td>3.529965e+02</td>\n",
       "      <td>4.124013e+02</td>\n",
       "      <td>4.360640e+02</td>\n",
       "      <td>4.460702e+02</td>\n",
       "      <td>0.000000e+00</td>\n",
       "      <td>0.000000e+00</td>\n",
       "      <td>5.233100e+04</td>\n",
       "      <td>5.233100e+04</td>\n",
       "      <td>6.159000e+03</td>\n",
       "      <td>2020.0</td>\n",
       "    </tr>\n",
       "    <tr>\n",
       "      <th>50%</th>\n",
       "      <td>3772.000000</td>\n",
       "      <td>22.000000</td>\n",
       "      <td>1.000000</td>\n",
       "      <td>0.000000</td>\n",
       "      <td>0.000000</td>\n",
       "      <td>0.000000</td>\n",
       "      <td>0.000000</td>\n",
       "      <td>0.000000</td>\n",
       "      <td>0.000000</td>\n",
       "      <td>0.000000</td>\n",
       "      <td>...</td>\n",
       "      <td>1.334132e+03</td>\n",
       "      <td>1.461751e+03</td>\n",
       "      <td>1.538741e+03</td>\n",
       "      <td>1.585802e+03</td>\n",
       "      <td>0.000000e+00</td>\n",
       "      <td>0.000000e+00</td>\n",
       "      <td>1.825500e+05</td>\n",
       "      <td>1.825500e+05</td>\n",
       "      <td>2.109800e+04</td>\n",
       "      <td>2020.0</td>\n",
       "    </tr>\n",
       "    <tr>\n",
       "      <th>75%</th>\n",
       "      <td>10494.000000</td>\n",
       "      <td>22.000000</td>\n",
       "      <td>2.000000</td>\n",
       "      <td>0.000000</td>\n",
       "      <td>0.000000</td>\n",
       "      <td>0.000000</td>\n",
       "      <td>0.000000</td>\n",
       "      <td>0.000000</td>\n",
       "      <td>0.000000</td>\n",
       "      <td>0.000000</td>\n",
       "      <td>...</td>\n",
       "      <td>5.891425e+03</td>\n",
       "      <td>6.076339e+03</td>\n",
       "      <td>6.305589e+03</td>\n",
       "      <td>6.698563e+03</td>\n",
       "      <td>0.000000e+00</td>\n",
       "      <td>0.000000e+00</td>\n",
       "      <td>8.449360e+05</td>\n",
       "      <td>8.449360e+05</td>\n",
       "      <td>9.732200e+04</td>\n",
       "      <td>2020.0</td>\n",
       "    </tr>\n",
       "    <tr>\n",
       "      <th>max</th>\n",
       "      <td>99999.000000</td>\n",
       "      <td>322122.000000</td>\n",
       "      <td>7.000000</td>\n",
       "      <td>293292.000000</td>\n",
       "      <td>279028.000000</td>\n",
       "      <td>212807.000000</td>\n",
       "      <td>266924.000000</td>\n",
       "      <td>355248.000000</td>\n",
       "      <td>440743.000000</td>\n",
       "      <td>645515.000000</td>\n",
       "      <td>...</td>\n",
       "      <td>1.384471e+06</td>\n",
       "      <td>1.407159e+06</td>\n",
       "      <td>1.581270e+06</td>\n",
       "      <td>1.534896e+06</td>\n",
       "      <td>4.107467e+06</td>\n",
       "      <td>4.107467e+06</td>\n",
       "      <td>1.778858e+08</td>\n",
       "      <td>1.778858e+08</td>\n",
       "      <td>2.027650e+07</td>\n",
       "      <td>2020.0</td>\n",
       "    </tr>\n",
       "  </tbody>\n",
       "</table>\n",
       "<p>8 rows × 69 columns</p>\n",
       "</div>"
      ],
      "text/plain": [
       "           Plant Id     NAICS Code  EIA Sector Number  \\\n",
       "count   1477.000000    1477.000000        1477.000000   \n",
       "mean   14513.930941    3323.263372           1.489506   \n",
       "std    21403.430214   29663.998413           0.896805   \n",
       "min        2.000000      22.000000           1.000000   \n",
       "25%     1516.000000      22.000000           1.000000   \n",
       "50%     3772.000000      22.000000           1.000000   \n",
       "75%    10494.000000      22.000000           2.000000   \n",
       "max    99999.000000  322122.000000           7.000000   \n",
       "\n",
       "       Total Quantity Consumed In Physical Units (Consumed For Electric Generation And Useful Thermal Output) - Quantity January  \\\n",
       "count                                        1474.000000                                                                           \n",
       "mean                                         1291.894844                                                                           \n",
       "std                                         14355.954403                                                                           \n",
       "min                                             0.000000                                                                           \n",
       "25%                                             0.000000                                                                           \n",
       "50%                                             0.000000                                                                           \n",
       "75%                                             0.000000                                                                           \n",
       "max                                        293292.000000                                                                           \n",
       "\n",
       "       Total Quantity Consumed In Physical Units (Consumed For Electric Generation And Useful Thermal Output) - Quantity February  \\\n",
       "count                                        1474.000000                                                                            \n",
       "mean                                         1146.075305                                                                            \n",
       "std                                         13170.663410                                                                            \n",
       "min                                             0.000000                                                                            \n",
       "25%                                             0.000000                                                                            \n",
       "50%                                             0.000000                                                                            \n",
       "75%                                             0.000000                                                                            \n",
       "max                                        279028.000000                                                                            \n",
       "\n",
       "       Total Quantity Consumed In Physical Units (Consumed For Electric Generation And Useful Thermal Output) - Quantity March  \\\n",
       "count                                        1474.000000                                                                         \n",
       "mean                                         1152.063094                                                                         \n",
       "std                                         12005.836079                                                                         \n",
       "min                                             0.000000                                                                         \n",
       "25%                                             0.000000                                                                         \n",
       "50%                                             0.000000                                                                         \n",
       "75%                                             0.000000                                                                         \n",
       "max                                        212807.000000                                                                         \n",
       "\n",
       "       Total Quantity Consumed In Physical Units (Consumed For Electric Generation And Useful Thermal Output) - Quantity April  \\\n",
       "count                                        1474.000000                                                                         \n",
       "mean                                         1133.480326                                                                         \n",
       "std                                         12126.213941                                                                         \n",
       "min                                             0.000000                                                                         \n",
       "25%                                             0.000000                                                                         \n",
       "50%                                             0.000000                                                                         \n",
       "75%                                             0.000000                                                                         \n",
       "max                                        266924.000000                                                                         \n",
       "\n",
       "       Total Quantity Consumed In Physical Units (Consumed For Electric Generation And Useful Thermal Output) - Quantity May  \\\n",
       "count                                        1474.000000                                                                       \n",
       "mean                                         1495.078697                                                                       \n",
       "std                                         16781.499717                                                                       \n",
       "min                                             0.000000                                                                       \n",
       "25%                                             0.000000                                                                       \n",
       "50%                                             0.000000                                                                       \n",
       "75%                                             0.000000                                                                       \n",
       "max                                        355248.000000                                                                       \n",
       "\n",
       "       Total Quantity Consumed In Physical Units (Consumed For Electric Generation And Useful Thermal Output) - Quantity June  \\\n",
       "count                                        1471.000000                                                                        \n",
       "mean                                         1841.688647                                                                        \n",
       "std                                         20763.456040                                                                        \n",
       "min                                             0.000000                                                                        \n",
       "25%                                             0.000000                                                                        \n",
       "50%                                             0.000000                                                                        \n",
       "75%                                             0.000000                                                                        \n",
       "max                                        440743.000000                                                                        \n",
       "\n",
       "       Total Quantity Consumed In Physical Units (Consumed For Electric Generation And Useful Thermal Output) - Quantity July  \\\n",
       "count                                        1472.000000                                                                        \n",
       "mean                                         2310.474864                                                                        \n",
       "std                                         26715.069328                                                                        \n",
       "min                                             0.000000                                                                        \n",
       "25%                                             0.000000                                                                        \n",
       "50%                                             0.000000                                                                        \n",
       "75%                                             0.000000                                                                        \n",
       "max                                        645515.000000                                                                        \n",
       "\n",
       "       ...  Electricity Net Generation (MWh) - Netgen September  \\\n",
       "count  ...                                       1.471000e+03     \n",
       "mean   ...                                       1.234132e+04     \n",
       "std    ...                                       6.255959e+04     \n",
       "min    ...                                      -9.508400e+04     \n",
       "25%    ...                                       3.529965e+02     \n",
       "50%    ...                                       1.334132e+03     \n",
       "75%    ...                                       5.891425e+03     \n",
       "max    ...                                       1.384471e+06     \n",
       "\n",
       "       Electricity Net Generation (MWh) - Netgen October  \\\n",
       "count                                       1.470000e+03   \n",
       "mean                                        1.250827e+04   \n",
       "std                                         6.241934e+04   \n",
       "min                                        -7.229900e+04   \n",
       "25%                                         4.124013e+02   \n",
       "50%                                         1.461751e+03   \n",
       "75%                                         6.076339e+03   \n",
       "max                                         1.407159e+06   \n",
       "\n",
       "       Electricity Net Generation (MWh) - Netgen November  \\\n",
       "count                                       1.470000e+03    \n",
       "mean                                        1.396152e+04    \n",
       "std                                         7.403358e+04    \n",
       "min                                        -6.836000e+04    \n",
       "25%                                         4.360640e+02    \n",
       "50%                                         1.538741e+03    \n",
       "75%                                         6.305589e+03    \n",
       "max                                         1.581270e+06    \n",
       "\n",
       "       Electricity Net Generation (MWh) - Netgen December  \\\n",
       "count                                       1.470000e+03    \n",
       "mean                                        1.438117e+04    \n",
       "std                                         7.618157e+04    \n",
       "min                                        -5.969000e+04    \n",
       "25%                                         4.460702e+02    \n",
       "50%                                         1.585802e+03    \n",
       "75%                                         6.698563e+03    \n",
       "max                                         1.534896e+06    \n",
       "\n",
       "       Year-To-Date - Total Fuel Consumption Quantity  \\\n",
       "count                                    1.477000e+03   \n",
       "mean                                     1.785897e+04   \n",
       "std                                      1.969042e+05   \n",
       "min                                      0.000000e+00   \n",
       "25%                                      0.000000e+00   \n",
       "50%                                      0.000000e+00   \n",
       "75%                                      0.000000e+00   \n",
       "max                                      4.107467e+06   \n",
       "\n",
       "       Year-To-Date - Electric Fuel Consumption Quantity  \\\n",
       "count                                       1.477000e+03   \n",
       "mean                                        1.785897e+04   \n",
       "std                                         1.969042e+05   \n",
       "min                                         0.000000e+00   \n",
       "25%                                         0.000000e+00   \n",
       "50%                                         0.000000e+00   \n",
       "75%                                         0.000000e+00   \n",
       "max                                         4.107467e+06   \n",
       "\n",
       "       Year-To-Date - Total Fuel Consumption MMBtu  \\\n",
       "count                                 1.477000e+03   \n",
       "mean                                  1.694466e+06   \n",
       "std                                   8.241922e+06   \n",
       "min                                   0.000000e+00   \n",
       "25%                                   5.233100e+04   \n",
       "50%                                   1.825500e+05   \n",
       "75%                                   8.449360e+05   \n",
       "max                                   1.778858e+08   \n",
       "\n",
       "       Year-To-Date - Elec Fuel Consumption MMBtu  \\\n",
       "count                                1.477000e+03   \n",
       "mean                                 1.694466e+06   \n",
       "std                                  8.241922e+06   \n",
       "min                                  0.000000e+00   \n",
       "25%                                  5.233100e+04   \n",
       "50%                                  1.825500e+05   \n",
       "75%                                  8.449360e+05   \n",
       "max                                  1.778858e+08   \n",
       "\n",
       "       Year-To-Date - Net Generation (Megawatthours)  Year-To-Date - YEAR  \n",
       "count                                   1.477000e+03               1477.0  \n",
       "mean                                    1.895414e+05               2020.0  \n",
       "std                                     9.412930e+05                  0.0  \n",
       "min                                    -8.454800e+05               2020.0  \n",
       "25%                                     6.159000e+03               2020.0  \n",
       "50%                                     2.109800e+04               2020.0  \n",
       "75%                                     9.732200e+04               2020.0  \n",
       "max                                     2.027650e+07               2020.0  \n",
       "\n",
       "[8 rows x 69 columns]"
      ]
     },
     "execution_count": 47,
     "metadata": {},
     "output_type": "execute_result"
    }
   ],
   "source": [
    "# Summary Statistis\n",
    "hydro_opr_df.describe()"
   ]
  },
  {
   "attachments": {},
   "cell_type": "markdown",
   "metadata": {},
   "source": [
    "##### Merging wind_opr_df with wind_turbine_df\n",
    "- Connect by Plant Id _(wind_turbine_df['eia_id] == wind_opr_df['']['Plant Id'])_"
   ]
  },
  {
   "cell_type": "code",
   "execution_count": null,
   "metadata": {},
   "outputs": [
    {
     "name": "stdout",
     "output_type": "stream",
     "text": [
      "- wind_turbine_df\n",
      "\n",
      "50535.0    432\n",
      "56291.0    421\n",
      "56763.0    407\n",
      "56777.0    355\n",
      "60619.0    299\n",
      "          ... \n",
      "56376.0      1\n",
      "56225.0      1\n",
      "55853.0      1\n",
      "57257.0      1\n",
      "62642.0      1\n",
      "Name: eia_id, Length: 1193, dtype: int64\n",
      "\n",
      "- wind_opr_df\n",
      "\n",
      "99999    8\n",
      "2022     2\n",
      "58769    1\n",
      "58833    1\n",
      "58830    1\n",
      "        ..\n",
      "56941    1\n",
      "56935    1\n",
      "56934    1\n",
      "56933    1\n",
      "57613    1\n",
      "Name: Plant Id, Length: 1235, dtype: int64\n"
     ]
    }
   ],
   "source": [
    "# Checking plant id values in both dataframes\n",
    "print('- wind_turbine_df\\n')\n",
    "print(wind_turbine_df['eia_id'].value_counts())\n",
    "print('\\n- wind_opr_df\\n')\n",
    "print(wind_opr_df['Plant Id'].value_counts()) "
   ]
  },
  {
   "attachments": {},
   "cell_type": "markdown",
   "metadata": {},
   "source": [
    "- Plant Id: 99999 does not feature in wind_turbine_df dataframe.\n",
    "\n",
    "- Plant Id: 2022 is duplicated and featured in the same state but its entries are not. It exists in the wind_turbine_df dataframe but the data variables in both tables are not enough to accurately link plant id 2022 in both tables. Therefore, we will link it by default."
   ]
  },
  {
   "cell_type": "code",
   "execution_count": null,
   "metadata": {},
   "outputs": [
    {
     "data": {
      "text/html": [
       "<div>\n",
       "<style scoped>\n",
       "    .dataframe tbody tr th:only-of-type {\n",
       "        vertical-align: middle;\n",
       "    }\n",
       "\n",
       "    .dataframe tbody tr th {\n",
       "        vertical-align: top;\n",
       "    }\n",
       "\n",
       "    .dataframe thead th {\n",
       "        text-align: right;\n",
       "    }\n",
       "</style>\n",
       "<table border=\"1\" class=\"dataframe\">\n",
       "  <thead>\n",
       "    <tr style=\"text-align: right;\">\n",
       "      <th></th>\n",
       "      <th>Plant Id</th>\n",
       "      <th>Combined Heat And Power Plant</th>\n",
       "      <th>Plant Name</th>\n",
       "      <th>Operator Name</th>\n",
       "      <th>Operator Id</th>\n",
       "      <th>Plant State</th>\n",
       "      <th>Census Region</th>\n",
       "      <th>NERC Region</th>\n",
       "      <th>NAICS Code</th>\n",
       "      <th>EIA Sector Number</th>\n",
       "      <th>...</th>\n",
       "      <th>Electricity Net Generation (MWh) - Netgen July</th>\n",
       "      <th>Electricity Net Generation (MWh) - Netgen August</th>\n",
       "      <th>Electricity Net Generation (MWh) - Netgen September</th>\n",
       "      <th>Electricity Net Generation (MWh) - Netgen October</th>\n",
       "      <th>Electricity Net Generation (MWh) - Netgen November</th>\n",
       "      <th>Electricity Net Generation (MWh) - Netgen December</th>\n",
       "      <th>Year-To-Date - Total Fuel Consumption MMBtu</th>\n",
       "      <th>Year-To-Date - Elec Fuel Consumption MMBtu</th>\n",
       "      <th>Year-To-Date - Net Generation (Megawatthours)</th>\n",
       "      <th>Year-To-Date - YEAR</th>\n",
       "    </tr>\n",
       "  </thead>\n",
       "  <tbody>\n",
       "    <tr>\n",
       "      <th>7</th>\n",
       "      <td>2022</td>\n",
       "      <td>Y</td>\n",
       "      <td>Willmar</td>\n",
       "      <td>Willmar Municipal Utilities</td>\n",
       "      <td>20737</td>\n",
       "      <td>MN</td>\n",
       "      <td>WNC</td>\n",
       "      <td>MRO</td>\n",
       "      <td>22</td>\n",
       "      <td>1</td>\n",
       "      <td>...</td>\n",
       "      <td>NaN</td>\n",
       "      <td>NaN</td>\n",
       "      <td>NaN</td>\n",
       "      <td>NaN</td>\n",
       "      <td>NaN</td>\n",
       "      <td>NaN</td>\n",
       "      <td>33538</td>\n",
       "      <td>33538</td>\n",
       "      <td>3822.879</td>\n",
       "      <td>2020</td>\n",
       "    </tr>\n",
       "    <tr>\n",
       "      <th>8</th>\n",
       "      <td>2022</td>\n",
       "      <td>N</td>\n",
       "      <td>Willmar</td>\n",
       "      <td>Willmar Municipal Utilities</td>\n",
       "      <td>20737</td>\n",
       "      <td>MN</td>\n",
       "      <td>WNC</td>\n",
       "      <td>MRO</td>\n",
       "      <td>22</td>\n",
       "      <td>1</td>\n",
       "      <td>...</td>\n",
       "      <td>395.504</td>\n",
       "      <td>529.517</td>\n",
       "      <td>558.184</td>\n",
       "      <td>568.271</td>\n",
       "      <td>670.856</td>\n",
       "      <td>612.789</td>\n",
       "      <td>29258</td>\n",
       "      <td>29258</td>\n",
       "      <td>3335.121</td>\n",
       "      <td>2020</td>\n",
       "    </tr>\n",
       "  </tbody>\n",
       "</table>\n",
       "<p>2 rows × 56 columns</p>\n",
       "</div>"
      ],
      "text/plain": [
       "   Plant Id Combined Heat And Power Plant Plant Name  \\\n",
       "7      2022                             Y    Willmar   \n",
       "8      2022                             N    Willmar   \n",
       "\n",
       "                 Operator Name Operator Id Plant State Census Region  \\\n",
       "7  Willmar Municipal Utilities       20737          MN           WNC   \n",
       "8  Willmar Municipal Utilities       20737          MN           WNC   \n",
       "\n",
       "  NERC Region  NAICS Code  EIA Sector Number  ...  \\\n",
       "7         MRO          22                  1  ...   \n",
       "8         MRO          22                  1  ...   \n",
       "\n",
       "  Electricity Net Generation (MWh) - Netgen July  \\\n",
       "7                                            NaN   \n",
       "8                                        395.504   \n",
       "\n",
       "  Electricity Net Generation (MWh) - Netgen August  \\\n",
       "7                                              NaN   \n",
       "8                                          529.517   \n",
       "\n",
       "  Electricity Net Generation (MWh) - Netgen September  \\\n",
       "7                                                NaN    \n",
       "8                                            558.184    \n",
       "\n",
       "  Electricity Net Generation (MWh) - Netgen October  \\\n",
       "7                                               NaN   \n",
       "8                                           568.271   \n",
       "\n",
       "  Electricity Net Generation (MWh) - Netgen November  \\\n",
       "7                                                NaN   \n",
       "8                                            670.856   \n",
       "\n",
       "  Electricity Net Generation (MWh) - Netgen December  \\\n",
       "7                                                NaN   \n",
       "8                                            612.789   \n",
       "\n",
       "   Year-To-Date - Total Fuel Consumption MMBtu  \\\n",
       "7                                        33538   \n",
       "8                                        29258   \n",
       "\n",
       "   Year-To-Date - Elec Fuel Consumption MMBtu  \\\n",
       "7                                       33538   \n",
       "8                                       29258   \n",
       "\n",
       "   Year-To-Date - Net Generation (Megawatthours)  Year-To-Date - YEAR  \n",
       "7                                       3822.879                 2020  \n",
       "8                                       3335.121                 2020  \n",
       "\n",
       "[2 rows x 56 columns]"
      ]
     },
     "execution_count": 49,
     "metadata": {},
     "output_type": "execute_result"
    }
   ],
   "source": [
    "# Plant Id : 2022 in wind_opr_df\n",
    "wind_opr_df[wind_opr_df['Plant Id']==2022]"
   ]
  },
  {
   "cell_type": "code",
   "execution_count": null,
   "metadata": {},
   "outputs": [
    {
     "data": {
      "text/html": [
       "<div>\n",
       "<style scoped>\n",
       "    .dataframe tbody tr th:only-of-type {\n",
       "        vertical-align: middle;\n",
       "    }\n",
       "\n",
       "    .dataframe tbody tr th {\n",
       "        vertical-align: top;\n",
       "    }\n",
       "\n",
       "    .dataframe thead th {\n",
       "        text-align: right;\n",
       "    }\n",
       "</style>\n",
       "<table border=\"1\" class=\"dataframe\">\n",
       "  <thead>\n",
       "    <tr style=\"text-align: right;\">\n",
       "      <th></th>\n",
       "      <th>case_id</th>\n",
       "      <th>faa_ors</th>\n",
       "      <th>faa_asn</th>\n",
       "      <th>usgs_pr_id</th>\n",
       "      <th>eia_id</th>\n",
       "      <th>t_state</th>\n",
       "      <th>t_county</th>\n",
       "      <th>t_fips</th>\n",
       "      <th>p_name</th>\n",
       "      <th>p_year</th>\n",
       "      <th>...</th>\n",
       "      <th>t_rsa</th>\n",
       "      <th>t_ttlh</th>\n",
       "      <th>retrofit</th>\n",
       "      <th>retrofit_year</th>\n",
       "      <th>t_conf_atr</th>\n",
       "      <th>t_conf_loc</th>\n",
       "      <th>t_img_date</th>\n",
       "      <th>t_img_srce</th>\n",
       "      <th>xlong</th>\n",
       "      <th>ylat</th>\n",
       "    </tr>\n",
       "  </thead>\n",
       "  <tbody>\n",
       "    <tr>\n",
       "      <th>65298</th>\n",
       "      <td>3030660</td>\n",
       "      <td>27-020731</td>\n",
       "      <td>2009-WTE-3378-OE</td>\n",
       "      <td>29363.0</td>\n",
       "      <td>2022.0</td>\n",
       "      <td>MN</td>\n",
       "      <td>Kandiyohi County</td>\n",
       "      <td>27067</td>\n",
       "      <td>Willmar</td>\n",
       "      <td>2009.0</td>\n",
       "      <td>...</td>\n",
       "      <td>5026.55</td>\n",
       "      <td>120.1</td>\n",
       "      <td>0</td>\n",
       "      <td>NaN</td>\n",
       "      <td>3</td>\n",
       "      <td>3</td>\n",
       "      <td>11/22/2019</td>\n",
       "      <td>Digital Globe</td>\n",
       "      <td>-95.007996</td>\n",
       "      <td>45.156693</td>\n",
       "    </tr>\n",
       "    <tr>\n",
       "      <th>65299</th>\n",
       "      <td>3030661</td>\n",
       "      <td>27-021074</td>\n",
       "      <td>2009-WTE-3379-OE</td>\n",
       "      <td>29364.0</td>\n",
       "      <td>2022.0</td>\n",
       "      <td>MN</td>\n",
       "      <td>Kandiyohi County</td>\n",
       "      <td>27067</td>\n",
       "      <td>Willmar</td>\n",
       "      <td>2009.0</td>\n",
       "      <td>...</td>\n",
       "      <td>5026.55</td>\n",
       "      <td>120.1</td>\n",
       "      <td>0</td>\n",
       "      <td>NaN</td>\n",
       "      <td>3</td>\n",
       "      <td>3</td>\n",
       "      <td>11/22/2019</td>\n",
       "      <td>Digital Globe</td>\n",
       "      <td>-95.006927</td>\n",
       "      <td>45.159325</td>\n",
       "    </tr>\n",
       "  </tbody>\n",
       "</table>\n",
       "<p>2 rows × 27 columns</p>\n",
       "</div>"
      ],
      "text/plain": [
       "       case_id    faa_ors           faa_asn  usgs_pr_id  eia_id t_state  \\\n",
       "65298  3030660  27-020731  2009-WTE-3378-OE     29363.0  2022.0      MN   \n",
       "65299  3030661  27-021074  2009-WTE-3379-OE     29364.0  2022.0      MN   \n",
       "\n",
       "               t_county  t_fips   p_name  p_year  ...    t_rsa  t_ttlh  \\\n",
       "65298  Kandiyohi County   27067  Willmar  2009.0  ...  5026.55   120.1   \n",
       "65299  Kandiyohi County   27067  Willmar  2009.0  ...  5026.55   120.1   \n",
       "\n",
       "      retrofit retrofit_year  t_conf_atr  t_conf_loc  t_img_date  \\\n",
       "65298        0           NaN           3           3  11/22/2019   \n",
       "65299        0           NaN           3           3  11/22/2019   \n",
       "\n",
       "          t_img_srce      xlong       ylat  \n",
       "65298  Digital Globe -95.007996  45.156693  \n",
       "65299  Digital Globe -95.006927  45.159325  \n",
       "\n",
       "[2 rows x 27 columns]"
      ]
     },
     "execution_count": 50,
     "metadata": {},
     "output_type": "execute_result"
    }
   ],
   "source": [
    "# EIA Id (Plant Id) : 2022 in wind_turbine_df\n",
    "wind_turbine_df[wind_turbine_df['eia_id']==2022]"
   ]
  },
  {
   "cell_type": "code",
   "execution_count": null,
   "metadata": {},
   "outputs": [
    {
     "data": {
      "text/plain": [
       "0           1.0\n",
       "1          90.0\n",
       "2         508.0\n",
       "3         692.0\n",
       "4         944.0\n",
       "         ...   \n",
       "1238    99999.0\n",
       "1239    99999.0\n",
       "1240    99999.0\n",
       "1241    99999.0\n",
       "1242    99999.0\n",
       "Name: Plant Id, Length: 1243, dtype: float64"
      ]
     },
     "execution_count": 51,
     "metadata": {},
     "output_type": "execute_result"
    }
   ],
   "source": [
    "# Change dtype of 'Plant Id' in wind_opr_df\n",
    "wind_opr_df['Plant Id'].astype(float)"
   ]
  },
  {
   "cell_type": "code",
   "execution_count": null,
   "metadata": {},
   "outputs": [
    {
     "data": {
      "text/html": [
       "<div>\n",
       "<style scoped>\n",
       "    .dataframe tbody tr th:only-of-type {\n",
       "        vertical-align: middle;\n",
       "    }\n",
       "\n",
       "    .dataframe tbody tr th {\n",
       "        vertical-align: top;\n",
       "    }\n",
       "\n",
       "    .dataframe thead th {\n",
       "        text-align: right;\n",
       "    }\n",
       "</style>\n",
       "<table border=\"1\" class=\"dataframe\">\n",
       "  <thead>\n",
       "    <tr style=\"text-align: right;\">\n",
       "      <th></th>\n",
       "      <th>case_id</th>\n",
       "      <th>faa_ors</th>\n",
       "      <th>faa_asn</th>\n",
       "      <th>usgs_pr_id</th>\n",
       "      <th>eia_id</th>\n",
       "      <th>t_state</th>\n",
       "      <th>t_county</th>\n",
       "      <th>t_fips</th>\n",
       "      <th>p_name</th>\n",
       "      <th>p_year</th>\n",
       "      <th>...</th>\n",
       "      <th>Electricity Net Generation (MWh) - Netgen July</th>\n",
       "      <th>Electricity Net Generation (MWh) - Netgen August</th>\n",
       "      <th>Electricity Net Generation (MWh) - Netgen September</th>\n",
       "      <th>Electricity Net Generation (MWh) - Netgen October</th>\n",
       "      <th>Electricity Net Generation (MWh) - Netgen November</th>\n",
       "      <th>Electricity Net Generation (MWh) - Netgen December</th>\n",
       "      <th>Year-To-Date - Total Fuel Consumption MMBtu</th>\n",
       "      <th>Year-To-Date - Elec Fuel Consumption MMBtu</th>\n",
       "      <th>Year-To-Date - Net Generation (Megawatthours)</th>\n",
       "      <th>Year-To-Date - YEAR</th>\n",
       "    </tr>\n",
       "  </thead>\n",
       "  <tbody>\n",
       "    <tr>\n",
       "      <th>0</th>\n",
       "      <td>3072661</td>\n",
       "      <td>NaN</td>\n",
       "      <td>NaN</td>\n",
       "      <td>5149.0</td>\n",
       "      <td>52161.0</td>\n",
       "      <td>CA</td>\n",
       "      <td>Kern County</td>\n",
       "      <td>6029</td>\n",
       "      <td>251 Wind</td>\n",
       "      <td>1987.0</td>\n",
       "      <td>...</td>\n",
       "      <td>NaN</td>\n",
       "      <td>NaN</td>\n",
       "      <td>NaN</td>\n",
       "      <td>NaN</td>\n",
       "      <td>NaN</td>\n",
       "      <td>NaN</td>\n",
       "      <td>0.0</td>\n",
       "      <td>0.0</td>\n",
       "      <td>0.0</td>\n",
       "      <td>2020.0</td>\n",
       "    </tr>\n",
       "    <tr>\n",
       "      <th>1</th>\n",
       "      <td>3072695</td>\n",
       "      <td>NaN</td>\n",
       "      <td>NaN</td>\n",
       "      <td>5143.0</td>\n",
       "      <td>52161.0</td>\n",
       "      <td>CA</td>\n",
       "      <td>Kern County</td>\n",
       "      <td>6029</td>\n",
       "      <td>251 Wind</td>\n",
       "      <td>1987.0</td>\n",
       "      <td>...</td>\n",
       "      <td>NaN</td>\n",
       "      <td>NaN</td>\n",
       "      <td>NaN</td>\n",
       "      <td>NaN</td>\n",
       "      <td>NaN</td>\n",
       "      <td>NaN</td>\n",
       "      <td>0.0</td>\n",
       "      <td>0.0</td>\n",
       "      <td>0.0</td>\n",
       "      <td>2020.0</td>\n",
       "    </tr>\n",
       "    <tr>\n",
       "      <th>2</th>\n",
       "      <td>3072704</td>\n",
       "      <td>NaN</td>\n",
       "      <td>NaN</td>\n",
       "      <td>5146.0</td>\n",
       "      <td>52161.0</td>\n",
       "      <td>CA</td>\n",
       "      <td>Kern County</td>\n",
       "      <td>6029</td>\n",
       "      <td>251 Wind</td>\n",
       "      <td>1987.0</td>\n",
       "      <td>...</td>\n",
       "      <td>NaN</td>\n",
       "      <td>NaN</td>\n",
       "      <td>NaN</td>\n",
       "      <td>NaN</td>\n",
       "      <td>NaN</td>\n",
       "      <td>NaN</td>\n",
       "      <td>0.0</td>\n",
       "      <td>0.0</td>\n",
       "      <td>0.0</td>\n",
       "      <td>2020.0</td>\n",
       "    </tr>\n",
       "    <tr>\n",
       "      <th>3</th>\n",
       "      <td>3063272</td>\n",
       "      <td>19-028134</td>\n",
       "      <td>2014-WTE-4084-OE</td>\n",
       "      <td>NaN</td>\n",
       "      <td>NaN</td>\n",
       "      <td>IA</td>\n",
       "      <td>Story County</td>\n",
       "      <td>19169</td>\n",
       "      <td>30 MW Iowa DG Portfolio</td>\n",
       "      <td>2017.0</td>\n",
       "      <td>...</td>\n",
       "      <td>NaN</td>\n",
       "      <td>NaN</td>\n",
       "      <td>NaN</td>\n",
       "      <td>NaN</td>\n",
       "      <td>NaN</td>\n",
       "      <td>NaN</td>\n",
       "      <td>NaN</td>\n",
       "      <td>NaN</td>\n",
       "      <td>NaN</td>\n",
       "      <td>NaN</td>\n",
       "    </tr>\n",
       "    <tr>\n",
       "      <th>4</th>\n",
       "      <td>3053390</td>\n",
       "      <td>19-028015</td>\n",
       "      <td>2015-WTE-6386-OE</td>\n",
       "      <td>NaN</td>\n",
       "      <td>NaN</td>\n",
       "      <td>IA</td>\n",
       "      <td>Boone County</td>\n",
       "      <td>19015</td>\n",
       "      <td>30 MW Iowa DG Portfolio</td>\n",
       "      <td>2017.0</td>\n",
       "      <td>...</td>\n",
       "      <td>NaN</td>\n",
       "      <td>NaN</td>\n",
       "      <td>NaN</td>\n",
       "      <td>NaN</td>\n",
       "      <td>NaN</td>\n",
       "      <td>NaN</td>\n",
       "      <td>NaN</td>\n",
       "      <td>NaN</td>\n",
       "      <td>NaN</td>\n",
       "      <td>NaN</td>\n",
       "    </tr>\n",
       "  </tbody>\n",
       "</table>\n",
       "<p>5 rows × 83 columns</p>\n",
       "</div>"
      ],
      "text/plain": [
       "   case_id    faa_ors           faa_asn  usgs_pr_id   eia_id t_state  \\\n",
       "0  3072661        NaN               NaN      5149.0  52161.0      CA   \n",
       "1  3072695        NaN               NaN      5143.0  52161.0      CA   \n",
       "2  3072704        NaN               NaN      5146.0  52161.0      CA   \n",
       "3  3063272  19-028134  2014-WTE-4084-OE         NaN      NaN      IA   \n",
       "4  3053390  19-028015  2015-WTE-6386-OE         NaN      NaN      IA   \n",
       "\n",
       "       t_county  t_fips                   p_name  p_year  ...  \\\n",
       "0   Kern County    6029                 251 Wind  1987.0  ...   \n",
       "1   Kern County    6029                 251 Wind  1987.0  ...   \n",
       "2   Kern County    6029                 251 Wind  1987.0  ...   \n",
       "3  Story County   19169  30 MW Iowa DG Portfolio  2017.0  ...   \n",
       "4  Boone County   19015  30 MW Iowa DG Portfolio  2017.0  ...   \n",
       "\n",
       "   Electricity Net Generation (MWh) - Netgen July  \\\n",
       "0                                             NaN   \n",
       "1                                             NaN   \n",
       "2                                             NaN   \n",
       "3                                             NaN   \n",
       "4                                             NaN   \n",
       "\n",
       "   Electricity Net Generation (MWh) - Netgen August  \\\n",
       "0                                               NaN   \n",
       "1                                               NaN   \n",
       "2                                               NaN   \n",
       "3                                               NaN   \n",
       "4                                               NaN   \n",
       "\n",
       "  Electricity Net Generation (MWh) - Netgen September  \\\n",
       "0                                                NaN    \n",
       "1                                                NaN    \n",
       "2                                                NaN    \n",
       "3                                                NaN    \n",
       "4                                                NaN    \n",
       "\n",
       "  Electricity Net Generation (MWh) - Netgen October  \\\n",
       "0                                               NaN   \n",
       "1                                               NaN   \n",
       "2                                               NaN   \n",
       "3                                               NaN   \n",
       "4                                               NaN   \n",
       "\n",
       "   Electricity Net Generation (MWh) - Netgen November  \\\n",
       "0                                                NaN    \n",
       "1                                                NaN    \n",
       "2                                                NaN    \n",
       "3                                                NaN    \n",
       "4                                                NaN    \n",
       "\n",
       "   Electricity Net Generation (MWh) - Netgen December  \\\n",
       "0                                                NaN    \n",
       "1                                                NaN    \n",
       "2                                                NaN    \n",
       "3                                                NaN    \n",
       "4                                                NaN    \n",
       "\n",
       "   Year-To-Date - Total Fuel Consumption MMBtu  \\\n",
       "0                                          0.0   \n",
       "1                                          0.0   \n",
       "2                                          0.0   \n",
       "3                                          NaN   \n",
       "4                                          NaN   \n",
       "\n",
       "   Year-To-Date - Elec Fuel Consumption MMBtu  \\\n",
       "0                                         0.0   \n",
       "1                                         0.0   \n",
       "2                                         0.0   \n",
       "3                                         NaN   \n",
       "4                                         NaN   \n",
       "\n",
       "   Year-To-Date - Net Generation (Megawatthours)  Year-To-Date - YEAR  \n",
       "0                                            0.0               2020.0  \n",
       "1                                            0.0               2020.0  \n",
       "2                                            0.0               2020.0  \n",
       "3                                            NaN                  NaN  \n",
       "4                                            NaN                  NaN  \n",
       "\n",
       "[5 rows x 83 columns]"
      ]
     },
     "execution_count": 52,
     "metadata": {},
     "output_type": "execute_result"
    }
   ],
   "source": [
    "# merging both wind_opr_df with wind_turbine_df \n",
    "merged_wind_data=wind_turbine_df.merge(right=wind_opr_df,how='left',left_on=['eia_id'],right_on=['Plant Id'])\n",
    "# Display first 5 rows\n",
    "merged_wind_data.head()"
   ]
  },
  {
   "cell_type": "code",
   "execution_count": null,
   "metadata": {},
   "outputs": [
    {
     "name": "stderr",
     "output_type": "stream",
     "text": [
      "C:\\Users\\jubra\\AppData\\Local\\Temp\\ipykernel_12056\\2175453109.py:2: FutureWarning:\n",
      "\n",
      "The default value of numeric_only in DataFrame.corr is deprecated. In a future version, it will default to False. Select only valid columns or specify the value of numeric_only to silence this warning.\n",
      "\n"
     ]
    },
    {
     "data": {
      "application/vnd.plotly.v1+json": {
       "config": {
        "plotlyServerURL": "https://plot.ly"
       },
       "data": [
        {
         "coloraxis": "coloraxis",
         "hovertemplate": "x: %{x}<br>y: %{y}<br>color: %{z}<extra></extra>",
         "name": "0",
         "texttemplate": "%{z}",
         "type": "heatmap",
         "x": [
          "case_id",
          "usgs_pr_id",
          "eia_id",
          "t_fips",
          "p_year",
          "p_tnum",
          "p_cap",
          "t_cap",
          "t_hh",
          "t_rd",
          "t_rsa",
          "t_ttlh",
          "retrofit",
          "retrofit_year",
          "t_conf_atr",
          "t_conf_loc",
          "xlong",
          "ylat",
          "Plant Id",
          "NAICS Code",
          "EIA Sector Number",
          "Total Fuel Consumed (MMBtu) - Tot_MMBtu January",
          "Total Fuel Consumed (MMBtu) - Tot_MMBtu February",
          "Total Fuel Consumed (MMBtu) - Tot_MMBtu March",
          "Total Fuel Consumed (MMBtu) - Tot_MMBtu April",
          "Total Fuel Consumed (MMBtu) - Tot_MMBtu May",
          "Total Fuel Consumed (MMBtu) - Tot_MMBtu June",
          "Total Fuel Consumed (MMBtu) - Tot_MMBtu July",
          "Total Fuel Consumed (MMBtu) - Tot_MMBtu August",
          "Total Fuel Consumed (MMBtu) - Tot_MMBtu September",
          "Total Fuel Consumed (MMBtu) - Tot_MMBtu October",
          "Total Fuel Consumed (MMBtu) - Tot_MMBtu November",
          "Total Fuel Consumed (MMBtu) - Tot_MMBtu December",
          "Quantity Consumed For Electricity (MMBtu) - Elec_MMBtu January",
          "Quantity Consumed For Electricity (MMBtu) - Elec_MMBtu February",
          "Quantity Consumed For Electricity (MMBtu) - Elec_MMBtu March",
          "Quantity Consumed For Electricity (MMBtu) - Elec_MMBtu April",
          "Quantity Consumed For Electricity (MMBtu) - Elec_MMBtu May",
          "Quantity Consumed For Electricity (MMBtu) - Elec_MMBtu June",
          "Quantity Consumed For Electricity (MMBtu) - Elec_MMBtu July",
          "Quantity Consumed For Electricity (MMBtu) - Elec_MMBtu August",
          "Quantity Consumed For Electricity (MMBtu) - Elec_MMBtu September",
          "Quantity Consumed For Electricity (MMBtu) - Elec_MMBtu October",
          "Quantity Consumed For Electricity (MMBtu) - Elec_MMBtu November",
          "Quantity Consumed For Electricity (MMBtu) - Elec_MMBtu December",
          "Electricity Net Generation (MWh) - Netgen January",
          "Electricity Net Generation (MWh) - Netgen February",
          "Electricity Net Generation (MWh) - Netgen March",
          "Electricity Net Generation (MWh) - Netgen April",
          "Electricity Net Generation (MWh) - Netgen May",
          "Electricity Net Generation (MWh) - Netgen June",
          "Electricity Net Generation (MWh) - Netgen July",
          "Electricity Net Generation (MWh) - Netgen August",
          "Electricity Net Generation (MWh) - Netgen September",
          "Electricity Net Generation (MWh) - Netgen October",
          "Electricity Net Generation (MWh) - Netgen November",
          "Electricity Net Generation (MWh) - Netgen December",
          "Year-To-Date - Total Fuel Consumption MMBtu",
          "Year-To-Date - Elec Fuel Consumption MMBtu",
          "Year-To-Date - Net Generation (Megawatthours)",
          "Year-To-Date - YEAR"
         ],
         "xaxis": "x",
         "y": [
          "case_id",
          "usgs_pr_id",
          "eia_id",
          "t_fips",
          "p_year",
          "p_tnum",
          "p_cap",
          "t_cap",
          "t_hh",
          "t_rd",
          "t_rsa",
          "t_ttlh",
          "retrofit",
          "retrofit_year",
          "t_conf_atr",
          "t_conf_loc",
          "xlong",
          "ylat",
          "Plant Id",
          "NAICS Code",
          "EIA Sector Number",
          "Total Fuel Consumed (MMBtu) - Tot_MMBtu January",
          "Total Fuel Consumed (MMBtu) - Tot_MMBtu February",
          "Total Fuel Consumed (MMBtu) - Tot_MMBtu March",
          "Total Fuel Consumed (MMBtu) - Tot_MMBtu April",
          "Total Fuel Consumed (MMBtu) - Tot_MMBtu May",
          "Total Fuel Consumed (MMBtu) - Tot_MMBtu June",
          "Total Fuel Consumed (MMBtu) - Tot_MMBtu July",
          "Total Fuel Consumed (MMBtu) - Tot_MMBtu August",
          "Total Fuel Consumed (MMBtu) - Tot_MMBtu September",
          "Total Fuel Consumed (MMBtu) - Tot_MMBtu October",
          "Total Fuel Consumed (MMBtu) - Tot_MMBtu November",
          "Total Fuel Consumed (MMBtu) - Tot_MMBtu December",
          "Quantity Consumed For Electricity (MMBtu) - Elec_MMBtu January",
          "Quantity Consumed For Electricity (MMBtu) - Elec_MMBtu February",
          "Quantity Consumed For Electricity (MMBtu) - Elec_MMBtu March",
          "Quantity Consumed For Electricity (MMBtu) - Elec_MMBtu April",
          "Quantity Consumed For Electricity (MMBtu) - Elec_MMBtu May",
          "Quantity Consumed For Electricity (MMBtu) - Elec_MMBtu June",
          "Quantity Consumed For Electricity (MMBtu) - Elec_MMBtu July",
          "Quantity Consumed For Electricity (MMBtu) - Elec_MMBtu August",
          "Quantity Consumed For Electricity (MMBtu) - Elec_MMBtu September",
          "Quantity Consumed For Electricity (MMBtu) - Elec_MMBtu October",
          "Quantity Consumed For Electricity (MMBtu) - Elec_MMBtu November",
          "Quantity Consumed For Electricity (MMBtu) - Elec_MMBtu December",
          "Electricity Net Generation (MWh) - Netgen January",
          "Electricity Net Generation (MWh) - Netgen February",
          "Electricity Net Generation (MWh) - Netgen March",
          "Electricity Net Generation (MWh) - Netgen April",
          "Electricity Net Generation (MWh) - Netgen May",
          "Electricity Net Generation (MWh) - Netgen June",
          "Electricity Net Generation (MWh) - Netgen July",
          "Electricity Net Generation (MWh) - Netgen August",
          "Electricity Net Generation (MWh) - Netgen September",
          "Electricity Net Generation (MWh) - Netgen October",
          "Electricity Net Generation (MWh) - Netgen November",
          "Electricity Net Generation (MWh) - Netgen December",
          "Year-To-Date - Total Fuel Consumption MMBtu",
          "Year-To-Date - Elec Fuel Consumption MMBtu",
          "Year-To-Date - Net Generation (Megawatthours)",
          "Year-To-Date - YEAR"
         ],
         "yaxis": "y",
         "z": [
          [
           1,
           0.15315779608507754,
           0.4013443801494782,
           0.14347046035981173,
           0.6261384263856378,
           -0.17743030017110556,
           0.3439936032529861,
           0.47357367758603686,
           0.40617071634352386,
           0.6158083940664587,
           0.6623972736830074,
           0.5434653284223894,
           0.17672843967985322,
           -0.415477154117123,
           -0.13555938118068778,
           -0.377126976657612,
           0.15508087072318258,
           -0.08265461270931046,
           0.37667308825857043,
           0.005741766832649394,
           -0.11356546119235247,
           0.2913898437255859,
           0.30419243950257246,
           0.29360809681606265,
           0.3168761009501559,
           0.3233615407477611,
           0.3270090911806438,
           0.2948848435305337,
           0.32458281800926214,
           0.3916438160285343,
           0.3365496764730493,
           0.3262073511187386,
           0.34056301090953495,
           0.2913898437255859,
           0.30419243950257246,
           0.29360809681606265,
           0.3168761009501559,
           0.3233615407477611,
           0.3270090911806438,
           0.2948848435305337,
           0.32458281800926214,
           0.3916438160285343,
           0.3365496764730493,
           0.3262073511187386,
           0.34056301090953495,
           0.2913898802971526,
           0.3041924478993392,
           0.2936081414277085,
           0.31687607219839864,
           0.32336154363889025,
           0.32700907861352374,
           0.2948848884721769,
           0.32458285162456624,
           0.3916438177986886,
           0.3365496705257514,
           0.32620735801709483,
           0.34056305022815364,
           0.1695492858764992,
           0.1695492858764992,
           0.16954929935161647,
           null
          ],
          [
           0.15315779608507754,
           1,
           0.21086596620717737,
           0.7319939653817209,
           0.3805583944471759,
           -0.2882864978631059,
           0.09704116516397836,
           0.13403539470314021,
           0.15448300769590803,
           0.1823136888932357,
           0.15196896843392493,
           0.16052646361243475,
           0.15130733607752359,
           -0.08131331857970742,
           0.3299675036553295,
           null,
           0.42279704934760676,
           -0.0902211689325695,
           0.20594125123842658,
           0.0014191849466385377,
           -0.02966135373206111,
           0.15875849664393615,
           0.11561094340002638,
           0.11072180058973582,
           0.0682816890937412,
           0.08135583188921983,
           0.05582767849001798,
           -0.0016971190833485676,
           -0.004745041164613888,
           0.09886679845078157,
           0.11040225070997622,
           0.14858658365656865,
           0.1754232611252547,
           0.15875849664393615,
           0.11561094340002638,
           0.11072180058973582,
           0.0682816890937412,
           0.08135583188921983,
           0.05582767849001798,
           -0.0016971190833485676,
           -0.004745041164613888,
           0.09886679845078157,
           0.11040225070997622,
           0.14858658365656865,
           0.1754232611252547,
           0.15875858585990876,
           0.11561096041033134,
           0.11072175287729215,
           0.06828168994482565,
           0.08135585719883583,
           0.055827687116386596,
           -0.0016971149160266697,
           -0.004745057509102346,
           0.0988668211599466,
           0.1104023337645628,
           0.14858664240740319,
           0.17542329157880968,
           0.09795330530286658,
           0.09795330530286658,
           0.09795332890070987,
           null
          ],
          [
           0.4013443801494782,
           0.21086596620717737,
           1,
           0.18318506761097383,
           0.6332336519405394,
           -0.12654714684522325,
           0.3308077478158029,
           0.46872886298777805,
           0.48491908351001306,
           0.5819159337916268,
           0.5469969413647926,
           0.5672634435700337,
           -0.07345550106438842,
           0.22006822550525143,
           0.4082261993782169,
           -0.14295291220270626,
           0.2684423829981773,
           -0.03867889812694466,
           1,
           0.001743017069432038,
           0.003170495600478477,
           0.2386080256520162,
           0.24735658981951225,
           0.24765090599570333,
           0.24095347484713278,
           0.23644280187671377,
           0.23864522116767137,
           0.21185493491300272,
           0.23325955864281558,
           0.28532799129820957,
           0.24953691998438815,
           0.2549166146572926,
           0.26416564144744786,
           0.2386080256520162,
           0.24735658981951225,
           0.24765090599570333,
           0.24095347484713278,
           0.23644280187671377,
           0.23864522116767137,
           0.21185493491300272,
           0.23325955864281558,
           0.28532799129820957,
           0.24953691998438815,
           0.2549166146572926,
           0.26416564144744786,
           0.2386080684269542,
           0.24735656078440463,
           0.24765082919436468,
           0.24095347406618034,
           0.23644282511870715,
           0.23864519959120634,
           0.2118549270830657,
           0.23325957732865876,
           0.2853280415473132,
           0.2495370123386906,
           0.2549166228850533,
           0.26416566341866454,
           0.17595774204485923,
           0.17595774204485923,
           0.17595775227179122,
           null
          ],
          [
           0.14347046035981173,
           0.7319939653817209,
           0.18318506761097383,
           1,
           0.2627951549212161,
           -0.1918359552235773,
           0.1173462267339395,
           0.16743563187079646,
           0.10664389367086739,
           0.1545579904413506,
           0.1291323010948038,
           0.12934340161127866,
           0.11430361025968451,
           -0.24815604191811083,
           0.13328951812016607,
           0.011464314355051514,
           0.11352651277456588,
           -0.24004531687504002,
           0.1712554358631905,
           0.002307236883037059,
           0.1048177722361758,
           0.1727218527898071,
           0.16275072262236578,
           0.14604026092194844,
           0.12756520839772967,
           0.12829833819480332,
           0.15440221090468986,
           0.20428843488789586,
           0.14926904239705,
           -0.004463154218958345,
           0.13912178805858383,
           0.06144258753451652,
           0.10576000836027762,
           0.1727218527898071,
           0.16275072262236578,
           0.14604026092194844,
           0.12756520839772967,
           0.12829833819480332,
           0.15440221090468986,
           0.20428843488789586,
           0.14926904239705,
           -0.004463154218958345,
           0.13912178805858383,
           0.06144258753451652,
           0.10576000836027762,
           0.1727218914164556,
           0.16275070415352555,
           0.1460401696157285,
           0.12756519022840462,
           0.12829830725333544,
           0.1544021596857243,
           0.20428843539995667,
           0.14926903681273462,
           -0.004463138569621474,
           0.13912181358548778,
           0.061442575133312693,
           0.1057599774397224,
           0.12222171174206765,
           0.12222171174206765,
           0.12222169806260758,
           null
          ],
          [
           0.6261384263856378,
           0.3805583944471759,
           0.6332336519405394,
           0.2627951549212161,
           1,
           -0.45953647913952916,
           0.47127395134720196,
           0.7427997297621715,
           0.7505834151332228,
           0.8912142133082159,
           0.8501675325434057,
           0.8668576579023389,
           -0.1991559003932841,
           0.3685123742350389,
           0.17213920366886304,
           -0.26228614004126016,
           0.33296682801317984,
           0.004742741172252918,
           0.6306628379385534,
           0.006107376807771908,
           -0.08706610077830759,
           0.3699995177859721,
           0.39050838445652203,
           0.3912215820657825,
           0.38150075460255506,
           0.3761989382829826,
           0.3828235032870856,
           0.34987367536323866,
           0.3742945731978573,
           0.4657259477534973,
           0.3794115476670275,
           0.3905937405171361,
           0.3962055494284273,
           0.3699995177859721,
           0.39050838445652203,
           0.3912215820657825,
           0.38150075460255506,
           0.3761989382829826,
           0.3828235032870856,
           0.34987367536323866,
           0.3742945731978573,
           0.4657259477534973,
           0.3794115476670275,
           0.3905937405171361,
           0.3962055494284273,
           0.36999961177715107,
           0.39050832635366406,
           0.3912215691660346,
           0.3815007530977852,
           0.3761990137120358,
           0.3828234560895347,
           0.3498736500128574,
           0.3742946527776457,
           0.46572596690349044,
           0.3794116072071771,
           0.3905937995248719,
           0.3962056453204278,
           0.2749054200362064,
           0.2749054200362064,
           0.2749054488971853,
           null
          ],
          [
           -0.17743030017110556,
           -0.2882864978631059,
           -0.12654714684522325,
           -0.1918359552235773,
           -0.45953647913952916,
           1,
           0.4613225761290882,
           -0.3149414953788417,
           -0.32004639119995887,
           -0.245353894590155,
           -0.18798269873182125,
           -0.2994704576036031,
           -0.00997040504280368,
           -0.3820567029401131,
           -0.25609047171479854,
           0.035591058195909214,
           -0.2554316490266948,
           -0.15094113145295315,
           -0.12492687038375339,
           -0.01234046683063405,
           0.026601618170579912,
           0.3319925127452051,
           0.32932016800169955,
           0.31562462998872604,
           0.30214756939574017,
           0.31527054237042895,
           0.3085434412669496,
           0.29704849246392145,
           0.2909095434365137,
           0.2991994435627916,
           0.31388808429844706,
           0.31006847720402947,
           0.3128364082145997,
           0.3319925127452051,
           0.32932016800169955,
           0.31562462998872604,
           0.30214756939574017,
           0.31527054237042895,
           0.3085434412669496,
           0.29704849246392145,
           0.2909095434365137,
           0.2991994435627916,
           0.31388808429844706,
           0.31006847720402947,
           0.3128364082145997,
           0.3319924721293924,
           0.32932023827897167,
           0.3156247111792527,
           0.3021475687594513,
           0.3152705083939031,
           0.30854344676260637,
           0.2970484546899673,
           0.2909094801968411,
           0.29919951368420483,
           0.31388800370621855,
           0.3100684602946166,
           0.3128363515599021,
           0.3069118141324769,
           0.3069118141324769,
           0.3069118049630493,
           null
          ],
          [
           0.3439936032529861,
           0.09704116516397836,
           0.3308077478158029,
           0.1173462267339395,
           0.47127395134720196,
           0.4613225761290882,
           1,
           0.36797231813833553,
           0.31545208684080944,
           0.4534764515154621,
           0.4461250293483537,
           0.4020512269040471,
           -0.04910702090334142,
           -0.32858134593052923,
           0.13267199999193172,
           -0.15504827333833568,
           0.08592705954214407,
           -0.15981221197170137,
           0.3229718475552498,
           -0.014632015333251418,
           -0.08256063178452477,
           0.769632848059777,
           0.7906895486154776,
           0.7723042464600915,
           0.7464779981730152,
           0.7471430477518912,
           0.7482682715620818,
           0.7029357151108147,
           0.700439280798302,
           0.7786157240192981,
           0.7427329931184692,
           0.7504404599169214,
           0.7280499296465377,
           0.769632848059777,
           0.7906895486154776,
           0.7723042464600915,
           0.7464779981730152,
           0.7471430477518912,
           0.7482682715620818,
           0.7029357151108147,
           0.700439280798302,
           0.7786157240192981,
           0.7427329931184692,
           0.7504404599169214,
           0.7280499296465377,
           0.7696328841735055,
           0.7906895265662128,
           0.7723043034395978,
           0.7464779907887249,
           0.7471431111973381,
           0.7482682437587771,
           0.7029356768849465,
           0.700439302262106,
           0.7786157416897483,
           0.7427329778547932,
           0.750440502195165,
           0.7280499805840152,
           0.6282769114183621,
           0.6282769114183621,
           0.6282769275677055,
           null
          ],
          [
           0.47357367758603686,
           0.13403539470314021,
           0.46872886298777805,
           0.16743563187079646,
           0.7427997297621715,
           -0.3149414953788417,
           0.36797231813833553,
           1,
           0.6862404218967427,
           0.8786876206148899,
           0.8802482379596106,
           0.8257539936680235,
           -0.15743566151399965,
           0.2567016543942203,
           0.06392843465814764,
           -0.19206346648842917,
           0.15576871421570013,
           -0.07600496007254434,
           0.46199741199163863,
           -0.005867095595708717,
           -0.05016842257417612,
           0.21505498121354702,
           0.2318814625609022,
           0.23280254992786234,
           0.23990618560536853,
           0.225857684798106,
           0.23547317802832782,
           0.2325823732627169,
           0.2392607115189326,
           0.2780283107983714,
           0.2376832527429823,
           0.2209035890256308,
           0.2228114633451499,
           0.21505498121354702,
           0.2318814625609022,
           0.23280254992786234,
           0.23990618560536853,
           0.225857684798106,
           0.23547317802832782,
           0.2325823732627169,
           0.2392607115189326,
           0.2780283107983714,
           0.2376832527429823,
           0.2209035890256308,
           0.2228114633451499,
           0.21505505521941914,
           0.2318813807740573,
           0.2328025427163774,
           0.23990618218482504,
           0.22585773217497238,
           0.23547312864490985,
           0.2325823755324334,
           0.2392607940713346,
           0.2780283195336604,
           0.23768327729242802,
           0.22090365673317414,
           0.22281153014842903,
           0.12055746308643123,
           0.12055746308643123,
           0.12055748263786449,
           null
          ],
          [
           0.40617071634352386,
           0.15448300769590803,
           0.48491908351001306,
           0.10664389367086739,
           0.7505834151332228,
           -0.32004639119995887,
           0.31545208684080944,
           0.6862404218967427,
           1,
           0.7779381631163678,
           0.7078455233682187,
           0.9455805219725776,
           -0.13368196883674394,
           0.25054744137444707,
           0.0411705000352248,
           -0.14479222887295198,
           0.3663640165209078,
           -0.027547338448129788,
           0.46490306480077215,
           -0.0027006088435738104,
           -0.05303135936745183,
           0.24697723218516857,
           0.26680538394413683,
           0.2662120266361112,
           0.2601959145537409,
           0.2367977830511328,
           0.21551305043050084,
           0.1870265932295973,
           0.2005573713000901,
           0.2884419636909925,
           0.26265208880364554,
           0.28217888742471636,
           0.2657944260267256,
           0.24697723218516857,
           0.26680538394413683,
           0.2662120266361112,
           0.2601959145537409,
           0.2367977830511328,
           0.21551305043050084,
           0.1870265932295973,
           0.2005573713000901,
           0.2884419636909925,
           0.26265208880364554,
           0.28217888742471636,
           0.2657944260267256,
           0.24697727774884065,
           0.26680529050065316,
           0.26621202993847715,
           0.26019589448361763,
           0.236797819313495,
           0.21551301343775667,
           0.1870265790040992,
           0.20055740596433072,
           0.28844192067841673,
           0.26265212732521376,
           0.28217895346972877,
           0.26579448909780967,
           0.1770714093212975,
           0.1770714093212975,
           0.1770714174651088,
           null
          ],
          [
           0.6158083940664587,
           0.1823136888932357,
           0.5819159337916268,
           0.1545579904413506,
           0.8912142133082159,
           -0.245353894590155,
           0.4534764515154621,
           0.8786876206148899,
           0.7779381631163678,
           1,
           0.9771202870445871,
           0.9400582429402454,
           -0.1013226546456195,
           0.2612623384268823,
           0.029289483266023555,
           -0.2279327356531313,
           0.21442685264956307,
           -0.10741803568798708,
           0.5689190133023546,
           -0.00427166809566353,
           -0.08322368785887951,
           0.3679102804398948,
           0.3855491455874237,
           0.38394288161442797,
           0.379127214846469,
           0.375421252334245,
           0.37971091013666336,
           0.35984640031148957,
           0.37447216473065853,
           0.45149550848883846,
           0.38438395795177627,
           0.37860890716790535,
           0.38187667296169386,
           0.3679102804398948,
           0.3855491455874237,
           0.38394288161442797,
           0.379127214846469,
           0.375421252334245,
           0.37971091013666336,
           0.35984640031148957,
           0.37447216473065853,
           0.45149550848883846,
           0.38438395795177627,
           0.37860890716790535,
           0.38187667296169386,
           0.36791034848797666,
           0.3855490525616376,
           0.3839429040332346,
           0.37912722142107763,
           0.37542129853774103,
           0.37971085813916006,
           0.35984641340630175,
           0.37447221126577507,
           0.4514955024437075,
           0.38438396505585787,
           0.3786089716153967,
           0.38187675890994904,
           0.2522957345448494,
           0.2522957345448494,
           0.25229575256334275,
           null
          ],
          [
           0.6623972736830074,
           0.15196896843392493,
           0.5469969413647926,
           0.1291323010948038,
           0.8501675325434057,
           -0.18798269873182125,
           0.4461250293483537,
           0.8802482379596106,
           0.7078455233682187,
           0.9771202870445871,
           1,
           0.8908977526552199,
           -0.12525968666997142,
           0.2726524698892977,
           0.005425828634812806,
           -0.2584892432971526,
           0.17356017553835723,
           -0.12820316330720574,
           0.5349127821161486,
           -0.0051836189659542585,
           -0.069531089426694,
           0.35430916198731366,
           0.3720402690470602,
           0.3669079831919241,
           0.36504303356440376,
           0.36376019406218757,
           0.3698991012630114,
           0.3524870852881056,
           0.36541845163921344,
           0.4445948758008823,
           0.3724996965516983,
           0.36043898383394385,
           0.36388252701153984,
           0.35430916198731366,
           0.3720402690470602,
           0.3669079831919241,
           0.36504303356440376,
           0.36376019406218757,
           0.3698991012630114,
           0.3524870852881056,
           0.36541845163921344,
           0.4445948758008823,
           0.3724996965516983,
           0.36043898383394385,
           0.36388252701153984,
           0.3543092266525534,
           0.37204019329468896,
           0.36690801847178844,
           0.3650430457544869,
           0.36376023081881736,
           0.3698990573085235,
           0.3524870970708794,
           0.3654184988649778,
           0.4445948835449699,
           0.37249969064820854,
           0.36043904450784015,
           0.36388259682848517,
           0.21346448798231407,
           0.21346448798231407,
           0.21346450600010097,
           null
          ],
          [
           0.5434653284223894,
           0.16052646361243475,
           0.5672634435700337,
           0.12934340161127866,
           0.8668576579023389,
           -0.2994704576036031,
           0.4020512269040471,
           0.8257539936680235,
           0.9455805219725776,
           0.9400582429402454,
           0.8908977526552199,
           1,
           -0.12799468649506415,
           0.26872214686717166,
           0.019024761873413207,
           -0.19770967631143155,
           0.302937898151942,
           -0.07547941304580613,
           0.5500218626209883,
           -0.003879316021895926,
           -0.07124396477843613,
           0.3222216828377838,
           0.34215791179022575,
           0.3404981194686726,
           0.3353230844999324,
           0.32081197766112385,
           0.31214051725251707,
           0.2859541680149596,
           0.30155139730936203,
           0.39053267900485783,
           0.34069344076517766,
           0.34791357686365865,
           0.3416535605789739,
           0.3222216828377838,
           0.34215791179022575,
           0.3404981194686726,
           0.3353230844999324,
           0.32081197766112385,
           0.31214051725251707,
           0.2859541680149596,
           0.30155139730936203,
           0.39053267900485783,
           0.34069344076517766,
           0.34791357686365865,
           0.3416535605789739,
           0.32222174668546927,
           0.34215781086493824,
           0.3404981389966434,
           0.33532307365735453,
           0.3208120263920167,
           0.3121404733296702,
           0.28595416039869753,
           0.3015514439845579,
           0.3905326523534447,
           0.3406934609325817,
           0.34791364916805334,
           0.34165363740044263,
           0.223781312587758,
           0.223781312587758,
           0.2237813270122994,
           null
          ],
          [
           0.17672843967985322,
           0.15130733607752359,
           -0.07345550106438842,
           0.11430361025968451,
           -0.1991559003932841,
           -0.00997040504280368,
           -0.04910702090334142,
           -0.15743566151399965,
           -0.13368196883674394,
           -0.1013226546456195,
           -0.12525968666997142,
           -0.12799468649506415,
           1,
           null,
           -0.00020103786154314357,
           0.06672305911386363,
           -0.010728345169407813,
           -0.03726005441302409,
           -0.06763261147271978,
           -0.0029293457789678077,
           -0.06301409910372434,
           0.11266555238957349,
           0.09071394871421296,
           0.08258225405394796,
           0.10037653010232772,
           0.10996236314424367,
           0.09332608108702518,
           0.09384433651831572,
           0.09512397987251069,
           0.038514379980185254,
           0.1143597993646695,
           0.09265169716774467,
           0.10123870391539401,
           0.11266555238957349,
           0.09071394871421296,
           0.08258225405394796,
           0.10037653010232772,
           0.10996236314424367,
           0.09332608108702518,
           0.09384433651831572,
           0.09512397987251069,
           0.038514379980185254,
           0.1143597993646695,
           0.09265169716774467,
           0.10123870391539401,
           0.1126655279518651,
           0.09071399688657823,
           0.08258230569903866,
           0.10037649007311598,
           0.10996232661531136,
           0.09332610977094596,
           0.09384436543555603,
           0.09512389850029898,
           0.0385143947581569,
           0.11435979251145867,
           0.09265166885521127,
           0.10123865176928434,
           0.12150068148053293,
           0.12150068148053293,
           0.12150067317444288,
           null
          ],
          [
           -0.415477154117123,
           -0.08131331857970742,
           0.22006822550525143,
           -0.24815604191811083,
           0.3685123742350389,
           -0.3820567029401131,
           -0.32858134593052923,
           0.2567016543942203,
           0.25054744137444707,
           0.2612623384268823,
           0.2726524698892977,
           0.26872214686717166,
           null,
           1,
           -0.6470702820335212,
           -0.027828138413214718,
           -0.11587558456663773,
           0.4158301680639305,
           0.22006822550525149,
           null,
           -0.046397520898657604,
           -0.5793855454761606,
           -0.5951955494974867,
           -0.6028621178758075,
           -0.6131176185679286,
           -0.6063729866115556,
           -0.6176080677444536,
           -0.5966320484072002,
           -0.6026651171819482,
           -0.5765366502085071,
           -0.5750057394668481,
           -0.5825264985899153,
           -0.5785669859352596,
           -0.5793855454761606,
           -0.5951955494974867,
           -0.6028621178758075,
           -0.6131176185679286,
           -0.6063729866115556,
           -0.6176080677444536,
           -0.5966320484072002,
           -0.6026651171819482,
           -0.5765366502085071,
           -0.5750057394668481,
           -0.5825264985899153,
           -0.5785669859352596,
           -0.5793855309267717,
           -0.5951955624526147,
           -0.602862186935502,
           -0.613117644042549,
           -0.6063730389413503,
           -0.6176080841779433,
           -0.5966321055410605,
           -0.6026650928890424,
           -0.5765367169485532,
           -0.5750058214044209,
           -0.5825264719309085,
           -0.5785669079393642,
           -0.5992400478303099,
           -0.5992400478303099,
           -0.599240068175603,
           null
          ],
          [
           -0.13555938118068778,
           0.3299675036553295,
           0.4082261993782169,
           0.13328951812016607,
           0.17213920366886304,
           -0.25609047171479854,
           0.13267199999193172,
           0.06392843465814764,
           0.0411705000352248,
           0.029289483266023555,
           0.005425828634812806,
           0.019024761873413207,
           -0.00020103786154314357,
           -0.6470702820335212,
           1,
           0.3514446148943939,
           0.1647439048877715,
           0.07841791837696933,
           0.4204731975540021,
           0.0024102394759380166,
           -0.03527871671346584,
           0.1988592710523859,
           0.21472945084832276,
           0.21437718088481617,
           0.20780301103168397,
           0.19484189260458804,
           0.19654919227438408,
           0.18221013075287276,
           0.1916217913912548,
           0.2101678587246568,
           0.19400338039923218,
           0.1990486654981836,
           0.18416042340191957,
           0.1988592710523859,
           0.21472945084832276,
           0.21437718088481617,
           0.20780301103168397,
           0.19484189260458804,
           0.19654919227438408,
           0.18221013075287276,
           0.1916217913912548,
           0.2101678587246568,
           0.19400338039923218,
           0.1990486654981836,
           0.18416042340191957,
           0.19885927921259633,
           0.21472945345566177,
           0.2143771311751587,
           0.2078030615385224,
           0.19484191429816214,
           0.19654915855360888,
           0.1822101049736407,
           0.19162181498125047,
           0.21016788684789856,
           0.1940034804456,
           0.19904866286063966,
           0.18416042400070476,
           0.18637906019025502,
           0.18637906019025502,
           0.18637907054435812,
           null
          ],
          [
           -0.377126976657612,
           null,
           -0.14295291220270626,
           0.011464314355051514,
           -0.26228614004126016,
           0.035591058195909214,
           -0.15504827333833568,
           -0.19206346648842917,
           -0.14479222887295198,
           -0.2279327356531313,
           -0.2584892432971526,
           -0.19770967631143155,
           0.06672305911386363,
           -0.027828138413214718,
           0.3514446148943939,
           1,
           -0.05116564204438166,
           -0.010833080993883056,
           -0.1248244739953587,
           0.0014017424154720232,
           0.1158950833058967,
           0.014831601685430055,
           0.008250738586977734,
           0.022281801767038856,
           0.0034728777428104218,
           0.0011944973414044072,
           0.006156545637948372,
           0.006478454038417629,
           -0.007602723241528108,
           -0.12539029121521394,
           -0.017643571140674667,
           -0.03957265690962781,
           -0.07331529126658493,
           0.014831601685430055,
           0.008250738586977734,
           0.022281801767038856,
           0.0034728777428104218,
           0.0011944973414044072,
           0.006156545637948372,
           0.006478454038417629,
           -0.007602723241528108,
           -0.12539029121521394,
           -0.017643571140674667,
           -0.03957265690962781,
           -0.07331529126658493,
           0.0148315808268849,
           0.0082507509808764,
           0.022281809880965262,
           0.0034728717083593354,
           0.0011945086430085,
           0.00615655741710845,
           0.006478377398552808,
           -0.007602715756183262,
           -0.12539034719909162,
           -0.01764359072058058,
           -0.03957266981257223,
           -0.07331533262666785,
           0.09728848011168932,
           0.09728848011168932,
           0.09728847002654957,
           null
          ],
          [
           0.15508087072318258,
           0.42279704934760676,
           0.2684423829981773,
           0.11352651277456588,
           0.33296682801317984,
           -0.2554316490266948,
           0.08592705954214407,
           0.15576871421570013,
           0.3663640165209078,
           0.21442685264956307,
           0.17356017553835723,
           0.302937898151942,
           -0.010728345169407813,
           -0.11587558456663773,
           0.1647439048877715,
           -0.05116564204438166,
           1,
           0.08527810915931254,
           0.24949601882488817,
           0.015565301230862822,
           -0.02217145221262531,
           0.07954312905812348,
           0.07639131796927517,
           0.10375063484658756,
           0.07548766674393302,
           0.017622960269616565,
           -0.0241086227258599,
           -0.14805927005595668,
           -0.0930856066275058,
           0.12395377203561922,
           0.09841213914576033,
           0.18252886919308167,
           0.14761219985973603,
           0.07954312905812348,
           0.07639131796927517,
           0.10375063484658756,
           0.07548766674393302,
           0.017622960269616565,
           -0.0241086227258599,
           -0.14805927005595668,
           -0.0930856066275058,
           0.12395377203561922,
           0.09841213914576033,
           0.18252886919308167,
           0.14761219985973603,
           0.0795431429985878,
           0.0763912919457362,
           0.10375059647010004,
           0.0754876464627321,
           0.017623003106871652,
           -0.0241086170118699,
           -0.1480592481647637,
           -0.09308558270874574,
           0.12395370575265448,
           0.09841216453351193,
           0.18252892094501014,
           0.14761224741704004,
           0.052975075501699234,
           0.052975075501699234,
           0.05297508186411714,
           null
          ],
          [
           -0.08265461270931046,
           -0.0902211689325695,
           -0.03867889812694466,
           -0.24004531687504002,
           0.004742741172252918,
           -0.15094113145295315,
           -0.15981221197170137,
           -0.07600496007254434,
           -0.027547338448129788,
           -0.10741803568798708,
           -0.12820316330720574,
           -0.07547941304580613,
           -0.03726005441302409,
           0.4158301680639305,
           0.07841791837696933,
           -0.010833080993883056,
           0.08527810915931254,
           1,
           -0.01530237767994732,
           0.0046638284240109774,
           -0.2836702127712046,
           -0.16659533808141658,
           -0.08142368535491638,
           -0.10772221796176785,
           -0.14093586278792308,
           -0.20007715551535776,
           -0.21000282668661382,
           -0.23908605283445955,
           -0.15614845876904065,
           -0.026773951934952037,
           -0.09444985668316261,
           -0.05638880109726858,
           -0.143852518839211,
           -0.16659533808141658,
           -0.08142368535491638,
           -0.10772221796176785,
           -0.14093586278792308,
           -0.20007715551535776,
           -0.21000282668661382,
           -0.23908605283445955,
           -0.15614845876904065,
           -0.026773951934952037,
           -0.09444985668316261,
           -0.05638880109726858,
           -0.143852518839211,
           -0.16659532250920656,
           -0.08142371591509635,
           -0.10772221847587349,
           -0.14093588960720682,
           -0.20007715821857283,
           -0.21000286900404097,
           -0.2390860720627841,
           -0.15614843747109391,
           -0.026773953302503928,
           -0.09444980514047138,
           -0.056388809515914115,
           -0.14385249450773627,
           -0.14250616702551477,
           -0.14250616702551477,
           -0.1425061705908831,
           null
          ],
          [
           0.37667308825857043,
           0.20594125123842658,
           1,
           0.1712554358631905,
           0.6306628379385534,
           -0.12492687038375339,
           0.3229718475552498,
           0.46199741199163863,
           0.46490306480077215,
           0.5689190133023546,
           0.5349127821161486,
           0.5500218626209883,
           -0.06763261147271978,
           0.22006822550525149,
           0.4204731975540021,
           -0.1248244739953587,
           0.24949601882488817,
           -0.01530237767994732,
           1,
           0.001743017069432038,
           0.003170495600478477,
           0.2386080256520162,
           0.24735658981951225,
           0.24765090599570333,
           0.24095347484713278,
           0.23644280187671377,
           0.23864522116767137,
           0.21185493491300272,
           0.23325955864281558,
           0.28532799129820957,
           0.24953691998438815,
           0.2549166146572926,
           0.26416564144744786,
           0.2386080256520162,
           0.24735658981951225,
           0.24765090599570333,
           0.24095347484713278,
           0.23644280187671377,
           0.23864522116767137,
           0.21185493491300272,
           0.23325955864281558,
           0.28532799129820957,
           0.24953691998438815,
           0.2549166146572926,
           0.26416564144744786,
           0.2386080684269542,
           0.24735656078440463,
           0.24765082919436468,
           0.24095347406618034,
           0.23644282511870715,
           0.23864519959120634,
           0.2118549270830657,
           0.23325957732865876,
           0.2853280415473132,
           0.2495370123386906,
           0.2549166228850533,
           0.26416566341866454,
           0.17595774204485923,
           0.17595774204485923,
           0.17595775227179122,
           null
          ],
          [
           0.005741766832649394,
           0.0014191849466385377,
           0.001743017069432038,
           0.002307236883037059,
           0.006107376807771908,
           -0.01234046683063405,
           -0.014632015333251418,
           -0.005867095595708717,
           -0.0027006088435738104,
           -0.00427166809566353,
           -0.0051836189659542585,
           -0.003879316021895926,
           -0.0029293457789678077,
           null,
           0.0024102394759380166,
           0.0014017424154720232,
           0.015565301230862822,
           0.0046638284240109774,
           0.001743017069432038,
           1,
           0.07759109983650206,
           -0.010475326544004552,
           -0.011018526467792302,
           -0.011308993032834117,
           -0.009082770441443618,
           -0.010446910113279735,
           -0.010086085120207635,
           -0.009913577878194411,
           -0.010931313114394936,
           -0.01147163332862306,
           -0.011143050797020458,
           -0.011236429865867582,
           -0.010926721863026992,
           -0.010475326544004552,
           -0.011018526467792302,
           -0.011308993032834117,
           -0.009082770441443618,
           -0.010446910113279735,
           -0.010086085120207635,
           -0.009913577878194411,
           -0.010931313114394936,
           -0.01147163332862306,
           -0.011143050797020458,
           -0.011236429865867582,
           -0.010926721863026992,
           -0.010475330610411622,
           -0.011018516797446655,
           -0.011309000646065296,
           -0.009082768419631142,
           -0.010446902678596463,
           -0.01008608688768576,
           -0.009913585304805097,
           -0.010931316741749663,
           -0.011471632915458921,
           -0.011143054021033834,
           -0.011236434950354417,
           -0.010926727567241107,
           -0.010854086604408465,
           -0.010854086604408465,
           -0.010854088208736993,
           null
          ],
          [
           -0.11356546119235247,
           -0.02966135373206111,
           0.003170495600478477,
           0.1048177722361758,
           -0.08706610077830759,
           0.026601618170579912,
           -0.08256063178452477,
           -0.05016842257417612,
           -0.05303135936745183,
           -0.08322368785887951,
           -0.069531089426694,
           -0.07124396477843613,
           -0.06301409910372434,
           -0.046397520898657604,
           -0.03527871671346584,
           0.1158950833058967,
           -0.02217145221262531,
           -0.2836702127712046,
           0.003170495600478477,
           0.07759109983650206,
           1,
           -0.06380281818621887,
           -0.13057637601494423,
           -0.08842330242223453,
           -0.09438877703022269,
           -0.09515376604829276,
           -0.09279699308174567,
           -0.05349817403868387,
           -0.11558667519141307,
           -0.21139223024738443,
           -0.12170401522570053,
           -0.13975051976679873,
           -0.06942017943705414,
           -0.06380281818621887,
           -0.13057637601494423,
           -0.08842330242223453,
           -0.09438877703022269,
           -0.09515376604829276,
           -0.09279699308174567,
           -0.05349817403868387,
           -0.11558667519141307,
           -0.21139223024738443,
           -0.12170401522570053,
           -0.13975051976679873,
           -0.06942017943705414,
           -0.0638028341858097,
           -0.13057635689332844,
           -0.0884233806585969,
           -0.09438875399034849,
           -0.09515368856356905,
           -0.09279695065321011,
           -0.053498229305342274,
           -0.11558670012871072,
           -0.21139224689978522,
           -0.12170398120225069,
           -0.13975051251826257,
           -0.06942020142422388,
           -0.07612765648576571,
           -0.07612765648576571,
           -0.07612765531388664,
           null
          ],
          [
           0.2913898437255859,
           0.15875849664393615,
           0.2386080256520162,
           0.1727218527898071,
           0.3699995177859721,
           0.3319925127452051,
           0.769632848059777,
           0.21505498121354702,
           0.24697723218516857,
           0.3679102804398948,
           0.35430916198731366,
           0.3222216828377838,
           0.11266555238957349,
           -0.5793855454761606,
           0.1988592710523859,
           0.014831601685430055,
           0.07954312905812348,
           -0.16659533808141658,
           0.2386080256520162,
           -0.010475326544004552,
           -0.06380281818621887,
           1,
           0.9673411843320271,
           0.9463148725652618,
           0.9568817223194842,
           0.9581143914455383,
           0.9128879839241852,
           0.882386806129931,
           0.8839511976583999,
           0.8776021062943363,
           0.9245557509651472,
           0.9214256048486497,
           0.9654701955318524,
           1,
           0.9673411843320271,
           0.9463148725652618,
           0.9568817223194842,
           0.9581143914455383,
           0.9128879839241852,
           0.882386806129931,
           0.8839511976583999,
           0.8776021062943363,
           0.9245557509651472,
           0.9214256048486497,
           0.9654701955318524,
           0.9999999999996365,
           0.9673412041868522,
           0.9463148744789667,
           0.9568817240491232,
           0.9581143819430055,
           0.9128880104052536,
           0.8823868120864801,
           0.8839511790568386,
           0.8776020986237374,
           0.9245557529124928,
           0.9214256105032262,
           0.9654701762208076,
           0.9707987143317555,
           0.9707987143317555,
           0.9707987145372932,
           null
          ],
          [
           0.30419243950257246,
           0.11561094340002638,
           0.24735658981951225,
           0.16275072262236578,
           0.39050838445652203,
           0.32932016800169955,
           0.7906895486154776,
           0.2318814625609022,
           0.26680538394413683,
           0.3855491455874237,
           0.3720402690470602,
           0.34215791179022575,
           0.09071394871421296,
           -0.5951955494974867,
           0.21472945084832276,
           0.008250738586977734,
           0.07639131796927517,
           -0.08142368535491638,
           0.24735658981951225,
           -0.011018526467792302,
           -0.13057637601494423,
           0.9673411843320271,
           1,
           0.9766973472961844,
           0.9738754135025041,
           0.9500316743127653,
           0.9365311110429645,
           0.8850037827998527,
           0.9076556437519059,
           0.9081901967000492,
           0.9551262800094655,
           0.9473994489979289,
           0.9518932907904238,
           0.9673411843320272,
           1,
           0.9766973472961844,
           0.9738754135025041,
           0.9500316743127653,
           0.9365311110429645,
           0.8850037827998527,
           0.9076556437519059,
           0.9081901967000492,
           0.9551262800094655,
           0.9473994489979289,
           0.9518932907904238,
           0.967341185063324,
           0.9999999999996179,
           0.9766973600731963,
           0.9738754019436726,
           0.9500316638731482,
           0.936531114097886,
           0.8850037918807273,
           0.9076556307969295,
           0.9081902018752953,
           0.9551262793393723,
           0.9473994437055419,
           0.9518932893473937,
           0.9843737849735201,
           0.9843737849735201,
           0.9843737830729563,
           null
          ],
          [
           0.29360809681606265,
           0.11072180058973582,
           0.24765090599570333,
           0.14604026092194844,
           0.3912215820657825,
           0.31562462998872604,
           0.7723042464600915,
           0.23280254992786234,
           0.2662120266361112,
           0.38394288161442797,
           0.3669079831919241,
           0.3404981194686726,
           0.08258225405394796,
           -0.6028621178758075,
           0.21437718088481617,
           0.022281801767038856,
           0.10375063484658756,
           -0.10772221796176785,
           0.24765090599570333,
           -0.011308993032834117,
           -0.08842330242223453,
           0.9463148725652618,
           0.9766973472961844,
           1,
           0.9703628336474025,
           0.9238096395451906,
           0.9192647456922277,
           0.8445173325601917,
           0.8673958449355491,
           0.8876788208276729,
           0.9354115901650205,
           0.9304112401694242,
           0.9248161729821823,
           0.9463148725652618,
           0.9766973472961843,
           1,
           0.9703628336474025,
           0.9238096395451906,
           0.9192647456922277,
           0.8445173325601917,
           0.8673958449355491,
           0.8876788208276729,
           0.9354115901650205,
           0.9304112401694242,
           0.9248161729821823,
           0.9463148745328079,
           0.9766973324759279,
           0.999999999999611,
           0.9703628200311981,
           0.9238096301694433,
           0.919264737246548,
           0.8445173382085247,
           0.8673958113257269,
           0.8876788224519649,
           0.9354115924634004,
           0.9304112319224892,
           0.9248161750135085,
           0.9672050147977117,
           0.9672050147977117,
           0.9672050075426454,
           null
          ],
          [
           0.3168761009501559,
           0.0682816890937412,
           0.24095347484713278,
           0.12756520839772967,
           0.38150075460255506,
           0.30214756939574017,
           0.7464779981730152,
           0.23990618560536853,
           0.2601959145537409,
           0.379127214846469,
           0.36504303356440376,
           0.3353230844999324,
           0.10037653010232772,
           -0.6131176185679286,
           0.20780301103168397,
           0.0034728777428104218,
           0.07548766674393302,
           -0.14093586278792308,
           0.24095347484713278,
           -0.009082770441443618,
           -0.09438877703022269,
           0.9568817223194842,
           0.9738754135025041,
           0.9703628336474025,
           1,
           0.9568747060504841,
           0.9472305814635491,
           0.8823027096727165,
           0.9015785261919802,
           0.8924340771125061,
           0.9475869814056437,
           0.937711407369301,
           0.9412546474930393,
           0.9568817223194841,
           0.9738754135025042,
           0.9703628336474025,
           1,
           0.9568747060504841,
           0.9472305814635491,
           0.8823027096727165,
           0.9015785261919802,
           0.8924340771125061,
           0.9475869814056437,
           0.937711407369301,
           0.9412546474930393,
           0.9568817208074958,
           0.973875410558311,
           0.9703628387551216,
           0.9999999999996728,
           0.9568746995845052,
           0.9472305852103626,
           0.8823027223480238,
           0.9015785042352699,
           0.8924341072559346,
           0.947586971846403,
           0.9377113927422877,
           0.941254641093832,
           0.9820497839647923,
           0.9820497839647923,
           0.9820497818238073,
           null
          ],
          [
           0.3233615407477611,
           0.08135583188921983,
           0.23644280187671377,
           0.12829833819480332,
           0.3761989382829826,
           0.31527054237042895,
           0.7471430477518912,
           0.225857684798106,
           0.2367977830511328,
           0.375421252334245,
           0.36376019406218757,
           0.32081197766112385,
           0.10996236314424367,
           -0.6063729866115556,
           0.19484189260458804,
           0.0011944973414044072,
           0.017622960269616565,
           -0.20007715551535776,
           0.23644280187671377,
           -0.010446910113279735,
           -0.09515376604829276,
           0.9581143914455383,
           0.9500316743127653,
           0.9238096395451906,
           0.9568747060504841,
           1,
           0.9390825062607544,
           0.9419722684633736,
           0.9413423856844177,
           0.8878681338492911,
           0.9118772317975024,
           0.8964272411380091,
           0.9491450198442881,
           0.9581143914455383,
           0.9500316743127653,
           0.9238096395451906,
           0.9568747060504841,
           1,
           0.9390825062607544,
           0.9419722684633736,
           0.9413423856844177,
           0.8878681338492911,
           0.9118772317975024,
           0.8964272411380091,
           0.9491450198442881,
           0.9581143919027808,
           0.9500316841756237,
           0.9238096746985872,
           0.9568747089397978,
           0.9999999999996275,
           0.9390825244492289,
           0.9419722782225253,
           0.9413423680349137,
           0.8878681532722287,
           0.9118772143002887,
           0.8964272319692413,
           0.9491449911442504,
           0.9745894814647152,
           0.9745894814647152,
           0.9745894827946104,
           null
          ],
          [
           0.3270090911806438,
           0.05582767849001798,
           0.23864522116767137,
           0.15440221090468986,
           0.3828235032870856,
           0.3085434412669496,
           0.7482682715620818,
           0.23547317802832782,
           0.21551305043050084,
           0.37971091013666336,
           0.3698991012630114,
           0.31214051725251707,
           0.09332608108702518,
           -0.6176080677444536,
           0.19654919227438408,
           0.006156545637948372,
           -0.0241086227258599,
           -0.21000282668661382,
           0.23864522116767137,
           -0.010086085120207635,
           -0.09279699308174567,
           0.9128879839241852,
           0.9365311110429645,
           0.9192647456922277,
           0.9472305814635491,
           0.9390825062607544,
           1,
           0.9205636151922947,
           0.952245270182891,
           0.8916379734741733,
           0.9271988890528269,
           0.9025295882550767,
           0.908047254282345,
           0.9128879839241852,
           0.9365311110429646,
           0.9192647456922277,
           0.9472305814635492,
           0.9390825062607545,
           1,
           0.9205636151922947,
           0.952245270182891,
           0.8916379734741733,
           0.9271988890528269,
           0.9025295882550767,
           0.908047254282345,
           0.9128879773477206,
           0.9365310921901088,
           0.9192647779818645,
           0.9472305565458805,
           0.9390825034679832,
           0.9999999999997113,
           0.9205636242478215,
           0.9522452742860351,
           0.8916380133743972,
           0.9271988557870723,
           0.9025295729100615,
           0.9080472723183249,
           0.9659555644240363,
           0.9659555644240363,
           0.9659555637110355,
           null
          ],
          [
           0.2948848435305337,
           -0.0016971190833485676,
           0.21185493491300272,
           0.20428843488789586,
           0.34987367536323866,
           0.29704849246392145,
           0.7029357151108147,
           0.2325823732627169,
           0.1870265932295973,
           0.35984640031148957,
           0.3524870852881056,
           0.2859541680149596,
           0.09384433651831572,
           -0.5966320484072002,
           0.18221013075287276,
           0.006478454038417629,
           -0.14805927005595668,
           -0.23908605283445955,
           0.21185493491300272,
           -0.009913577878194411,
           -0.05349817403868387,
           0.882386806129931,
           0.8850037827998527,
           0.8445173325601917,
           0.8823027096727165,
           0.9419722684633736,
           0.9205636151922947,
           1,
           0.96985375901921,
           0.8120699122057021,
           0.8426458851232276,
           0.7833034554362323,
           0.853210488190394,
           0.882386806129931,
           0.8850037827998528,
           0.8445173325601917,
           0.8823027096727165,
           0.9419722684633736,
           0.9205636151922947,
           1,
           0.96985375901921,
           0.8120699122057021,
           0.8426458851232276,
           0.7833034554362323,
           0.853210488190394,
           0.8823868049594089,
           0.8850037828764715,
           0.8445173836184594,
           0.8823027099758216,
           0.9419722781054561,
           0.9205636091065079,
           0.9999999999994874,
           0.9698537417979379,
           0.8120699490934762,
           0.8426458691249684,
           0.7833034319738059,
           0.8532104601425937,
           0.914670317543456,
           0.914670317543456,
           0.914670318201121,
           null
          ],
          [
           0.32458281800926214,
           -0.004745041164613888,
           0.23325955864281558,
           0.14926904239705,
           0.3742945731978573,
           0.2909095434365137,
           0.700439280798302,
           0.2392607115189326,
           0.2005573713000901,
           0.37447216473065853,
           0.36541845163921344,
           0.30155139730936203,
           0.09512397987251069,
           -0.6026651171819482,
           0.1916217913912548,
           -0.007602723241528108,
           -0.0930856066275058,
           -0.15614845876904065,
           0.23325955864281558,
           -0.010931313114394936,
           -0.11558667519141307,
           0.8839511976583999,
           0.9076556437519059,
           0.8673958449355491,
           0.9015785261919802,
           0.9413423856844177,
           0.952245270182891,
           0.96985375901921,
           1,
           0.8558890779186925,
           0.8786766807630249,
           0.825513709685727,
           0.8567058168185052,
           0.8839511976583999,
           0.9076556437519059,
           0.8673958449355491,
           0.9015785261919801,
           0.9413423856844177,
           0.952245270182891,
           0.96985375901921,
           1,
           0.8558890779186925,
           0.8786766807630249,
           0.825513709685727,
           0.8567058168185052,
           0.8839512001353632,
           0.9076556372124511,
           0.8673959045734575,
           0.9015785280238786,
           0.9413423938754676,
           0.9522452629855204,
           0.9698537624953223,
           0.9999999999995214,
           0.8558890878779215,
           0.8786766550218187,
           0.8255137003032849,
           0.8567058069380615,
           0.938415253409905,
           0.938415253409905,
           0.9384152578979318,
           null
          ],
          [
           0.3916438160285343,
           0.09886679845078157,
           0.28532799129820957,
           -0.004463154218958345,
           0.4657259477534973,
           0.2991994435627916,
           0.7786157240192981,
           0.2780283107983714,
           0.2884419636909925,
           0.45149550848883846,
           0.4445948758008823,
           0.39053267900485783,
           0.038514379980185254,
           -0.5765366502085071,
           0.2101678587246568,
           -0.12539029121521394,
           0.12395377203561922,
           -0.026773951934952037,
           0.28532799129820957,
           -0.01147163332862306,
           -0.21139223024738443,
           0.8776021062943363,
           0.9081901967000492,
           0.8876788208276729,
           0.8924340771125061,
           0.8878681338492911,
           0.8916379734741733,
           0.8120699122057021,
           0.8558890779186925,
           1,
           0.89658341824142,
           0.9263538823496874,
           0.9166947367018771,
           0.8776021062943362,
           0.9081901967000492,
           0.8876788208276729,
           0.8924340771125061,
           0.8878681338492912,
           0.8916379734741733,
           0.8120699122057021,
           0.8558890779186925,
           1,
           0.89658341824142,
           0.9263538823496874,
           0.9166947367018771,
           0.8776021056659175,
           0.9081901972017933,
           0.8876788714984678,
           0.8924340670644596,
           0.8878681390254186,
           0.8916379695933493,
           0.8120699395746384,
           0.8558891045988652,
           0.9999999999993139,
           0.8965833845028539,
           0.9263539059780125,
           0.9166947720866019,
           0.8993915856504797,
           0.8993915856504797,
           0.8993915961147296,
           null
          ],
          [
           0.3365496764730493,
           0.11040225070997622,
           0.24953691998438815,
           0.13912178805858383,
           0.3794115476670275,
           0.31388808429844706,
           0.7427329931184692,
           0.2376832527429823,
           0.26265208880364554,
           0.38438395795177627,
           0.3724996965516983,
           0.34069344076517766,
           0.1143597993646695,
           -0.5750057394668481,
           0.19400338039923218,
           -0.017643571140674667,
           0.09841213914576033,
           -0.09444985668316261,
           0.24953691998438815,
           -0.011143050797020458,
           -0.12170401522570053,
           0.9245557509651472,
           0.9551262800094655,
           0.9354115901650205,
           0.9475869814056437,
           0.9118772317975024,
           0.9271988890528269,
           0.8426458851232276,
           0.8786766807630249,
           0.89658341824142,
           1,
           0.9514888531479389,
           0.9254745992377017,
           0.9245557509651471,
           0.9551262800094655,
           0.9354115901650205,
           0.9475869814056439,
           0.9118772317975024,
           0.9271988890528269,
           0.8426458851232274,
           0.8786766807630249,
           0.89658341824142,
           1,
           0.9514888531479389,
           0.9254745992377017,
           0.9245557268341917,
           0.9551262856251995,
           0.9354116106330537,
           0.9475869716802239,
           0.9118772220456117,
           0.927198898173914,
           0.8426459093832421,
           0.8786766610842692,
           0.8965834031054251,
           0.9999999999996284,
           0.9514888495857473,
           0.9254746024254543,
           0.9493515615172144,
           0.9493515615172144,
           0.9493515620018481,
           null
          ],
          [
           0.3262073511187386,
           0.14858658365656865,
           0.2549166146572926,
           0.06144258753451652,
           0.3905937405171361,
           0.31006847720402947,
           0.7504404599169214,
           0.2209035890256308,
           0.28217888742471636,
           0.37860890716790535,
           0.36043898383394385,
           0.34791357686365865,
           0.09265169716774467,
           -0.5825264985899153,
           0.1990486654981836,
           -0.03957265690962781,
           0.18252886919308167,
           -0.05638880109726858,
           0.2549166146572926,
           -0.011236429865867582,
           -0.13975051976679873,
           0.9214256048486497,
           0.9473994489979289,
           0.9304112401694242,
           0.937711407369301,
           0.8964272411380091,
           0.9025295882550767,
           0.7833034554362323,
           0.825513709685727,
           0.9263538823496874,
           0.9514888531479389,
           1,
           0.9447609641826695,
           0.9214256048486497,
           0.9473994489979289,
           0.9304112401694244,
           0.937711407369301,
           0.8964272411380091,
           0.9025295882550767,
           0.7833034554362323,
           0.825513709685727,
           0.9263538823496872,
           0.9514888531479387,
           1,
           0.9447609641826695,
           0.921425588022981,
           0.9473994505727672,
           0.9304112586184737,
           0.9377113825968978,
           0.8964272320715024,
           0.90252960437644,
           0.7833034851703383,
           0.8255136987502323,
           0.9263538582770492,
           0.9514888569524682,
           0.9999999999997137,
           0.9447609832648325,
           0.9321485682082966,
           0.9321485682082966,
           0.932148569076625,
           null
          ],
          [
           0.34056301090953495,
           0.1754232611252547,
           0.26416564144744786,
           0.10576000836027762,
           0.3962055494284273,
           0.3128364082145997,
           0.7280499296465377,
           0.2228114633451499,
           0.2657944260267256,
           0.38187667296169386,
           0.36388252701153984,
           0.3416535605789739,
           0.10123870391539401,
           -0.5785669859352596,
           0.18416042340191957,
           -0.07331529126658493,
           0.14761219985973603,
           -0.143852518839211,
           0.26416564144744786,
           -0.010926721863026992,
           -0.06942017943705414,
           0.9654701955318524,
           0.9518932907904238,
           0.9248161729821823,
           0.9412546474930393,
           0.9491450198442881,
           0.908047254282345,
           0.853210488190394,
           0.8567058168185052,
           0.9166947367018771,
           0.9254745992377017,
           0.9447609641826695,
           1,
           0.9654701955318524,
           0.9518932907904238,
           0.9248161729821823,
           0.9412546474930393,
           0.9491450198442881,
           0.908047254282345,
           0.853210488190394,
           0.8567058168185054,
           0.9166947367018771,
           0.9254745992377017,
           0.9447609641826695,
           1,
           0.965470176463629,
           0.9518933182129756,
           0.9248162020839463,
           0.94125464170791,
           0.9491450142449518,
           0.908047279065001,
           0.8532105107906933,
           0.8567057996299199,
           0.9166947051080091,
           0.9254746085353596,
           0.944760965393758,
           0.9999999999996788,
           0.8977467615842832,
           0.8977467615842832,
           0.8977467664014562,
           null
          ],
          [
           0.2913898437255859,
           0.15875849664393615,
           0.2386080256520162,
           0.1727218527898071,
           0.3699995177859721,
           0.3319925127452051,
           0.769632848059777,
           0.21505498121354702,
           0.24697723218516857,
           0.3679102804398948,
           0.35430916198731366,
           0.3222216828377838,
           0.11266555238957349,
           -0.5793855454761606,
           0.1988592710523859,
           0.014831601685430055,
           0.07954312905812348,
           -0.16659533808141658,
           0.2386080256520162,
           -0.010475326544004552,
           -0.06380281818621887,
           1,
           0.9673411843320272,
           0.9463148725652618,
           0.9568817223194841,
           0.9581143914455383,
           0.9128879839241852,
           0.882386806129931,
           0.8839511976583999,
           0.8776021062943362,
           0.9245557509651471,
           0.9214256048486497,
           0.9654701955318524,
           1,
           0.9673411843320271,
           0.9463148725652618,
           0.9568817223194842,
           0.9581143914455383,
           0.9128879839241852,
           0.882386806129931,
           0.8839511976583999,
           0.8776021062943363,
           0.9245557509651472,
           0.9214256048486497,
           0.9654701955318524,
           0.9999999999996365,
           0.9673412041868522,
           0.9463148744789667,
           0.9568817240491232,
           0.9581143819430055,
           0.9128880104052536,
           0.8823868120864801,
           0.8839511790568386,
           0.8776020986237374,
           0.9245557529124928,
           0.9214256105032262,
           0.9654701762208076,
           0.9707987143317555,
           0.9707987143317555,
           0.9707987145372932,
           null
          ],
          [
           0.30419243950257246,
           0.11561094340002638,
           0.24735658981951225,
           0.16275072262236578,
           0.39050838445652203,
           0.32932016800169955,
           0.7906895486154776,
           0.2318814625609022,
           0.26680538394413683,
           0.3855491455874237,
           0.3720402690470602,
           0.34215791179022575,
           0.09071394871421296,
           -0.5951955494974867,
           0.21472945084832276,
           0.008250738586977734,
           0.07639131796927517,
           -0.08142368535491638,
           0.24735658981951225,
           -0.011018526467792302,
           -0.13057637601494423,
           0.9673411843320271,
           1,
           0.9766973472961843,
           0.9738754135025042,
           0.9500316743127653,
           0.9365311110429646,
           0.8850037827998528,
           0.9076556437519059,
           0.9081901967000492,
           0.9551262800094655,
           0.9473994489979289,
           0.9518932907904238,
           0.9673411843320271,
           1,
           0.9766973472961844,
           0.9738754135025041,
           0.9500316743127653,
           0.9365311110429645,
           0.8850037827998527,
           0.9076556437519059,
           0.9081901967000492,
           0.9551262800094655,
           0.9473994489979289,
           0.9518932907904238,
           0.967341185063324,
           0.9999999999996179,
           0.9766973600731963,
           0.9738754019436726,
           0.9500316638731482,
           0.936531114097886,
           0.8850037918807273,
           0.9076556307969295,
           0.9081902018752953,
           0.9551262793393723,
           0.9473994437055419,
           0.9518932893473937,
           0.9843737849735201,
           0.9843737849735201,
           0.9843737830729563,
           null
          ],
          [
           0.29360809681606265,
           0.11072180058973582,
           0.24765090599570333,
           0.14604026092194844,
           0.3912215820657825,
           0.31562462998872604,
           0.7723042464600915,
           0.23280254992786234,
           0.2662120266361112,
           0.38394288161442797,
           0.3669079831919241,
           0.3404981194686726,
           0.08258225405394796,
           -0.6028621178758075,
           0.21437718088481617,
           0.022281801767038856,
           0.10375063484658756,
           -0.10772221796176785,
           0.24765090599570333,
           -0.011308993032834117,
           -0.08842330242223453,
           0.9463148725652618,
           0.9766973472961844,
           1,
           0.9703628336474025,
           0.9238096395451906,
           0.9192647456922277,
           0.8445173325601917,
           0.8673958449355491,
           0.8876788208276729,
           0.9354115901650205,
           0.9304112401694244,
           0.9248161729821823,
           0.9463148725652618,
           0.9766973472961844,
           1,
           0.9703628336474025,
           0.9238096395451906,
           0.9192647456922277,
           0.8445173325601917,
           0.8673958449355491,
           0.8876788208276729,
           0.9354115901650205,
           0.9304112401694242,
           0.9248161729821823,
           0.9463148745328079,
           0.9766973324759279,
           0.999999999999611,
           0.9703628200311981,
           0.9238096301694433,
           0.919264737246548,
           0.8445173382085247,
           0.8673958113257269,
           0.8876788224519649,
           0.9354115924634004,
           0.9304112319224892,
           0.9248161750135085,
           0.9672050147977117,
           0.9672050147977117,
           0.9672050075426454,
           null
          ],
          [
           0.3168761009501559,
           0.0682816890937412,
           0.24095347484713278,
           0.12756520839772967,
           0.38150075460255506,
           0.30214756939574017,
           0.7464779981730152,
           0.23990618560536853,
           0.2601959145537409,
           0.379127214846469,
           0.36504303356440376,
           0.3353230844999324,
           0.10037653010232772,
           -0.6131176185679286,
           0.20780301103168397,
           0.0034728777428104218,
           0.07548766674393302,
           -0.14093586278792308,
           0.24095347484713278,
           -0.009082770441443618,
           -0.09438877703022269,
           0.9568817223194842,
           0.9738754135025041,
           0.9703628336474025,
           1,
           0.9568747060504841,
           0.9472305814635492,
           0.8823027096727165,
           0.9015785261919801,
           0.8924340771125061,
           0.9475869814056439,
           0.937711407369301,
           0.9412546474930393,
           0.9568817223194842,
           0.9738754135025041,
           0.9703628336474025,
           1,
           0.9568747060504841,
           0.9472305814635491,
           0.8823027096727165,
           0.9015785261919802,
           0.8924340771125061,
           0.9475869814056437,
           0.937711407369301,
           0.9412546474930393,
           0.9568817208074958,
           0.973875410558311,
           0.9703628387551216,
           0.9999999999996728,
           0.9568746995845052,
           0.9472305852103626,
           0.8823027223480238,
           0.9015785042352699,
           0.8924341072559346,
           0.947586971846403,
           0.9377113927422877,
           0.941254641093832,
           0.9820497839647923,
           0.9820497839647923,
           0.9820497818238073,
           null
          ],
          [
           0.3233615407477611,
           0.08135583188921983,
           0.23644280187671377,
           0.12829833819480332,
           0.3761989382829826,
           0.31527054237042895,
           0.7471430477518912,
           0.225857684798106,
           0.2367977830511328,
           0.375421252334245,
           0.36376019406218757,
           0.32081197766112385,
           0.10996236314424367,
           -0.6063729866115556,
           0.19484189260458804,
           0.0011944973414044072,
           0.017622960269616565,
           -0.20007715551535776,
           0.23644280187671377,
           -0.010446910113279735,
           -0.09515376604829276,
           0.9581143914455383,
           0.9500316743127653,
           0.9238096395451906,
           0.9568747060504841,
           1,
           0.9390825062607545,
           0.9419722684633736,
           0.9413423856844177,
           0.8878681338492912,
           0.9118772317975024,
           0.8964272411380091,
           0.9491450198442881,
           0.9581143914455383,
           0.9500316743127653,
           0.9238096395451906,
           0.9568747060504841,
           1,
           0.9390825062607544,
           0.9419722684633736,
           0.9413423856844177,
           0.8878681338492911,
           0.9118772317975024,
           0.8964272411380091,
           0.9491450198442881,
           0.9581143919027808,
           0.9500316841756237,
           0.9238096746985872,
           0.9568747089397978,
           0.9999999999996275,
           0.9390825244492289,
           0.9419722782225253,
           0.9413423680349137,
           0.8878681532722287,
           0.9118772143002887,
           0.8964272319692413,
           0.9491449911442504,
           0.9745894814647152,
           0.9745894814647152,
           0.9745894827946104,
           null
          ],
          [
           0.3270090911806438,
           0.05582767849001798,
           0.23864522116767137,
           0.15440221090468986,
           0.3828235032870856,
           0.3085434412669496,
           0.7482682715620818,
           0.23547317802832782,
           0.21551305043050084,
           0.37971091013666336,
           0.3698991012630114,
           0.31214051725251707,
           0.09332608108702518,
           -0.6176080677444536,
           0.19654919227438408,
           0.006156545637948372,
           -0.0241086227258599,
           -0.21000282668661382,
           0.23864522116767137,
           -0.010086085120207635,
           -0.09279699308174567,
           0.9128879839241852,
           0.9365311110429645,
           0.9192647456922277,
           0.9472305814635491,
           0.9390825062607544,
           1,
           0.9205636151922947,
           0.952245270182891,
           0.8916379734741733,
           0.9271988890528269,
           0.9025295882550767,
           0.908047254282345,
           0.9128879839241852,
           0.9365311110429645,
           0.9192647456922277,
           0.9472305814635491,
           0.9390825062607544,
           1,
           0.9205636151922947,
           0.952245270182891,
           0.8916379734741733,
           0.9271988890528269,
           0.9025295882550767,
           0.908047254282345,
           0.9128879773477206,
           0.9365310921901088,
           0.9192647779818645,
           0.9472305565458805,
           0.9390825034679832,
           0.9999999999997113,
           0.9205636242478215,
           0.9522452742860351,
           0.8916380133743972,
           0.9271988557870723,
           0.9025295729100615,
           0.9080472723183249,
           0.9659555644240363,
           0.9659555644240363,
           0.9659555637110355,
           null
          ],
          [
           0.2948848435305337,
           -0.0016971190833485676,
           0.21185493491300272,
           0.20428843488789586,
           0.34987367536323866,
           0.29704849246392145,
           0.7029357151108147,
           0.2325823732627169,
           0.1870265932295973,
           0.35984640031148957,
           0.3524870852881056,
           0.2859541680149596,
           0.09384433651831572,
           -0.5966320484072002,
           0.18221013075287276,
           0.006478454038417629,
           -0.14805927005595668,
           -0.23908605283445955,
           0.21185493491300272,
           -0.009913577878194411,
           -0.05349817403868387,
           0.882386806129931,
           0.8850037827998527,
           0.8445173325601917,
           0.8823027096727165,
           0.9419722684633736,
           0.9205636151922947,
           1,
           0.96985375901921,
           0.8120699122057021,
           0.8426458851232274,
           0.7833034554362323,
           0.853210488190394,
           0.882386806129931,
           0.8850037827998527,
           0.8445173325601917,
           0.8823027096727165,
           0.9419722684633736,
           0.9205636151922947,
           1,
           0.96985375901921,
           0.8120699122057021,
           0.8426458851232276,
           0.7833034554362323,
           0.853210488190394,
           0.8823868049594089,
           0.8850037828764715,
           0.8445173836184594,
           0.8823027099758216,
           0.9419722781054561,
           0.9205636091065079,
           0.9999999999994874,
           0.9698537417979379,
           0.8120699490934762,
           0.8426458691249684,
           0.7833034319738059,
           0.8532104601425937,
           0.914670317543456,
           0.914670317543456,
           0.914670318201121,
           null
          ],
          [
           0.32458281800926214,
           -0.004745041164613888,
           0.23325955864281558,
           0.14926904239705,
           0.3742945731978573,
           0.2909095434365137,
           0.700439280798302,
           0.2392607115189326,
           0.2005573713000901,
           0.37447216473065853,
           0.36541845163921344,
           0.30155139730936203,
           0.09512397987251069,
           -0.6026651171819482,
           0.1916217913912548,
           -0.007602723241528108,
           -0.0930856066275058,
           -0.15614845876904065,
           0.23325955864281558,
           -0.010931313114394936,
           -0.11558667519141307,
           0.8839511976583999,
           0.9076556437519059,
           0.8673958449355491,
           0.9015785261919802,
           0.9413423856844177,
           0.952245270182891,
           0.96985375901921,
           1,
           0.8558890779186925,
           0.8786766807630249,
           0.825513709685727,
           0.8567058168185054,
           0.8839511976583999,
           0.9076556437519059,
           0.8673958449355491,
           0.9015785261919802,
           0.9413423856844177,
           0.952245270182891,
           0.96985375901921,
           1,
           0.8558890779186925,
           0.8786766807630249,
           0.825513709685727,
           0.8567058168185052,
           0.8839512001353632,
           0.9076556372124511,
           0.8673959045734575,
           0.9015785280238786,
           0.9413423938754676,
           0.9522452629855204,
           0.9698537624953223,
           0.9999999999995214,
           0.8558890878779215,
           0.8786766550218187,
           0.8255137003032849,
           0.8567058069380615,
           0.938415253409905,
           0.938415253409905,
           0.9384152578979318,
           null
          ],
          [
           0.3916438160285343,
           0.09886679845078157,
           0.28532799129820957,
           -0.004463154218958345,
           0.4657259477534973,
           0.2991994435627916,
           0.7786157240192981,
           0.2780283107983714,
           0.2884419636909925,
           0.45149550848883846,
           0.4445948758008823,
           0.39053267900485783,
           0.038514379980185254,
           -0.5765366502085071,
           0.2101678587246568,
           -0.12539029121521394,
           0.12395377203561922,
           -0.026773951934952037,
           0.28532799129820957,
           -0.01147163332862306,
           -0.21139223024738443,
           0.8776021062943363,
           0.9081901967000492,
           0.8876788208276729,
           0.8924340771125061,
           0.8878681338492911,
           0.8916379734741733,
           0.8120699122057021,
           0.8558890779186925,
           1,
           0.89658341824142,
           0.9263538823496872,
           0.9166947367018771,
           0.8776021062943363,
           0.9081901967000492,
           0.8876788208276729,
           0.8924340771125061,
           0.8878681338492911,
           0.8916379734741733,
           0.8120699122057021,
           0.8558890779186925,
           1,
           0.89658341824142,
           0.9263538823496874,
           0.9166947367018771,
           0.8776021056659175,
           0.9081901972017933,
           0.8876788714984678,
           0.8924340670644596,
           0.8878681390254186,
           0.8916379695933493,
           0.8120699395746384,
           0.8558891045988652,
           0.9999999999993139,
           0.8965833845028539,
           0.9263539059780125,
           0.9166947720866019,
           0.8993915856504797,
           0.8993915856504797,
           0.8993915961147296,
           null
          ],
          [
           0.3365496764730493,
           0.11040225070997622,
           0.24953691998438815,
           0.13912178805858383,
           0.3794115476670275,
           0.31388808429844706,
           0.7427329931184692,
           0.2376832527429823,
           0.26265208880364554,
           0.38438395795177627,
           0.3724996965516983,
           0.34069344076517766,
           0.1143597993646695,
           -0.5750057394668481,
           0.19400338039923218,
           -0.017643571140674667,
           0.09841213914576033,
           -0.09444985668316261,
           0.24953691998438815,
           -0.011143050797020458,
           -0.12170401522570053,
           0.9245557509651472,
           0.9551262800094655,
           0.9354115901650205,
           0.9475869814056437,
           0.9118772317975024,
           0.9271988890528269,
           0.8426458851232276,
           0.8786766807630249,
           0.89658341824142,
           1,
           0.9514888531479387,
           0.9254745992377017,
           0.9245557509651472,
           0.9551262800094655,
           0.9354115901650205,
           0.9475869814056437,
           0.9118772317975024,
           0.9271988890528269,
           0.8426458851232276,
           0.8786766807630249,
           0.89658341824142,
           1,
           0.9514888531479389,
           0.9254745992377017,
           0.9245557268341917,
           0.9551262856251995,
           0.9354116106330537,
           0.9475869716802239,
           0.9118772220456117,
           0.927198898173914,
           0.8426459093832421,
           0.8786766610842692,
           0.8965834031054251,
           0.9999999999996284,
           0.9514888495857473,
           0.9254746024254543,
           0.9493515615172144,
           0.9493515615172144,
           0.9493515620018481,
           null
          ],
          [
           0.3262073511187386,
           0.14858658365656865,
           0.2549166146572926,
           0.06144258753451652,
           0.3905937405171361,
           0.31006847720402947,
           0.7504404599169214,
           0.2209035890256308,
           0.28217888742471636,
           0.37860890716790535,
           0.36043898383394385,
           0.34791357686365865,
           0.09265169716774467,
           -0.5825264985899153,
           0.1990486654981836,
           -0.03957265690962781,
           0.18252886919308167,
           -0.05638880109726858,
           0.2549166146572926,
           -0.011236429865867582,
           -0.13975051976679873,
           0.9214256048486497,
           0.9473994489979289,
           0.9304112401694242,
           0.937711407369301,
           0.8964272411380091,
           0.9025295882550767,
           0.7833034554362323,
           0.825513709685727,
           0.9263538823496874,
           0.9514888531479389,
           1,
           0.9447609641826695,
           0.9214256048486497,
           0.9473994489979289,
           0.9304112401694242,
           0.937711407369301,
           0.8964272411380091,
           0.9025295882550767,
           0.7833034554362323,
           0.825513709685727,
           0.9263538823496874,
           0.9514888531479389,
           1,
           0.9447609641826695,
           0.921425588022981,
           0.9473994505727672,
           0.9304112586184737,
           0.9377113825968978,
           0.8964272320715024,
           0.90252960437644,
           0.7833034851703383,
           0.8255136987502323,
           0.9263538582770492,
           0.9514888569524682,
           0.9999999999997137,
           0.9447609832648325,
           0.9321485682082966,
           0.9321485682082966,
           0.932148569076625,
           null
          ],
          [
           0.34056301090953495,
           0.1754232611252547,
           0.26416564144744786,
           0.10576000836027762,
           0.3962055494284273,
           0.3128364082145997,
           0.7280499296465377,
           0.2228114633451499,
           0.2657944260267256,
           0.38187667296169386,
           0.36388252701153984,
           0.3416535605789739,
           0.10123870391539401,
           -0.5785669859352596,
           0.18416042340191957,
           -0.07331529126658493,
           0.14761219985973603,
           -0.143852518839211,
           0.26416564144744786,
           -0.010926721863026992,
           -0.06942017943705414,
           0.9654701955318524,
           0.9518932907904238,
           0.9248161729821823,
           0.9412546474930393,
           0.9491450198442881,
           0.908047254282345,
           0.853210488190394,
           0.8567058168185052,
           0.9166947367018771,
           0.9254745992377017,
           0.9447609641826695,
           1,
           0.9654701955318524,
           0.9518932907904238,
           0.9248161729821823,
           0.9412546474930393,
           0.9491450198442881,
           0.908047254282345,
           0.853210488190394,
           0.8567058168185052,
           0.9166947367018771,
           0.9254745992377017,
           0.9447609641826695,
           1,
           0.965470176463629,
           0.9518933182129756,
           0.9248162020839463,
           0.94125464170791,
           0.9491450142449518,
           0.908047279065001,
           0.8532105107906933,
           0.8567057996299199,
           0.9166947051080091,
           0.9254746085353596,
           0.944760965393758,
           0.9999999999996788,
           0.8977467615842832,
           0.8977467615842832,
           0.8977467664014562,
           null
          ],
          [
           0.2913898802971526,
           0.15875858585990876,
           0.2386080684269542,
           0.1727218914164556,
           0.36999961177715107,
           0.3319924721293924,
           0.7696328841735055,
           0.21505505521941914,
           0.24697727774884065,
           0.36791034848797666,
           0.3543092266525534,
           0.32222174668546927,
           0.1126655279518651,
           -0.5793855309267717,
           0.19885927921259633,
           0.0148315808268849,
           0.0795431429985878,
           -0.16659532250920656,
           0.2386080684269542,
           -0.010475330610411622,
           -0.0638028341858097,
           0.9999999999996365,
           0.967341185063324,
           0.9463148745328079,
           0.9568817208074958,
           0.9581143919027808,
           0.9128879773477206,
           0.8823868049594089,
           0.8839512001353632,
           0.8776021056659175,
           0.9245557268341917,
           0.921425588022981,
           0.965470176463629,
           0.9999999999996365,
           0.967341185063324,
           0.9463148745328079,
           0.9568817208074958,
           0.9581143919027808,
           0.9128879773477206,
           0.8823868049594089,
           0.8839512001353632,
           0.8776021056659175,
           0.9245557268341917,
           0.921425588022981,
           0.965470176463629,
           1,
           0.9673412049181443,
           0.9463148764464943,
           0.9568817225371544,
           0.9581143824002665,
           0.9128880038287622,
           0.8823868109158861,
           0.8839511815338552,
           0.8776020979953693,
           0.9245557287815928,
           0.9214255936775536,
           0.9654701571525366,
           0.9707987083228697,
           0.9707987083228697,
           0.9707987085284844,
           null
          ],
          [
           0.3041924478993392,
           0.11561096041033134,
           0.24735656078440463,
           0.16275070415352555,
           0.39050832635366406,
           0.32932023827897167,
           0.7906895265662128,
           0.2318813807740573,
           0.26680529050065316,
           0.3855490525616376,
           0.37204019329468896,
           0.34215781086493824,
           0.09071399688657823,
           -0.5951955624526147,
           0.21472945345566177,
           0.0082507509808764,
           0.0763912919457362,
           -0.08142371591509635,
           0.24735656078440463,
           -0.011018516797446655,
           -0.13057635689332844,
           0.9673412041868522,
           0.9999999999996179,
           0.9766973324759279,
           0.973875410558311,
           0.9500316841756237,
           0.9365310921901088,
           0.8850037828764715,
           0.9076556372124511,
           0.9081901972017933,
           0.9551262856251995,
           0.9473994505727672,
           0.9518933182129756,
           0.9673412041868522,
           0.9999999999996179,
           0.9766973324759279,
           0.973875410558311,
           0.9500316841756237,
           0.9365310921901088,
           0.8850037828764715,
           0.9076556372124511,
           0.9081901972017933,
           0.9551262856251995,
           0.9473994505727672,
           0.9518933182129756,
           0.9673412049181443,
           1,
           0.9766973452529704,
           0.9738753989995221,
           0.9500316737360178,
           0.9365310952450504,
           0.8850037919573776,
           0.9076556242574321,
           0.9081902023769906,
           0.9551262849550896,
           0.9473994452803941,
           0.9518933167699525,
           0.9843737868071568,
           0.9843737868071568,
           0.9843737849066688,
           null
          ],
          [
           0.2936081414277085,
           0.11072175287729215,
           0.24765082919436468,
           0.1460401696157285,
           0.3912215691660346,
           0.3156247111792527,
           0.7723043034395978,
           0.2328025427163774,
           0.26621202993847715,
           0.3839429040332346,
           0.36690801847178844,
           0.3404981389966434,
           0.08258230569903866,
           -0.602862186935502,
           0.2143771311751587,
           0.022281809880965262,
           0.10375059647010004,
           -0.10772221847587349,
           0.24765082919436468,
           -0.011309000646065296,
           -0.0884233806585969,
           0.9463148744789667,
           0.9766973600731963,
           0.999999999999611,
           0.9703628387551216,
           0.9238096746985872,
           0.9192647779818645,
           0.8445173836184594,
           0.8673959045734575,
           0.8876788714984678,
           0.9354116106330537,
           0.9304112586184737,
           0.9248162020839463,
           0.9463148744789667,
           0.9766973600731963,
           0.999999999999611,
           0.9703628387551216,
           0.9238096746985872,
           0.9192647779818645,
           0.8445173836184594,
           0.8673959045734575,
           0.8876788714984678,
           0.9354116106330537,
           0.9304112586184737,
           0.9248162020839463,
           0.9463148764464943,
           0.9766973452529704,
           1,
           0.9703628251389194,
           0.9238096653228753,
           0.9192647695362204,
           0.8445173892667855,
           0.8673958709636542,
           0.8876788731227491,
           0.9354116129314104,
           0.9304112503715115,
           0.9248162041152715,
           0.9672050403873502,
           0.9672050403873502,
           0.9672050331323555,
           null
          ],
          [
           0.31687607219839864,
           0.06828168994482565,
           0.24095347406618034,
           0.12756519022840462,
           0.3815007530977852,
           0.3021475687594513,
           0.7464779907887249,
           0.23990618218482504,
           0.26019589448361763,
           0.37912722142107763,
           0.3650430457544869,
           0.33532307365735453,
           0.10037649007311598,
           -0.613117644042549,
           0.2078030615385224,
           0.0034728717083593354,
           0.0754876464627321,
           -0.14093588960720682,
           0.24095347406618034,
           -0.009082768419631142,
           -0.09438875399034849,
           0.9568817240491232,
           0.9738754019436726,
           0.9703628200311981,
           0.9999999999996728,
           0.9568747089397978,
           0.9472305565458805,
           0.8823027099758216,
           0.9015785280238786,
           0.8924340670644596,
           0.9475869716802239,
           0.9377113825968978,
           0.94125464170791,
           0.9568817240491232,
           0.9738754019436726,
           0.9703628200311981,
           0.9999999999996728,
           0.9568747089397978,
           0.9472305565458805,
           0.8823027099758216,
           0.9015785280238786,
           0.8924340670644596,
           0.9475869716802239,
           0.9377113825968978,
           0.94125464170791,
           0.9568817225371544,
           0.9738753989995221,
           0.9703628251389194,
           1,
           0.9568747024737887,
           0.9472305602927286,
           0.8823027226511554,
           0.9015785060671696,
           0.8924340972079843,
           0.9475869621209642,
           0.9377113679698893,
           0.9412546353086836,
           0.9820497740634213,
           0.9820497740634213,
           0.982049771922503,
           null
          ],
          [
           0.32336154363889025,
           0.08135585719883583,
           0.23644282511870715,
           0.12829830725333544,
           0.3761990137120358,
           0.3152705083939031,
           0.7471431111973381,
           0.22585773217497238,
           0.236797819313495,
           0.37542129853774103,
           0.36376023081881736,
           0.3208120263920167,
           0.10996232661531136,
           -0.6063730389413503,
           0.19484191429816214,
           0.0011945086430085,
           0.017623003106871652,
           -0.20007715821857283,
           0.23644282511870715,
           -0.010446902678596463,
           -0.09515368856356905,
           0.9581143819430055,
           0.9500316638731482,
           0.9238096301694433,
           0.9568746995845052,
           0.9999999999996275,
           0.9390825034679832,
           0.9419722781054561,
           0.9413423938754676,
           0.8878681390254186,
           0.9118772220456117,
           0.8964272320715024,
           0.9491450142449518,
           0.9581143819430055,
           0.9500316638731482,
           0.9238096301694433,
           0.9568746995845052,
           0.9999999999996275,
           0.9390825034679832,
           0.9419722781054561,
           0.9413423938754676,
           0.8878681390254186,
           0.9118772220456117,
           0.8964272320715024,
           0.9491450142449518,
           0.9581143824002665,
           0.9500316737360178,
           0.9238096653228753,
           0.9568747024737887,
           1,
           0.9390825216564463,
           0.941972287864586,
           0.9413423762260008,
           0.8878681584484177,
           0.9118772045483795,
           0.8964272229027781,
           0.9491449855449328,
           0.9745894787156592,
           0.9745894787156592,
           0.9745894800456262,
           null
          ],
          [
           0.32700907861352374,
           0.055827687116386596,
           0.23864519959120634,
           0.1544021596857243,
           0.3828234560895347,
           0.30854344676260637,
           0.7482682437587771,
           0.23547312864490985,
           0.21551301343775667,
           0.37971085813916006,
           0.3698990573085235,
           0.3121404733296702,
           0.09332610977094596,
           -0.6176080841779433,
           0.19654915855360888,
           0.00615655741710845,
           -0.0241086170118699,
           -0.21000286900404097,
           0.23864519959120634,
           -0.01008608688768576,
           -0.09279695065321011,
           0.9128880104052536,
           0.936531114097886,
           0.919264737246548,
           0.9472305852103626,
           0.9390825244492289,
           0.9999999999997113,
           0.9205636091065079,
           0.9522452629855204,
           0.8916379695933493,
           0.927198898173914,
           0.90252960437644,
           0.908047279065001,
           0.9128880104052536,
           0.936531114097886,
           0.919264737246548,
           0.9472305852103626,
           0.9390825244492289,
           0.9999999999997113,
           0.9205636091065079,
           0.9522452629855204,
           0.8916379695933493,
           0.927198898173914,
           0.90252960437644,
           0.908047279065001,
           0.9128880038287622,
           0.9365310952450504,
           0.9192647695362204,
           0.9472305602927286,
           0.9390825216564463,
           1,
           0.9205636181620507,
           0.9522452670886349,
           0.8916380094935853,
           0.9271988649081813,
           0.9025295890314443,
           0.9080472971009433,
           0.965955571426403,
           0.965955571426403,
           0.9659555707134705,
           null
          ],
          [
           0.2948848884721769,
           -0.0016971149160266697,
           0.2118549270830657,
           0.20428843539995667,
           0.3498736500128574,
           0.2970484546899673,
           0.7029356768849465,
           0.2325823755324334,
           0.1870265790040992,
           0.35984641340630175,
           0.3524870970708794,
           0.28595416039869753,
           0.09384436543555603,
           -0.5966321055410605,
           0.1822101049736407,
           0.006478377398552808,
           -0.1480592481647637,
           -0.2390860720627841,
           0.2118549270830657,
           -0.009913585304805097,
           -0.053498229305342274,
           0.8823868120864801,
           0.8850037918807273,
           0.8445173382085247,
           0.8823027223480238,
           0.9419722782225253,
           0.9205636242478215,
           0.9999999999994874,
           0.9698537624953223,
           0.8120699395746384,
           0.8426459093832421,
           0.7833034851703383,
           0.8532105107906933,
           0.8823868120864801,
           0.8850037918807273,
           0.8445173382085247,
           0.8823027223480238,
           0.9419722782225253,
           0.9205636242478215,
           0.9999999999994874,
           0.9698537624953223,
           0.8120699395746384,
           0.8426459093832421,
           0.7833034851703383,
           0.8532105107906933,
           0.8823868109158861,
           0.8850037919573776,
           0.8445173892667855,
           0.8823027226511554,
           0.941972287864586,
           0.9205636181620507,
           1,
           0.9698537452740902,
           0.8120699764623572,
           0.8426458933849288,
           0.7833034617079051,
           0.8532104827429031,
           0.9146703341351802,
           0.9146703341351802,
           0.9146703347928989,
           null
          ],
          [
           0.32458285162456624,
           -0.004745057509102346,
           0.23325957732865876,
           0.14926903681273462,
           0.3742946527776457,
           0.2909094801968411,
           0.700439302262106,
           0.2392607940713346,
           0.20055740596433072,
           0.37447221126577507,
           0.3654184988649778,
           0.3015514439845579,
           0.09512389850029898,
           -0.6026650928890424,
           0.19162181498125047,
           -0.007602715756183262,
           -0.09308558270874574,
           -0.15614843747109391,
           0.23325957732865876,
           -0.010931316741749663,
           -0.11558670012871072,
           0.8839511790568386,
           0.9076556307969295,
           0.8673958113257269,
           0.9015785042352699,
           0.9413423680349137,
           0.9522452742860351,
           0.9698537417979379,
           0.9999999999995214,
           0.8558891045988652,
           0.8786766610842692,
           0.8255136987502323,
           0.8567057996299199,
           0.8839511790568386,
           0.9076556307969295,
           0.8673958113257269,
           0.9015785042352699,
           0.9413423680349137,
           0.9522452742860351,
           0.9698537417979379,
           0.9999999999995214,
           0.8558891045988652,
           0.8786766610842692,
           0.8255136987502323,
           0.8567057996299199,
           0.8839511815338552,
           0.9076556242574321,
           0.8673958709636542,
           0.9015785060671696,
           0.9413423762260008,
           0.9522452670886349,
           0.9698537452740902,
           1,
           0.855889114558101,
           0.8786766353430144,
           0.8255136893678152,
           0.8567057897495615,
           0.9384152398015354,
           0.9384152398015354,
           0.9384152442896359,
           null
          ],
          [
           0.3916438177986886,
           0.0988668211599466,
           0.2853280415473132,
           -0.004463138569621474,
           0.46572596690349044,
           0.29919951368420483,
           0.7786157416897483,
           0.2780283195336604,
           0.28844192067841673,
           0.4514955024437075,
           0.4445948835449699,
           0.3905326523534447,
           0.0385143947581569,
           -0.5765367169485532,
           0.21016788684789856,
           -0.12539034719909162,
           0.12395370575265448,
           -0.026773953302503928,
           0.2853280415473132,
           -0.011471632915458921,
           -0.21139224689978522,
           0.8776020986237374,
           0.9081902018752953,
           0.8876788224519649,
           0.8924341072559346,
           0.8878681532722287,
           0.8916380133743972,
           0.8120699490934762,
           0.8558890878779215,
           0.9999999999993139,
           0.8965834031054251,
           0.9263538582770492,
           0.9166947051080091,
           0.8776020986237374,
           0.9081902018752953,
           0.8876788224519649,
           0.8924341072559346,
           0.8878681532722287,
           0.8916380133743972,
           0.8120699490934762,
           0.8558890878779215,
           0.9999999999993139,
           0.8965834031054251,
           0.9263538582770492,
           0.9166947051080091,
           0.8776020979953693,
           0.9081902023769906,
           0.8876788731227491,
           0.8924340972079843,
           0.8878681584484177,
           0.8916380094935853,
           0.8120699764623572,
           0.855889114558101,
           1,
           0.8965833693668505,
           0.9263538819053388,
           0.9166947404927118,
           0.8993915634491061,
           0.8993915634491061,
           0.8993915739134629,
           null
          ],
          [
           0.3365496705257514,
           0.1104023337645628,
           0.2495370123386906,
           0.13912181358548778,
           0.3794116072071771,
           0.31388800370621855,
           0.7427329778547932,
           0.23768327729242802,
           0.26265212732521376,
           0.38438396505585787,
           0.37249969064820854,
           0.3406934609325817,
           0.11435979251145867,
           -0.5750058214044209,
           0.1940034804456,
           -0.01764359072058058,
           0.09841216453351193,
           -0.09444980514047138,
           0.2495370123386906,
           -0.011143054021033834,
           -0.12170398120225069,
           0.9245557529124928,
           0.9551262793393723,
           0.9354115924634004,
           0.947586971846403,
           0.9118772143002887,
           0.9271988557870723,
           0.8426458691249684,
           0.8786766550218187,
           0.8965833845028539,
           0.9999999999996284,
           0.9514888569524682,
           0.9254746085353596,
           0.9245557529124928,
           0.9551262793393723,
           0.9354115924634004,
           0.947586971846403,
           0.9118772143002887,
           0.9271988557870723,
           0.8426458691249684,
           0.8786766550218187,
           0.8965833845028539,
           0.9999999999996284,
           0.9514888569524682,
           0.9254746085353596,
           0.9245557287815928,
           0.9551262849550896,
           0.9354116129314104,
           0.9475869621209642,
           0.9118772045483795,
           0.9271988649081813,
           0.8426458933849288,
           0.8786766353430144,
           0.8965833693668505,
           1,
           0.9514888533903042,
           0.9254746117230706,
           0.949351550556195,
           0.949351550556195,
           0.9493515510408788,
           null
          ],
          [
           0.32620735801709483,
           0.14858664240740319,
           0.2549166228850533,
           0.061442575133312693,
           0.3905937995248719,
           0.3100684602946166,
           0.750440502195165,
           0.22090365673317414,
           0.28217895346972877,
           0.3786089716153967,
           0.36043904450784015,
           0.34791364916805334,
           0.09265166885521127,
           -0.5825264719309085,
           0.19904866286063966,
           -0.03957266981257223,
           0.18252892094501014,
           -0.056388809515914115,
           0.2549166228850533,
           -0.011236434950354417,
           -0.13975051251826257,
           0.9214256105032262,
           0.9473994437055419,
           0.9304112319224892,
           0.9377113927422877,
           0.8964272319692413,
           0.9025295729100615,
           0.7833034319738059,
           0.8255137003032849,
           0.9263539059780125,
           0.9514888495857473,
           0.9999999999997137,
           0.944760965393758,
           0.9214256105032262,
           0.9473994437055419,
           0.9304112319224892,
           0.9377113927422877,
           0.8964272319692413,
           0.9025295729100615,
           0.7833034319738059,
           0.8255137003032849,
           0.9263539059780125,
           0.9514888495857473,
           0.9999999999997137,
           0.944760965393758,
           0.9214255936775536,
           0.9473994452803941,
           0.9304112503715115,
           0.9377113679698893,
           0.8964272229027781,
           0.9025295890314443,
           0.7833034617079051,
           0.8255136893678152,
           0.9263538819053388,
           0.9514888533903042,
           1,
           0.9447609844759726,
           0.9321485657457099,
           0.9321485657457099,
           0.9321485666141187,
           null
          ],
          [
           0.34056305022815364,
           0.17542329157880968,
           0.26416566341866454,
           0.1057599774397224,
           0.3962056453204278,
           0.3128363515599021,
           0.7280499805840152,
           0.22281153014842903,
           0.26579448909780967,
           0.38187675890994904,
           0.36388259682848517,
           0.34165363740044263,
           0.10123865176928434,
           -0.5785669079393642,
           0.18416042400070476,
           -0.07331533262666785,
           0.14761224741704004,
           -0.14385249450773627,
           0.26416566341866454,
           -0.010926727567241107,
           -0.06942020142422388,
           0.9654701762208076,
           0.9518932893473937,
           0.9248161750135085,
           0.941254641093832,
           0.9491449911442504,
           0.9080472723183249,
           0.8532104601425937,
           0.8567058069380615,
           0.9166947720866019,
           0.9254746024254543,
           0.9447609832648325,
           0.9999999999996788,
           0.9654701762208076,
           0.9518932893473937,
           0.9248161750135085,
           0.941254641093832,
           0.9491449911442504,
           0.9080472723183249,
           0.8532104601425937,
           0.8567058069380615,
           0.9166947720866019,
           0.9254746024254543,
           0.9447609832648325,
           0.9999999999996788,
           0.9654701571525366,
           0.9518933167699525,
           0.9248162041152715,
           0.9412546353086836,
           0.9491449855449328,
           0.9080472971009433,
           0.8532104827429031,
           0.8567057897495615,
           0.9166947404927118,
           0.9254746117230706,
           0.9447609844759726,
           1,
           0.8977467484107063,
           0.8977467484107063,
           0.8977467532279495,
           null
          ],
          [
           0.1695492858764992,
           0.09795330530286658,
           0.17595774204485923,
           0.12222171174206765,
           0.2749054200362064,
           0.3069118141324769,
           0.6282769114183621,
           0.12055746308643123,
           0.1770714093212975,
           0.2522957345448494,
           0.21346448798231407,
           0.223781312587758,
           0.12150068148053293,
           -0.5992400478303099,
           0.18637906019025502,
           0.09728848011168932,
           0.052975075501699234,
           -0.14250616702551477,
           0.17595774204485923,
           -0.010854086604408465,
           -0.07612765648576571,
           0.9707987143317555,
           0.9843737849735201,
           0.9672050147977117,
           0.9820497839647923,
           0.9745894814647152,
           0.9659555644240363,
           0.914670317543456,
           0.938415253409905,
           0.8993915856504797,
           0.9493515615172144,
           0.9321485682082966,
           0.8977467615842832,
           0.9707987143317555,
           0.9843737849735201,
           0.9672050147977117,
           0.9820497839647923,
           0.9745894814647152,
           0.9659555644240363,
           0.914670317543456,
           0.938415253409905,
           0.8993915856504797,
           0.9493515615172144,
           0.9321485682082966,
           0.8977467615842832,
           0.9707987083228697,
           0.9843737868071568,
           0.9672050403873502,
           0.9820497740634213,
           0.9745894787156592,
           0.965955571426403,
           0.9146703341351802,
           0.9384152398015354,
           0.8993915634491061,
           0.949351550556195,
           0.9321485657457099,
           0.8977467484107063,
           1,
           1,
           0.9999999999999584,
           null
          ],
          [
           0.1695492858764992,
           0.09795330530286658,
           0.17595774204485923,
           0.12222171174206765,
           0.2749054200362064,
           0.3069118141324769,
           0.6282769114183621,
           0.12055746308643123,
           0.1770714093212975,
           0.2522957345448494,
           0.21346448798231407,
           0.223781312587758,
           0.12150068148053293,
           -0.5992400478303099,
           0.18637906019025502,
           0.09728848011168932,
           0.052975075501699234,
           -0.14250616702551477,
           0.17595774204485923,
           -0.010854086604408465,
           -0.07612765648576571,
           0.9707987143317555,
           0.9843737849735201,
           0.9672050147977117,
           0.9820497839647923,
           0.9745894814647152,
           0.9659555644240363,
           0.914670317543456,
           0.938415253409905,
           0.8993915856504797,
           0.9493515615172144,
           0.9321485682082966,
           0.8977467615842832,
           0.9707987143317555,
           0.9843737849735201,
           0.9672050147977117,
           0.9820497839647923,
           0.9745894814647152,
           0.9659555644240363,
           0.914670317543456,
           0.938415253409905,
           0.8993915856504797,
           0.9493515615172144,
           0.9321485682082966,
           0.8977467615842832,
           0.9707987083228697,
           0.9843737868071568,
           0.9672050403873502,
           0.9820497740634213,
           0.9745894787156592,
           0.965955571426403,
           0.9146703341351802,
           0.9384152398015354,
           0.8993915634491061,
           0.949351550556195,
           0.9321485657457099,
           0.8977467484107063,
           1,
           1,
           0.9999999999999584,
           null
          ],
          [
           0.16954929935161647,
           0.09795332890070987,
           0.17595775227179122,
           0.12222169806260758,
           0.2749054488971853,
           0.3069118049630493,
           0.6282769275677055,
           0.12055748263786449,
           0.1770714174651088,
           0.25229575256334275,
           0.21346450600010097,
           0.2237813270122994,
           0.12150067317444288,
           -0.599240068175603,
           0.18637907054435812,
           0.09728847002654957,
           0.05297508186411714,
           -0.1425061705908831,
           0.17595775227179122,
           -0.010854088208736993,
           -0.07612765531388664,
           0.9707987145372932,
           0.9843737830729563,
           0.9672050075426454,
           0.9820497818238073,
           0.9745894827946104,
           0.9659555637110355,
           0.914670318201121,
           0.9384152578979318,
           0.8993915961147296,
           0.9493515620018481,
           0.932148569076625,
           0.8977467664014562,
           0.9707987145372932,
           0.9843737830729563,
           0.9672050075426454,
           0.9820497818238073,
           0.9745894827946104,
           0.9659555637110355,
           0.914670318201121,
           0.9384152578979318,
           0.8993915961147296,
           0.9493515620018481,
           0.932148569076625,
           0.8977467664014562,
           0.9707987085284844,
           0.9843737849066688,
           0.9672050331323555,
           0.982049771922503,
           0.9745894800456262,
           0.9659555707134705,
           0.9146703347928989,
           0.9384152442896359,
           0.8993915739134629,
           0.9493515510408788,
           0.9321485666141187,
           0.8977467532279495,
           0.9999999999999584,
           0.9999999999999584,
           1,
           null
          ],
          [
           null,
           null,
           null,
           null,
           null,
           null,
           null,
           null,
           null,
           null,
           null,
           null,
           null,
           null,
           null,
           null,
           null,
           null,
           null,
           null,
           null,
           null,
           null,
           null,
           null,
           null,
           null,
           null,
           null,
           null,
           null,
           null,
           null,
           null,
           null,
           null,
           null,
           null,
           null,
           null,
           null,
           null,
           null,
           null,
           null,
           null,
           null,
           null,
           null,
           null,
           null,
           null,
           null,
           null,
           null,
           null,
           null,
           null,
           null,
           null,
           null
          ]
         ]
        }
       ],
       "layout": {
        "coloraxis": {
         "colorscale": [
          [
           0,
           "#0d0887"
          ],
          [
           0.1111111111111111,
           "#46039f"
          ],
          [
           0.2222222222222222,
           "#7201a8"
          ],
          [
           0.3333333333333333,
           "#9c179e"
          ],
          [
           0.4444444444444444,
           "#bd3786"
          ],
          [
           0.5555555555555556,
           "#d8576b"
          ],
          [
           0.6666666666666666,
           "#ed7953"
          ],
          [
           0.7777777777777778,
           "#fb9f3a"
          ],
          [
           0.8888888888888888,
           "#fdca26"
          ],
          [
           1,
           "#f0f921"
          ]
         ]
        },
        "margin": {
         "t": 60
        },
        "template": {
         "data": {
          "bar": [
           {
            "error_x": {
             "color": "#2a3f5f"
            },
            "error_y": {
             "color": "#2a3f5f"
            },
            "marker": {
             "line": {
              "color": "#E5ECF6",
              "width": 0.5
             },
             "pattern": {
              "fillmode": "overlay",
              "size": 10,
              "solidity": 0.2
             }
            },
            "type": "bar"
           }
          ],
          "barpolar": [
           {
            "marker": {
             "line": {
              "color": "#E5ECF6",
              "width": 0.5
             },
             "pattern": {
              "fillmode": "overlay",
              "size": 10,
              "solidity": 0.2
             }
            },
            "type": "barpolar"
           }
          ],
          "carpet": [
           {
            "aaxis": {
             "endlinecolor": "#2a3f5f",
             "gridcolor": "white",
             "linecolor": "white",
             "minorgridcolor": "white",
             "startlinecolor": "#2a3f5f"
            },
            "baxis": {
             "endlinecolor": "#2a3f5f",
             "gridcolor": "white",
             "linecolor": "white",
             "minorgridcolor": "white",
             "startlinecolor": "#2a3f5f"
            },
            "type": "carpet"
           }
          ],
          "choropleth": [
           {
            "colorbar": {
             "outlinewidth": 0,
             "ticks": ""
            },
            "type": "choropleth"
           }
          ],
          "contour": [
           {
            "colorbar": {
             "outlinewidth": 0,
             "ticks": ""
            },
            "colorscale": [
             [
              0,
              "#0d0887"
             ],
             [
              0.1111111111111111,
              "#46039f"
             ],
             [
              0.2222222222222222,
              "#7201a8"
             ],
             [
              0.3333333333333333,
              "#9c179e"
             ],
             [
              0.4444444444444444,
              "#bd3786"
             ],
             [
              0.5555555555555556,
              "#d8576b"
             ],
             [
              0.6666666666666666,
              "#ed7953"
             ],
             [
              0.7777777777777778,
              "#fb9f3a"
             ],
             [
              0.8888888888888888,
              "#fdca26"
             ],
             [
              1,
              "#f0f921"
             ]
            ],
            "type": "contour"
           }
          ],
          "contourcarpet": [
           {
            "colorbar": {
             "outlinewidth": 0,
             "ticks": ""
            },
            "type": "contourcarpet"
           }
          ],
          "heatmap": [
           {
            "colorbar": {
             "outlinewidth": 0,
             "ticks": ""
            },
            "colorscale": [
             [
              0,
              "#0d0887"
             ],
             [
              0.1111111111111111,
              "#46039f"
             ],
             [
              0.2222222222222222,
              "#7201a8"
             ],
             [
              0.3333333333333333,
              "#9c179e"
             ],
             [
              0.4444444444444444,
              "#bd3786"
             ],
             [
              0.5555555555555556,
              "#d8576b"
             ],
             [
              0.6666666666666666,
              "#ed7953"
             ],
             [
              0.7777777777777778,
              "#fb9f3a"
             ],
             [
              0.8888888888888888,
              "#fdca26"
             ],
             [
              1,
              "#f0f921"
             ]
            ],
            "type": "heatmap"
           }
          ],
          "heatmapgl": [
           {
            "colorbar": {
             "outlinewidth": 0,
             "ticks": ""
            },
            "colorscale": [
             [
              0,
              "#0d0887"
             ],
             [
              0.1111111111111111,
              "#46039f"
             ],
             [
              0.2222222222222222,
              "#7201a8"
             ],
             [
              0.3333333333333333,
              "#9c179e"
             ],
             [
              0.4444444444444444,
              "#bd3786"
             ],
             [
              0.5555555555555556,
              "#d8576b"
             ],
             [
              0.6666666666666666,
              "#ed7953"
             ],
             [
              0.7777777777777778,
              "#fb9f3a"
             ],
             [
              0.8888888888888888,
              "#fdca26"
             ],
             [
              1,
              "#f0f921"
             ]
            ],
            "type": "heatmapgl"
           }
          ],
          "histogram": [
           {
            "marker": {
             "pattern": {
              "fillmode": "overlay",
              "size": 10,
              "solidity": 0.2
             }
            },
            "type": "histogram"
           }
          ],
          "histogram2d": [
           {
            "colorbar": {
             "outlinewidth": 0,
             "ticks": ""
            },
            "colorscale": [
             [
              0,
              "#0d0887"
             ],
             [
              0.1111111111111111,
              "#46039f"
             ],
             [
              0.2222222222222222,
              "#7201a8"
             ],
             [
              0.3333333333333333,
              "#9c179e"
             ],
             [
              0.4444444444444444,
              "#bd3786"
             ],
             [
              0.5555555555555556,
              "#d8576b"
             ],
             [
              0.6666666666666666,
              "#ed7953"
             ],
             [
              0.7777777777777778,
              "#fb9f3a"
             ],
             [
              0.8888888888888888,
              "#fdca26"
             ],
             [
              1,
              "#f0f921"
             ]
            ],
            "type": "histogram2d"
           }
          ],
          "histogram2dcontour": [
           {
            "colorbar": {
             "outlinewidth": 0,
             "ticks": ""
            },
            "colorscale": [
             [
              0,
              "#0d0887"
             ],
             [
              0.1111111111111111,
              "#46039f"
             ],
             [
              0.2222222222222222,
              "#7201a8"
             ],
             [
              0.3333333333333333,
              "#9c179e"
             ],
             [
              0.4444444444444444,
              "#bd3786"
             ],
             [
              0.5555555555555556,
              "#d8576b"
             ],
             [
              0.6666666666666666,
              "#ed7953"
             ],
             [
              0.7777777777777778,
              "#fb9f3a"
             ],
             [
              0.8888888888888888,
              "#fdca26"
             ],
             [
              1,
              "#f0f921"
             ]
            ],
            "type": "histogram2dcontour"
           }
          ],
          "mesh3d": [
           {
            "colorbar": {
             "outlinewidth": 0,
             "ticks": ""
            },
            "type": "mesh3d"
           }
          ],
          "parcoords": [
           {
            "line": {
             "colorbar": {
              "outlinewidth": 0,
              "ticks": ""
             }
            },
            "type": "parcoords"
           }
          ],
          "pie": [
           {
            "automargin": true,
            "type": "pie"
           }
          ],
          "scatter": [
           {
            "fillpattern": {
             "fillmode": "overlay",
             "size": 10,
             "solidity": 0.2
            },
            "type": "scatter"
           }
          ],
          "scatter3d": [
           {
            "line": {
             "colorbar": {
              "outlinewidth": 0,
              "ticks": ""
             }
            },
            "marker": {
             "colorbar": {
              "outlinewidth": 0,
              "ticks": ""
             }
            },
            "type": "scatter3d"
           }
          ],
          "scattercarpet": [
           {
            "marker": {
             "colorbar": {
              "outlinewidth": 0,
              "ticks": ""
             }
            },
            "type": "scattercarpet"
           }
          ],
          "scattergeo": [
           {
            "marker": {
             "colorbar": {
              "outlinewidth": 0,
              "ticks": ""
             }
            },
            "type": "scattergeo"
           }
          ],
          "scattergl": [
           {
            "marker": {
             "colorbar": {
              "outlinewidth": 0,
              "ticks": ""
             }
            },
            "type": "scattergl"
           }
          ],
          "scattermapbox": [
           {
            "marker": {
             "colorbar": {
              "outlinewidth": 0,
              "ticks": ""
             }
            },
            "type": "scattermapbox"
           }
          ],
          "scatterpolar": [
           {
            "marker": {
             "colorbar": {
              "outlinewidth": 0,
              "ticks": ""
             }
            },
            "type": "scatterpolar"
           }
          ],
          "scatterpolargl": [
           {
            "marker": {
             "colorbar": {
              "outlinewidth": 0,
              "ticks": ""
             }
            },
            "type": "scatterpolargl"
           }
          ],
          "scatterternary": [
           {
            "marker": {
             "colorbar": {
              "outlinewidth": 0,
              "ticks": ""
             }
            },
            "type": "scatterternary"
           }
          ],
          "surface": [
           {
            "colorbar": {
             "outlinewidth": 0,
             "ticks": ""
            },
            "colorscale": [
             [
              0,
              "#0d0887"
             ],
             [
              0.1111111111111111,
              "#46039f"
             ],
             [
              0.2222222222222222,
              "#7201a8"
             ],
             [
              0.3333333333333333,
              "#9c179e"
             ],
             [
              0.4444444444444444,
              "#bd3786"
             ],
             [
              0.5555555555555556,
              "#d8576b"
             ],
             [
              0.6666666666666666,
              "#ed7953"
             ],
             [
              0.7777777777777778,
              "#fb9f3a"
             ],
             [
              0.8888888888888888,
              "#fdca26"
             ],
             [
              1,
              "#f0f921"
             ]
            ],
            "type": "surface"
           }
          ],
          "table": [
           {
            "cells": {
             "fill": {
              "color": "#EBF0F8"
             },
             "line": {
              "color": "white"
             }
            },
            "header": {
             "fill": {
              "color": "#C8D4E3"
             },
             "line": {
              "color": "white"
             }
            },
            "type": "table"
           }
          ]
         },
         "layout": {
          "annotationdefaults": {
           "arrowcolor": "#2a3f5f",
           "arrowhead": 0,
           "arrowwidth": 1
          },
          "autotypenumbers": "strict",
          "coloraxis": {
           "colorbar": {
            "outlinewidth": 0,
            "ticks": ""
           }
          },
          "colorscale": {
           "diverging": [
            [
             0,
             "#8e0152"
            ],
            [
             0.1,
             "#c51b7d"
            ],
            [
             0.2,
             "#de77ae"
            ],
            [
             0.3,
             "#f1b6da"
            ],
            [
             0.4,
             "#fde0ef"
            ],
            [
             0.5,
             "#f7f7f7"
            ],
            [
             0.6,
             "#e6f5d0"
            ],
            [
             0.7,
             "#b8e186"
            ],
            [
             0.8,
             "#7fbc41"
            ],
            [
             0.9,
             "#4d9221"
            ],
            [
             1,
             "#276419"
            ]
           ],
           "sequential": [
            [
             0,
             "#0d0887"
            ],
            [
             0.1111111111111111,
             "#46039f"
            ],
            [
             0.2222222222222222,
             "#7201a8"
            ],
            [
             0.3333333333333333,
             "#9c179e"
            ],
            [
             0.4444444444444444,
             "#bd3786"
            ],
            [
             0.5555555555555556,
             "#d8576b"
            ],
            [
             0.6666666666666666,
             "#ed7953"
            ],
            [
             0.7777777777777778,
             "#fb9f3a"
            ],
            [
             0.8888888888888888,
             "#fdca26"
            ],
            [
             1,
             "#f0f921"
            ]
           ],
           "sequentialminus": [
            [
             0,
             "#0d0887"
            ],
            [
             0.1111111111111111,
             "#46039f"
            ],
            [
             0.2222222222222222,
             "#7201a8"
            ],
            [
             0.3333333333333333,
             "#9c179e"
            ],
            [
             0.4444444444444444,
             "#bd3786"
            ],
            [
             0.5555555555555556,
             "#d8576b"
            ],
            [
             0.6666666666666666,
             "#ed7953"
            ],
            [
             0.7777777777777778,
             "#fb9f3a"
            ],
            [
             0.8888888888888888,
             "#fdca26"
            ],
            [
             1,
             "#f0f921"
            ]
           ]
          },
          "colorway": [
           "#636efa",
           "#EF553B",
           "#00cc96",
           "#ab63fa",
           "#FFA15A",
           "#19d3f3",
           "#FF6692",
           "#B6E880",
           "#FF97FF",
           "#FECB52"
          ],
          "font": {
           "color": "#2a3f5f"
          },
          "geo": {
           "bgcolor": "white",
           "lakecolor": "white",
           "landcolor": "#E5ECF6",
           "showlakes": true,
           "showland": true,
           "subunitcolor": "white"
          },
          "hoverlabel": {
           "align": "left"
          },
          "hovermode": "closest",
          "mapbox": {
           "style": "light"
          },
          "paper_bgcolor": "white",
          "plot_bgcolor": "#E5ECF6",
          "polar": {
           "angularaxis": {
            "gridcolor": "white",
            "linecolor": "white",
            "ticks": ""
           },
           "bgcolor": "#E5ECF6",
           "radialaxis": {
            "gridcolor": "white",
            "linecolor": "white",
            "ticks": ""
           }
          },
          "scene": {
           "xaxis": {
            "backgroundcolor": "#E5ECF6",
            "gridcolor": "white",
            "gridwidth": 2,
            "linecolor": "white",
            "showbackground": true,
            "ticks": "",
            "zerolinecolor": "white"
           },
           "yaxis": {
            "backgroundcolor": "#E5ECF6",
            "gridcolor": "white",
            "gridwidth": 2,
            "linecolor": "white",
            "showbackground": true,
            "ticks": "",
            "zerolinecolor": "white"
           },
           "zaxis": {
            "backgroundcolor": "#E5ECF6",
            "gridcolor": "white",
            "gridwidth": 2,
            "linecolor": "white",
            "showbackground": true,
            "ticks": "",
            "zerolinecolor": "white"
           }
          },
          "shapedefaults": {
           "line": {
            "color": "#2a3f5f"
           }
          },
          "ternary": {
           "aaxis": {
            "gridcolor": "white",
            "linecolor": "white",
            "ticks": ""
           },
           "baxis": {
            "gridcolor": "white",
            "linecolor": "white",
            "ticks": ""
           },
           "bgcolor": "#E5ECF6",
           "caxis": {
            "gridcolor": "white",
            "linecolor": "white",
            "ticks": ""
           }
          },
          "title": {
           "x": 0.05
          },
          "xaxis": {
           "automargin": true,
           "gridcolor": "white",
           "linecolor": "white",
           "ticks": "",
           "title": {
            "standoff": 15
           },
           "zerolinecolor": "white",
           "zerolinewidth": 2
          },
          "yaxis": {
           "automargin": true,
           "gridcolor": "white",
           "linecolor": "white",
           "ticks": "",
           "title": {
            "standoff": 15
           },
           "zerolinecolor": "white",
           "zerolinewidth": 2
          }
         }
        },
        "xaxis": {
         "anchor": "y",
         "constrain": "domain",
         "domain": [
          0,
          1
         ],
         "scaleanchor": "y"
        },
        "yaxis": {
         "anchor": "x",
         "autorange": "reversed",
         "constrain": "domain",
         "domain": [
          0,
          1
         ]
        }
       }
      }
     },
     "metadata": {},
     "output_type": "display_data"
    }
   ],
   "source": [
    "# Correlation Table\n",
    "fig = px.imshow(merged_wind_data.corr(), text_auto=True)\n",
    "fig.show()"
   ]
  },
  {
   "attachments": {},
   "cell_type": "markdown",
   "metadata": {},
   "source": [
    "# Operators: Wind vs. Hydro"
   ]
  },
  {
   "attachments": {},
   "cell_type": "markdown",
   "metadata": {},
   "source": [
    "##### __Operators & Plants:__"
   ]
  },
  {
   "cell_type": "code",
   "execution_count": null,
   "metadata": {},
   "outputs": [
    {
     "name": "stdout",
     "output_type": "stream",
     "text": [
      "Number of plants: 1235 wind operating plants\n",
      "Number of plants: 1457 hydro operating plants\n",
      "Number of wind operators: 653 \n",
      "Number of hydro operators: 469 \n"
     ]
    }
   ],
   "source": [
    "# Number of Plants\n",
    "print(f'Number of plants: {wind_opr_df[\"Plant Id\"].unique().shape[0]} wind operating plants')\n",
    "print(f'Number of plants: {hydro_opr_df[\"Plant Id\"].unique().shape[0]} hydro operating plants')\n",
    "\n",
    "# Number of Wind Operators\n",
    "print(f\"Number of wind operators: {wind_opr_df['Operator Id'].unique().shape[0]} \")\n",
    "print(f\"Number of hydro operators: {hydro_opr_df['Operator Id'].unique().shape[0]} \")"
   ]
  },
  {
   "cell_type": "code",
   "execution_count": null,
   "metadata": {},
   "outputs": [
    {
     "name": "stdout",
     "output_type": "stream",
     "text": [
      "Number of wind operating plants per state:\n"
     ]
    },
    {
     "data": {
      "application/vnd.plotly.v1+json": {
       "config": {
        "plotlyServerURL": "https://plot.ly"
       },
       "data": [
        {
         "coloraxis": "coloraxis",
         "geo": "geo",
         "hovertemplate": "locations=%{location}<br>color=%{z}<extra></extra>",
         "locationmode": "USA-states",
         "locations": [
          "TX",
          "MN",
          "CA",
          "IA",
          "OK",
          "OR",
          "IL",
          "KS",
          "ND",
          "ID",
          "NE",
          "CO",
          "MI",
          "NY",
          "WY",
          "PA",
          "WA",
          "MA",
          "NM",
          "OH",
          "SD",
          "IN",
          "ME",
          "RI",
          "MT",
          "MO",
          "WI",
          "HI",
          "AK",
          "WV",
          "NH",
          "AZ",
          "MD",
          "UT",
          "VT",
          "NJ",
          "TN",
          "NV",
          "DE",
          "NC",
          "CT"
         ],
         "name": "",
         "type": "choropleth",
         "z": [
          190,
          129,
          114,
          112,
          57,
          47,
          46,
          41,
          40,
          33,
          31,
          29,
          28,
          27,
          27,
          26,
          24,
          24,
          23,
          21,
          20,
          18,
          18,
          17,
          17,
          12,
          12,
          9,
          7,
          7,
          6,
          6,
          6,
          5,
          5,
          2,
          2,
          2,
          1,
          1,
          1
         ]
        }
       ],
       "layout": {
        "coloraxis": {
         "colorbar": {
          "title": {
           "text": "color"
          }
         },
         "colorscale": [
          [
           0,
           "#0d0887"
          ],
          [
           0.1111111111111111,
           "#46039f"
          ],
          [
           0.2222222222222222,
           "#7201a8"
          ],
          [
           0.3333333333333333,
           "#9c179e"
          ],
          [
           0.4444444444444444,
           "#bd3786"
          ],
          [
           0.5555555555555556,
           "#d8576b"
          ],
          [
           0.6666666666666666,
           "#ed7953"
          ],
          [
           0.7777777777777778,
           "#fb9f3a"
          ],
          [
           0.8888888888888888,
           "#fdca26"
          ],
          [
           1,
           "#f0f921"
          ]
         ]
        },
        "geo": {
         "center": {},
         "domain": {
          "x": [
           0,
           1
          ],
          "y": [
           0,
           1
          ]
         },
         "scope": "usa"
        },
        "legend": {
         "tracegroupgap": 0
        },
        "template": {
         "data": {
          "bar": [
           {
            "error_x": {
             "color": "#2a3f5f"
            },
            "error_y": {
             "color": "#2a3f5f"
            },
            "marker": {
             "line": {
              "color": "#E5ECF6",
              "width": 0.5
             },
             "pattern": {
              "fillmode": "overlay",
              "size": 10,
              "solidity": 0.2
             }
            },
            "type": "bar"
           }
          ],
          "barpolar": [
           {
            "marker": {
             "line": {
              "color": "#E5ECF6",
              "width": 0.5
             },
             "pattern": {
              "fillmode": "overlay",
              "size": 10,
              "solidity": 0.2
             }
            },
            "type": "barpolar"
           }
          ],
          "carpet": [
           {
            "aaxis": {
             "endlinecolor": "#2a3f5f",
             "gridcolor": "white",
             "linecolor": "white",
             "minorgridcolor": "white",
             "startlinecolor": "#2a3f5f"
            },
            "baxis": {
             "endlinecolor": "#2a3f5f",
             "gridcolor": "white",
             "linecolor": "white",
             "minorgridcolor": "white",
             "startlinecolor": "#2a3f5f"
            },
            "type": "carpet"
           }
          ],
          "choropleth": [
           {
            "colorbar": {
             "outlinewidth": 0,
             "ticks": ""
            },
            "type": "choropleth"
           }
          ],
          "contour": [
           {
            "colorbar": {
             "outlinewidth": 0,
             "ticks": ""
            },
            "colorscale": [
             [
              0,
              "#0d0887"
             ],
             [
              0.1111111111111111,
              "#46039f"
             ],
             [
              0.2222222222222222,
              "#7201a8"
             ],
             [
              0.3333333333333333,
              "#9c179e"
             ],
             [
              0.4444444444444444,
              "#bd3786"
             ],
             [
              0.5555555555555556,
              "#d8576b"
             ],
             [
              0.6666666666666666,
              "#ed7953"
             ],
             [
              0.7777777777777778,
              "#fb9f3a"
             ],
             [
              0.8888888888888888,
              "#fdca26"
             ],
             [
              1,
              "#f0f921"
             ]
            ],
            "type": "contour"
           }
          ],
          "contourcarpet": [
           {
            "colorbar": {
             "outlinewidth": 0,
             "ticks": ""
            },
            "type": "contourcarpet"
           }
          ],
          "heatmap": [
           {
            "colorbar": {
             "outlinewidth": 0,
             "ticks": ""
            },
            "colorscale": [
             [
              0,
              "#0d0887"
             ],
             [
              0.1111111111111111,
              "#46039f"
             ],
             [
              0.2222222222222222,
              "#7201a8"
             ],
             [
              0.3333333333333333,
              "#9c179e"
             ],
             [
              0.4444444444444444,
              "#bd3786"
             ],
             [
              0.5555555555555556,
              "#d8576b"
             ],
             [
              0.6666666666666666,
              "#ed7953"
             ],
             [
              0.7777777777777778,
              "#fb9f3a"
             ],
             [
              0.8888888888888888,
              "#fdca26"
             ],
             [
              1,
              "#f0f921"
             ]
            ],
            "type": "heatmap"
           }
          ],
          "heatmapgl": [
           {
            "colorbar": {
             "outlinewidth": 0,
             "ticks": ""
            },
            "colorscale": [
             [
              0,
              "#0d0887"
             ],
             [
              0.1111111111111111,
              "#46039f"
             ],
             [
              0.2222222222222222,
              "#7201a8"
             ],
             [
              0.3333333333333333,
              "#9c179e"
             ],
             [
              0.4444444444444444,
              "#bd3786"
             ],
             [
              0.5555555555555556,
              "#d8576b"
             ],
             [
              0.6666666666666666,
              "#ed7953"
             ],
             [
              0.7777777777777778,
              "#fb9f3a"
             ],
             [
              0.8888888888888888,
              "#fdca26"
             ],
             [
              1,
              "#f0f921"
             ]
            ],
            "type": "heatmapgl"
           }
          ],
          "histogram": [
           {
            "marker": {
             "pattern": {
              "fillmode": "overlay",
              "size": 10,
              "solidity": 0.2
             }
            },
            "type": "histogram"
           }
          ],
          "histogram2d": [
           {
            "colorbar": {
             "outlinewidth": 0,
             "ticks": ""
            },
            "colorscale": [
             [
              0,
              "#0d0887"
             ],
             [
              0.1111111111111111,
              "#46039f"
             ],
             [
              0.2222222222222222,
              "#7201a8"
             ],
             [
              0.3333333333333333,
              "#9c179e"
             ],
             [
              0.4444444444444444,
              "#bd3786"
             ],
             [
              0.5555555555555556,
              "#d8576b"
             ],
             [
              0.6666666666666666,
              "#ed7953"
             ],
             [
              0.7777777777777778,
              "#fb9f3a"
             ],
             [
              0.8888888888888888,
              "#fdca26"
             ],
             [
              1,
              "#f0f921"
             ]
            ],
            "type": "histogram2d"
           }
          ],
          "histogram2dcontour": [
           {
            "colorbar": {
             "outlinewidth": 0,
             "ticks": ""
            },
            "colorscale": [
             [
              0,
              "#0d0887"
             ],
             [
              0.1111111111111111,
              "#46039f"
             ],
             [
              0.2222222222222222,
              "#7201a8"
             ],
             [
              0.3333333333333333,
              "#9c179e"
             ],
             [
              0.4444444444444444,
              "#bd3786"
             ],
             [
              0.5555555555555556,
              "#d8576b"
             ],
             [
              0.6666666666666666,
              "#ed7953"
             ],
             [
              0.7777777777777778,
              "#fb9f3a"
             ],
             [
              0.8888888888888888,
              "#fdca26"
             ],
             [
              1,
              "#f0f921"
             ]
            ],
            "type": "histogram2dcontour"
           }
          ],
          "mesh3d": [
           {
            "colorbar": {
             "outlinewidth": 0,
             "ticks": ""
            },
            "type": "mesh3d"
           }
          ],
          "parcoords": [
           {
            "line": {
             "colorbar": {
              "outlinewidth": 0,
              "ticks": ""
             }
            },
            "type": "parcoords"
           }
          ],
          "pie": [
           {
            "automargin": true,
            "type": "pie"
           }
          ],
          "scatter": [
           {
            "fillpattern": {
             "fillmode": "overlay",
             "size": 10,
             "solidity": 0.2
            },
            "type": "scatter"
           }
          ],
          "scatter3d": [
           {
            "line": {
             "colorbar": {
              "outlinewidth": 0,
              "ticks": ""
             }
            },
            "marker": {
             "colorbar": {
              "outlinewidth": 0,
              "ticks": ""
             }
            },
            "type": "scatter3d"
           }
          ],
          "scattercarpet": [
           {
            "marker": {
             "colorbar": {
              "outlinewidth": 0,
              "ticks": ""
             }
            },
            "type": "scattercarpet"
           }
          ],
          "scattergeo": [
           {
            "marker": {
             "colorbar": {
              "outlinewidth": 0,
              "ticks": ""
             }
            },
            "type": "scattergeo"
           }
          ],
          "scattergl": [
           {
            "marker": {
             "colorbar": {
              "outlinewidth": 0,
              "ticks": ""
             }
            },
            "type": "scattergl"
           }
          ],
          "scattermapbox": [
           {
            "marker": {
             "colorbar": {
              "outlinewidth": 0,
              "ticks": ""
             }
            },
            "type": "scattermapbox"
           }
          ],
          "scatterpolar": [
           {
            "marker": {
             "colorbar": {
              "outlinewidth": 0,
              "ticks": ""
             }
            },
            "type": "scatterpolar"
           }
          ],
          "scatterpolargl": [
           {
            "marker": {
             "colorbar": {
              "outlinewidth": 0,
              "ticks": ""
             }
            },
            "type": "scatterpolargl"
           }
          ],
          "scatterternary": [
           {
            "marker": {
             "colorbar": {
              "outlinewidth": 0,
              "ticks": ""
             }
            },
            "type": "scatterternary"
           }
          ],
          "surface": [
           {
            "colorbar": {
             "outlinewidth": 0,
             "ticks": ""
            },
            "colorscale": [
             [
              0,
              "#0d0887"
             ],
             [
              0.1111111111111111,
              "#46039f"
             ],
             [
              0.2222222222222222,
              "#7201a8"
             ],
             [
              0.3333333333333333,
              "#9c179e"
             ],
             [
              0.4444444444444444,
              "#bd3786"
             ],
             [
              0.5555555555555556,
              "#d8576b"
             ],
             [
              0.6666666666666666,
              "#ed7953"
             ],
             [
              0.7777777777777778,
              "#fb9f3a"
             ],
             [
              0.8888888888888888,
              "#fdca26"
             ],
             [
              1,
              "#f0f921"
             ]
            ],
            "type": "surface"
           }
          ],
          "table": [
           {
            "cells": {
             "fill": {
              "color": "#EBF0F8"
             },
             "line": {
              "color": "white"
             }
            },
            "header": {
             "fill": {
              "color": "#C8D4E3"
             },
             "line": {
              "color": "white"
             }
            },
            "type": "table"
           }
          ]
         },
         "layout": {
          "annotationdefaults": {
           "arrowcolor": "#2a3f5f",
           "arrowhead": 0,
           "arrowwidth": 1
          },
          "autotypenumbers": "strict",
          "coloraxis": {
           "colorbar": {
            "outlinewidth": 0,
            "ticks": ""
           }
          },
          "colorscale": {
           "diverging": [
            [
             0,
             "#8e0152"
            ],
            [
             0.1,
             "#c51b7d"
            ],
            [
             0.2,
             "#de77ae"
            ],
            [
             0.3,
             "#f1b6da"
            ],
            [
             0.4,
             "#fde0ef"
            ],
            [
             0.5,
             "#f7f7f7"
            ],
            [
             0.6,
             "#e6f5d0"
            ],
            [
             0.7,
             "#b8e186"
            ],
            [
             0.8,
             "#7fbc41"
            ],
            [
             0.9,
             "#4d9221"
            ],
            [
             1,
             "#276419"
            ]
           ],
           "sequential": [
            [
             0,
             "#0d0887"
            ],
            [
             0.1111111111111111,
             "#46039f"
            ],
            [
             0.2222222222222222,
             "#7201a8"
            ],
            [
             0.3333333333333333,
             "#9c179e"
            ],
            [
             0.4444444444444444,
             "#bd3786"
            ],
            [
             0.5555555555555556,
             "#d8576b"
            ],
            [
             0.6666666666666666,
             "#ed7953"
            ],
            [
             0.7777777777777778,
             "#fb9f3a"
            ],
            [
             0.8888888888888888,
             "#fdca26"
            ],
            [
             1,
             "#f0f921"
            ]
           ],
           "sequentialminus": [
            [
             0,
             "#0d0887"
            ],
            [
             0.1111111111111111,
             "#46039f"
            ],
            [
             0.2222222222222222,
             "#7201a8"
            ],
            [
             0.3333333333333333,
             "#9c179e"
            ],
            [
             0.4444444444444444,
             "#bd3786"
            ],
            [
             0.5555555555555556,
             "#d8576b"
            ],
            [
             0.6666666666666666,
             "#ed7953"
            ],
            [
             0.7777777777777778,
             "#fb9f3a"
            ],
            [
             0.8888888888888888,
             "#fdca26"
            ],
            [
             1,
             "#f0f921"
            ]
           ]
          },
          "colorway": [
           "#636efa",
           "#EF553B",
           "#00cc96",
           "#ab63fa",
           "#FFA15A",
           "#19d3f3",
           "#FF6692",
           "#B6E880",
           "#FF97FF",
           "#FECB52"
          ],
          "font": {
           "color": "#2a3f5f"
          },
          "geo": {
           "bgcolor": "white",
           "lakecolor": "white",
           "landcolor": "#E5ECF6",
           "showlakes": true,
           "showland": true,
           "subunitcolor": "white"
          },
          "hoverlabel": {
           "align": "left"
          },
          "hovermode": "closest",
          "mapbox": {
           "style": "light"
          },
          "paper_bgcolor": "white",
          "plot_bgcolor": "#E5ECF6",
          "polar": {
           "angularaxis": {
            "gridcolor": "white",
            "linecolor": "white",
            "ticks": ""
           },
           "bgcolor": "#E5ECF6",
           "radialaxis": {
            "gridcolor": "white",
            "linecolor": "white",
            "ticks": ""
           }
          },
          "scene": {
           "xaxis": {
            "backgroundcolor": "#E5ECF6",
            "gridcolor": "white",
            "gridwidth": 2,
            "linecolor": "white",
            "showbackground": true,
            "ticks": "",
            "zerolinecolor": "white"
           },
           "yaxis": {
            "backgroundcolor": "#E5ECF6",
            "gridcolor": "white",
            "gridwidth": 2,
            "linecolor": "white",
            "showbackground": true,
            "ticks": "",
            "zerolinecolor": "white"
           },
           "zaxis": {
            "backgroundcolor": "#E5ECF6",
            "gridcolor": "white",
            "gridwidth": 2,
            "linecolor": "white",
            "showbackground": true,
            "ticks": "",
            "zerolinecolor": "white"
           }
          },
          "shapedefaults": {
           "line": {
            "color": "#2a3f5f"
           }
          },
          "ternary": {
           "aaxis": {
            "gridcolor": "white",
            "linecolor": "white",
            "ticks": ""
           },
           "baxis": {
            "gridcolor": "white",
            "linecolor": "white",
            "ticks": ""
           },
           "bgcolor": "#E5ECF6",
           "caxis": {
            "gridcolor": "white",
            "linecolor": "white",
            "ticks": ""
           }
          },
          "title": {
           "x": 0.05
          },
          "xaxis": {
           "automargin": true,
           "gridcolor": "white",
           "linecolor": "white",
           "ticks": "",
           "title": {
            "standoff": 15
           },
           "zerolinecolor": "white",
           "zerolinewidth": 2
          },
          "yaxis": {
           "automargin": true,
           "gridcolor": "white",
           "linecolor": "white",
           "ticks": "",
           "title": {
            "standoff": 15
           },
           "zerolinecolor": "white",
           "zerolinewidth": 2
          }
         }
        },
        "title": {
         "text": "Number of Wind operating plant per state"
        }
       }
      }
     },
     "metadata": {},
     "output_type": "display_data"
    },
    {
     "name": "stdout",
     "output_type": "stream",
     "text": [
      "Number of hydro operating plants per state:\n"
     ]
    },
    {
     "data": {
      "application/vnd.plotly.v1+json": {
       "config": {
        "plotlyServerURL": "https://plot.ly"
       },
       "data": [
        {
         "coloraxis": "coloraxis",
         "geo": "geo",
         "hovertemplate": "locations=%{location}<br>color=%{z}<extra></extra>",
         "locationmode": "USA-states",
         "locations": [
          "CA",
          "NY",
          "WA",
          "ID",
          "WI",
          "OR",
          "MI",
          "ME",
          "CO",
          "VT",
          "NC",
          "GA",
          "SC",
          "NH",
          "MA",
          "AK",
          "UT",
          "TN",
          "MN",
          "VA",
          "TX",
          "MT",
          "AL",
          "AR",
          "PA",
          "WY",
          "CT",
          "WV",
          "AZ",
          "OK",
          "NE",
          "KY",
          "IL",
          "MO",
          "HI",
          "NV",
          "OH",
          "IN",
          "NM",
          "SD",
          "IA",
          "MD",
          "NJ",
          "ND",
          "FL",
          "KS",
          "RI",
          "LA"
         ],
         "name": "",
         "type": "choropleth",
         "z": [
          258,
          165,
          74,
          74,
          66,
          65,
          55,
          52,
          50,
          46,
          41,
          34,
          33,
          32,
          32,
          31,
          29,
          29,
          28,
          27,
          24,
          23,
          23,
          20,
          19,
          15,
          14,
          12,
          12,
          11,
          10,
          10,
          9,
          9,
          8,
          6,
          5,
          5,
          5,
          4,
          3,
          2,
          2,
          1,
          1,
          1,
          1,
          1
         ]
        }
       ],
       "layout": {
        "coloraxis": {
         "colorbar": {
          "title": {
           "text": "color"
          }
         },
         "colorscale": [
          [
           0,
           "#0d0887"
          ],
          [
           0.1111111111111111,
           "#46039f"
          ],
          [
           0.2222222222222222,
           "#7201a8"
          ],
          [
           0.3333333333333333,
           "#9c179e"
          ],
          [
           0.4444444444444444,
           "#bd3786"
          ],
          [
           0.5555555555555556,
           "#d8576b"
          ],
          [
           0.6666666666666666,
           "#ed7953"
          ],
          [
           0.7777777777777778,
           "#fb9f3a"
          ],
          [
           0.8888888888888888,
           "#fdca26"
          ],
          [
           1,
           "#f0f921"
          ]
         ]
        },
        "geo": {
         "center": {},
         "domain": {
          "x": [
           0,
           1
          ],
          "y": [
           0,
           1
          ]
         },
         "scope": "usa"
        },
        "legend": {
         "tracegroupgap": 0
        },
        "template": {
         "data": {
          "bar": [
           {
            "error_x": {
             "color": "#2a3f5f"
            },
            "error_y": {
             "color": "#2a3f5f"
            },
            "marker": {
             "line": {
              "color": "#E5ECF6",
              "width": 0.5
             },
             "pattern": {
              "fillmode": "overlay",
              "size": 10,
              "solidity": 0.2
             }
            },
            "type": "bar"
           }
          ],
          "barpolar": [
           {
            "marker": {
             "line": {
              "color": "#E5ECF6",
              "width": 0.5
             },
             "pattern": {
              "fillmode": "overlay",
              "size": 10,
              "solidity": 0.2
             }
            },
            "type": "barpolar"
           }
          ],
          "carpet": [
           {
            "aaxis": {
             "endlinecolor": "#2a3f5f",
             "gridcolor": "white",
             "linecolor": "white",
             "minorgridcolor": "white",
             "startlinecolor": "#2a3f5f"
            },
            "baxis": {
             "endlinecolor": "#2a3f5f",
             "gridcolor": "white",
             "linecolor": "white",
             "minorgridcolor": "white",
             "startlinecolor": "#2a3f5f"
            },
            "type": "carpet"
           }
          ],
          "choropleth": [
           {
            "colorbar": {
             "outlinewidth": 0,
             "ticks": ""
            },
            "type": "choropleth"
           }
          ],
          "contour": [
           {
            "colorbar": {
             "outlinewidth": 0,
             "ticks": ""
            },
            "colorscale": [
             [
              0,
              "#0d0887"
             ],
             [
              0.1111111111111111,
              "#46039f"
             ],
             [
              0.2222222222222222,
              "#7201a8"
             ],
             [
              0.3333333333333333,
              "#9c179e"
             ],
             [
              0.4444444444444444,
              "#bd3786"
             ],
             [
              0.5555555555555556,
              "#d8576b"
             ],
             [
              0.6666666666666666,
              "#ed7953"
             ],
             [
              0.7777777777777778,
              "#fb9f3a"
             ],
             [
              0.8888888888888888,
              "#fdca26"
             ],
             [
              1,
              "#f0f921"
             ]
            ],
            "type": "contour"
           }
          ],
          "contourcarpet": [
           {
            "colorbar": {
             "outlinewidth": 0,
             "ticks": ""
            },
            "type": "contourcarpet"
           }
          ],
          "heatmap": [
           {
            "colorbar": {
             "outlinewidth": 0,
             "ticks": ""
            },
            "colorscale": [
             [
              0,
              "#0d0887"
             ],
             [
              0.1111111111111111,
              "#46039f"
             ],
             [
              0.2222222222222222,
              "#7201a8"
             ],
             [
              0.3333333333333333,
              "#9c179e"
             ],
             [
              0.4444444444444444,
              "#bd3786"
             ],
             [
              0.5555555555555556,
              "#d8576b"
             ],
             [
              0.6666666666666666,
              "#ed7953"
             ],
             [
              0.7777777777777778,
              "#fb9f3a"
             ],
             [
              0.8888888888888888,
              "#fdca26"
             ],
             [
              1,
              "#f0f921"
             ]
            ],
            "type": "heatmap"
           }
          ],
          "heatmapgl": [
           {
            "colorbar": {
             "outlinewidth": 0,
             "ticks": ""
            },
            "colorscale": [
             [
              0,
              "#0d0887"
             ],
             [
              0.1111111111111111,
              "#46039f"
             ],
             [
              0.2222222222222222,
              "#7201a8"
             ],
             [
              0.3333333333333333,
              "#9c179e"
             ],
             [
              0.4444444444444444,
              "#bd3786"
             ],
             [
              0.5555555555555556,
              "#d8576b"
             ],
             [
              0.6666666666666666,
              "#ed7953"
             ],
             [
              0.7777777777777778,
              "#fb9f3a"
             ],
             [
              0.8888888888888888,
              "#fdca26"
             ],
             [
              1,
              "#f0f921"
             ]
            ],
            "type": "heatmapgl"
           }
          ],
          "histogram": [
           {
            "marker": {
             "pattern": {
              "fillmode": "overlay",
              "size": 10,
              "solidity": 0.2
             }
            },
            "type": "histogram"
           }
          ],
          "histogram2d": [
           {
            "colorbar": {
             "outlinewidth": 0,
             "ticks": ""
            },
            "colorscale": [
             [
              0,
              "#0d0887"
             ],
             [
              0.1111111111111111,
              "#46039f"
             ],
             [
              0.2222222222222222,
              "#7201a8"
             ],
             [
              0.3333333333333333,
              "#9c179e"
             ],
             [
              0.4444444444444444,
              "#bd3786"
             ],
             [
              0.5555555555555556,
              "#d8576b"
             ],
             [
              0.6666666666666666,
              "#ed7953"
             ],
             [
              0.7777777777777778,
              "#fb9f3a"
             ],
             [
              0.8888888888888888,
              "#fdca26"
             ],
             [
              1,
              "#f0f921"
             ]
            ],
            "type": "histogram2d"
           }
          ],
          "histogram2dcontour": [
           {
            "colorbar": {
             "outlinewidth": 0,
             "ticks": ""
            },
            "colorscale": [
             [
              0,
              "#0d0887"
             ],
             [
              0.1111111111111111,
              "#46039f"
             ],
             [
              0.2222222222222222,
              "#7201a8"
             ],
             [
              0.3333333333333333,
              "#9c179e"
             ],
             [
              0.4444444444444444,
              "#bd3786"
             ],
             [
              0.5555555555555556,
              "#d8576b"
             ],
             [
              0.6666666666666666,
              "#ed7953"
             ],
             [
              0.7777777777777778,
              "#fb9f3a"
             ],
             [
              0.8888888888888888,
              "#fdca26"
             ],
             [
              1,
              "#f0f921"
             ]
            ],
            "type": "histogram2dcontour"
           }
          ],
          "mesh3d": [
           {
            "colorbar": {
             "outlinewidth": 0,
             "ticks": ""
            },
            "type": "mesh3d"
           }
          ],
          "parcoords": [
           {
            "line": {
             "colorbar": {
              "outlinewidth": 0,
              "ticks": ""
             }
            },
            "type": "parcoords"
           }
          ],
          "pie": [
           {
            "automargin": true,
            "type": "pie"
           }
          ],
          "scatter": [
           {
            "fillpattern": {
             "fillmode": "overlay",
             "size": 10,
             "solidity": 0.2
            },
            "type": "scatter"
           }
          ],
          "scatter3d": [
           {
            "line": {
             "colorbar": {
              "outlinewidth": 0,
              "ticks": ""
             }
            },
            "marker": {
             "colorbar": {
              "outlinewidth": 0,
              "ticks": ""
             }
            },
            "type": "scatter3d"
           }
          ],
          "scattercarpet": [
           {
            "marker": {
             "colorbar": {
              "outlinewidth": 0,
              "ticks": ""
             }
            },
            "type": "scattercarpet"
           }
          ],
          "scattergeo": [
           {
            "marker": {
             "colorbar": {
              "outlinewidth": 0,
              "ticks": ""
             }
            },
            "type": "scattergeo"
           }
          ],
          "scattergl": [
           {
            "marker": {
             "colorbar": {
              "outlinewidth": 0,
              "ticks": ""
             }
            },
            "type": "scattergl"
           }
          ],
          "scattermapbox": [
           {
            "marker": {
             "colorbar": {
              "outlinewidth": 0,
              "ticks": ""
             }
            },
            "type": "scattermapbox"
           }
          ],
          "scatterpolar": [
           {
            "marker": {
             "colorbar": {
              "outlinewidth": 0,
              "ticks": ""
             }
            },
            "type": "scatterpolar"
           }
          ],
          "scatterpolargl": [
           {
            "marker": {
             "colorbar": {
              "outlinewidth": 0,
              "ticks": ""
             }
            },
            "type": "scatterpolargl"
           }
          ],
          "scatterternary": [
           {
            "marker": {
             "colorbar": {
              "outlinewidth": 0,
              "ticks": ""
             }
            },
            "type": "scatterternary"
           }
          ],
          "surface": [
           {
            "colorbar": {
             "outlinewidth": 0,
             "ticks": ""
            },
            "colorscale": [
             [
              0,
              "#0d0887"
             ],
             [
              0.1111111111111111,
              "#46039f"
             ],
             [
              0.2222222222222222,
              "#7201a8"
             ],
             [
              0.3333333333333333,
              "#9c179e"
             ],
             [
              0.4444444444444444,
              "#bd3786"
             ],
             [
              0.5555555555555556,
              "#d8576b"
             ],
             [
              0.6666666666666666,
              "#ed7953"
             ],
             [
              0.7777777777777778,
              "#fb9f3a"
             ],
             [
              0.8888888888888888,
              "#fdca26"
             ],
             [
              1,
              "#f0f921"
             ]
            ],
            "type": "surface"
           }
          ],
          "table": [
           {
            "cells": {
             "fill": {
              "color": "#EBF0F8"
             },
             "line": {
              "color": "white"
             }
            },
            "header": {
             "fill": {
              "color": "#C8D4E3"
             },
             "line": {
              "color": "white"
             }
            },
            "type": "table"
           }
          ]
         },
         "layout": {
          "annotationdefaults": {
           "arrowcolor": "#2a3f5f",
           "arrowhead": 0,
           "arrowwidth": 1
          },
          "autotypenumbers": "strict",
          "coloraxis": {
           "colorbar": {
            "outlinewidth": 0,
            "ticks": ""
           }
          },
          "colorscale": {
           "diverging": [
            [
             0,
             "#8e0152"
            ],
            [
             0.1,
             "#c51b7d"
            ],
            [
             0.2,
             "#de77ae"
            ],
            [
             0.3,
             "#f1b6da"
            ],
            [
             0.4,
             "#fde0ef"
            ],
            [
             0.5,
             "#f7f7f7"
            ],
            [
             0.6,
             "#e6f5d0"
            ],
            [
             0.7,
             "#b8e186"
            ],
            [
             0.8,
             "#7fbc41"
            ],
            [
             0.9,
             "#4d9221"
            ],
            [
             1,
             "#276419"
            ]
           ],
           "sequential": [
            [
             0,
             "#0d0887"
            ],
            [
             0.1111111111111111,
             "#46039f"
            ],
            [
             0.2222222222222222,
             "#7201a8"
            ],
            [
             0.3333333333333333,
             "#9c179e"
            ],
            [
             0.4444444444444444,
             "#bd3786"
            ],
            [
             0.5555555555555556,
             "#d8576b"
            ],
            [
             0.6666666666666666,
             "#ed7953"
            ],
            [
             0.7777777777777778,
             "#fb9f3a"
            ],
            [
             0.8888888888888888,
             "#fdca26"
            ],
            [
             1,
             "#f0f921"
            ]
           ],
           "sequentialminus": [
            [
             0,
             "#0d0887"
            ],
            [
             0.1111111111111111,
             "#46039f"
            ],
            [
             0.2222222222222222,
             "#7201a8"
            ],
            [
             0.3333333333333333,
             "#9c179e"
            ],
            [
             0.4444444444444444,
             "#bd3786"
            ],
            [
             0.5555555555555556,
             "#d8576b"
            ],
            [
             0.6666666666666666,
             "#ed7953"
            ],
            [
             0.7777777777777778,
             "#fb9f3a"
            ],
            [
             0.8888888888888888,
             "#fdca26"
            ],
            [
             1,
             "#f0f921"
            ]
           ]
          },
          "colorway": [
           "#636efa",
           "#EF553B",
           "#00cc96",
           "#ab63fa",
           "#FFA15A",
           "#19d3f3",
           "#FF6692",
           "#B6E880",
           "#FF97FF",
           "#FECB52"
          ],
          "font": {
           "color": "#2a3f5f"
          },
          "geo": {
           "bgcolor": "white",
           "lakecolor": "white",
           "landcolor": "#E5ECF6",
           "showlakes": true,
           "showland": true,
           "subunitcolor": "white"
          },
          "hoverlabel": {
           "align": "left"
          },
          "hovermode": "closest",
          "mapbox": {
           "style": "light"
          },
          "paper_bgcolor": "white",
          "plot_bgcolor": "#E5ECF6",
          "polar": {
           "angularaxis": {
            "gridcolor": "white",
            "linecolor": "white",
            "ticks": ""
           },
           "bgcolor": "#E5ECF6",
           "radialaxis": {
            "gridcolor": "white",
            "linecolor": "white",
            "ticks": ""
           }
          },
          "scene": {
           "xaxis": {
            "backgroundcolor": "#E5ECF6",
            "gridcolor": "white",
            "gridwidth": 2,
            "linecolor": "white",
            "showbackground": true,
            "ticks": "",
            "zerolinecolor": "white"
           },
           "yaxis": {
            "backgroundcolor": "#E5ECF6",
            "gridcolor": "white",
            "gridwidth": 2,
            "linecolor": "white",
            "showbackground": true,
            "ticks": "",
            "zerolinecolor": "white"
           },
           "zaxis": {
            "backgroundcolor": "#E5ECF6",
            "gridcolor": "white",
            "gridwidth": 2,
            "linecolor": "white",
            "showbackground": true,
            "ticks": "",
            "zerolinecolor": "white"
           }
          },
          "shapedefaults": {
           "line": {
            "color": "#2a3f5f"
           }
          },
          "ternary": {
           "aaxis": {
            "gridcolor": "white",
            "linecolor": "white",
            "ticks": ""
           },
           "baxis": {
            "gridcolor": "white",
            "linecolor": "white",
            "ticks": ""
           },
           "bgcolor": "#E5ECF6",
           "caxis": {
            "gridcolor": "white",
            "linecolor": "white",
            "ticks": ""
           }
          },
          "title": {
           "x": 0.05
          },
          "xaxis": {
           "automargin": true,
           "gridcolor": "white",
           "linecolor": "white",
           "ticks": "",
           "title": {
            "standoff": 15
           },
           "zerolinecolor": "white",
           "zerolinewidth": 2
          },
          "yaxis": {
           "automargin": true,
           "gridcolor": "white",
           "linecolor": "white",
           "ticks": "",
           "title": {
            "standoff": 15
           },
           "zerolinecolor": "white",
           "zerolinewidth": 2
          }
         }
        },
        "title": {
         "text": "Number of Hydro operating plant per state"
        }
       }
      }
     },
     "metadata": {},
     "output_type": "display_data"
    }
   ],
   "source": [
    "# Number of plants per state (Hover over the states to check for details)\n",
    "print('Number of wind operating plants per state:')\n",
    "fig = px.choropleth(locations=wind_opr_df['Plant State'].value_counts().index, locationmode=\"USA-states\",\\\n",
    "                     color=wind_opr_df['Plant State'].value_counts().values, scope=\"usa\",\\\n",
    "                      title='Number of Wind operating plant per state')\n",
    "fig.show()\n",
    "\n",
    "print('Number of hydro operating plants per state:')\n",
    "fig = px.choropleth(locations=hydro_opr_df['Plant State'].value_counts().index, locationmode=\"USA-states\", \\\n",
    "                    color=hydro_opr_df['Plant State'].value_counts().values, scope=\"usa\",\\\n",
    "                      title='Number of Hydro operating plant per state')\n",
    "fig.show()"
   ]
  },
  {
   "attachments": {},
   "cell_type": "markdown",
   "metadata": {},
   "source": [
    "##### __Total - Net Generation (Megawatthours) for 2022:__"
   ]
  },
  {
   "cell_type": "code",
   "execution_count": null,
   "metadata": {},
   "outputs": [
    {
     "name": "stdout",
     "output_type": "stream",
     "text": [
      "Wind Plants: Total Electrical Output (Megawatthours): 337938049.026\n",
      "Hydro Plants: Total Electrical Output (Megawatthours): 279952689.827\n"
     ]
    },
    {
     "data": {
      "application/vnd.plotly.v1+json": {
       "config": {
        "plotlyServerURL": "https://plot.ly"
       },
       "data": [
        {
         "marker": {
          "color": "green"
         },
         "name": "Wind Operators",
         "type": "bar",
         "x": [
          "Wind Plants"
         ],
         "y": [
          337938049.026
         ]
        },
        {
         "marker": {
          "color": "blue"
         },
         "name": "Hydro Operators",
         "type": "bar",
         "x": [
          "Hydro Plants"
         ],
         "y": [
          279952689.827
         ]
        }
       ],
       "layout": {
        "barmode": "group",
        "template": {
         "data": {
          "bar": [
           {
            "error_x": {
             "color": "#2a3f5f"
            },
            "error_y": {
             "color": "#2a3f5f"
            },
            "marker": {
             "line": {
              "color": "#E5ECF6",
              "width": 0.5
             },
             "pattern": {
              "fillmode": "overlay",
              "size": 10,
              "solidity": 0.2
             }
            },
            "type": "bar"
           }
          ],
          "barpolar": [
           {
            "marker": {
             "line": {
              "color": "#E5ECF6",
              "width": 0.5
             },
             "pattern": {
              "fillmode": "overlay",
              "size": 10,
              "solidity": 0.2
             }
            },
            "type": "barpolar"
           }
          ],
          "carpet": [
           {
            "aaxis": {
             "endlinecolor": "#2a3f5f",
             "gridcolor": "white",
             "linecolor": "white",
             "minorgridcolor": "white",
             "startlinecolor": "#2a3f5f"
            },
            "baxis": {
             "endlinecolor": "#2a3f5f",
             "gridcolor": "white",
             "linecolor": "white",
             "minorgridcolor": "white",
             "startlinecolor": "#2a3f5f"
            },
            "type": "carpet"
           }
          ],
          "choropleth": [
           {
            "colorbar": {
             "outlinewidth": 0,
             "ticks": ""
            },
            "type": "choropleth"
           }
          ],
          "contour": [
           {
            "colorbar": {
             "outlinewidth": 0,
             "ticks": ""
            },
            "colorscale": [
             [
              0,
              "#0d0887"
             ],
             [
              0.1111111111111111,
              "#46039f"
             ],
             [
              0.2222222222222222,
              "#7201a8"
             ],
             [
              0.3333333333333333,
              "#9c179e"
             ],
             [
              0.4444444444444444,
              "#bd3786"
             ],
             [
              0.5555555555555556,
              "#d8576b"
             ],
             [
              0.6666666666666666,
              "#ed7953"
             ],
             [
              0.7777777777777778,
              "#fb9f3a"
             ],
             [
              0.8888888888888888,
              "#fdca26"
             ],
             [
              1,
              "#f0f921"
             ]
            ],
            "type": "contour"
           }
          ],
          "contourcarpet": [
           {
            "colorbar": {
             "outlinewidth": 0,
             "ticks": ""
            },
            "type": "contourcarpet"
           }
          ],
          "heatmap": [
           {
            "colorbar": {
             "outlinewidth": 0,
             "ticks": ""
            },
            "colorscale": [
             [
              0,
              "#0d0887"
             ],
             [
              0.1111111111111111,
              "#46039f"
             ],
             [
              0.2222222222222222,
              "#7201a8"
             ],
             [
              0.3333333333333333,
              "#9c179e"
             ],
             [
              0.4444444444444444,
              "#bd3786"
             ],
             [
              0.5555555555555556,
              "#d8576b"
             ],
             [
              0.6666666666666666,
              "#ed7953"
             ],
             [
              0.7777777777777778,
              "#fb9f3a"
             ],
             [
              0.8888888888888888,
              "#fdca26"
             ],
             [
              1,
              "#f0f921"
             ]
            ],
            "type": "heatmap"
           }
          ],
          "heatmapgl": [
           {
            "colorbar": {
             "outlinewidth": 0,
             "ticks": ""
            },
            "colorscale": [
             [
              0,
              "#0d0887"
             ],
             [
              0.1111111111111111,
              "#46039f"
             ],
             [
              0.2222222222222222,
              "#7201a8"
             ],
             [
              0.3333333333333333,
              "#9c179e"
             ],
             [
              0.4444444444444444,
              "#bd3786"
             ],
             [
              0.5555555555555556,
              "#d8576b"
             ],
             [
              0.6666666666666666,
              "#ed7953"
             ],
             [
              0.7777777777777778,
              "#fb9f3a"
             ],
             [
              0.8888888888888888,
              "#fdca26"
             ],
             [
              1,
              "#f0f921"
             ]
            ],
            "type": "heatmapgl"
           }
          ],
          "histogram": [
           {
            "marker": {
             "pattern": {
              "fillmode": "overlay",
              "size": 10,
              "solidity": 0.2
             }
            },
            "type": "histogram"
           }
          ],
          "histogram2d": [
           {
            "colorbar": {
             "outlinewidth": 0,
             "ticks": ""
            },
            "colorscale": [
             [
              0,
              "#0d0887"
             ],
             [
              0.1111111111111111,
              "#46039f"
             ],
             [
              0.2222222222222222,
              "#7201a8"
             ],
             [
              0.3333333333333333,
              "#9c179e"
             ],
             [
              0.4444444444444444,
              "#bd3786"
             ],
             [
              0.5555555555555556,
              "#d8576b"
             ],
             [
              0.6666666666666666,
              "#ed7953"
             ],
             [
              0.7777777777777778,
              "#fb9f3a"
             ],
             [
              0.8888888888888888,
              "#fdca26"
             ],
             [
              1,
              "#f0f921"
             ]
            ],
            "type": "histogram2d"
           }
          ],
          "histogram2dcontour": [
           {
            "colorbar": {
             "outlinewidth": 0,
             "ticks": ""
            },
            "colorscale": [
             [
              0,
              "#0d0887"
             ],
             [
              0.1111111111111111,
              "#46039f"
             ],
             [
              0.2222222222222222,
              "#7201a8"
             ],
             [
              0.3333333333333333,
              "#9c179e"
             ],
             [
              0.4444444444444444,
              "#bd3786"
             ],
             [
              0.5555555555555556,
              "#d8576b"
             ],
             [
              0.6666666666666666,
              "#ed7953"
             ],
             [
              0.7777777777777778,
              "#fb9f3a"
             ],
             [
              0.8888888888888888,
              "#fdca26"
             ],
             [
              1,
              "#f0f921"
             ]
            ],
            "type": "histogram2dcontour"
           }
          ],
          "mesh3d": [
           {
            "colorbar": {
             "outlinewidth": 0,
             "ticks": ""
            },
            "type": "mesh3d"
           }
          ],
          "parcoords": [
           {
            "line": {
             "colorbar": {
              "outlinewidth": 0,
              "ticks": ""
             }
            },
            "type": "parcoords"
           }
          ],
          "pie": [
           {
            "automargin": true,
            "type": "pie"
           }
          ],
          "scatter": [
           {
            "fillpattern": {
             "fillmode": "overlay",
             "size": 10,
             "solidity": 0.2
            },
            "type": "scatter"
           }
          ],
          "scatter3d": [
           {
            "line": {
             "colorbar": {
              "outlinewidth": 0,
              "ticks": ""
             }
            },
            "marker": {
             "colorbar": {
              "outlinewidth": 0,
              "ticks": ""
             }
            },
            "type": "scatter3d"
           }
          ],
          "scattercarpet": [
           {
            "marker": {
             "colorbar": {
              "outlinewidth": 0,
              "ticks": ""
             }
            },
            "type": "scattercarpet"
           }
          ],
          "scattergeo": [
           {
            "marker": {
             "colorbar": {
              "outlinewidth": 0,
              "ticks": ""
             }
            },
            "type": "scattergeo"
           }
          ],
          "scattergl": [
           {
            "marker": {
             "colorbar": {
              "outlinewidth": 0,
              "ticks": ""
             }
            },
            "type": "scattergl"
           }
          ],
          "scattermapbox": [
           {
            "marker": {
             "colorbar": {
              "outlinewidth": 0,
              "ticks": ""
             }
            },
            "type": "scattermapbox"
           }
          ],
          "scatterpolar": [
           {
            "marker": {
             "colorbar": {
              "outlinewidth": 0,
              "ticks": ""
             }
            },
            "type": "scatterpolar"
           }
          ],
          "scatterpolargl": [
           {
            "marker": {
             "colorbar": {
              "outlinewidth": 0,
              "ticks": ""
             }
            },
            "type": "scatterpolargl"
           }
          ],
          "scatterternary": [
           {
            "marker": {
             "colorbar": {
              "outlinewidth": 0,
              "ticks": ""
             }
            },
            "type": "scatterternary"
           }
          ],
          "surface": [
           {
            "colorbar": {
             "outlinewidth": 0,
             "ticks": ""
            },
            "colorscale": [
             [
              0,
              "#0d0887"
             ],
             [
              0.1111111111111111,
              "#46039f"
             ],
             [
              0.2222222222222222,
              "#7201a8"
             ],
             [
              0.3333333333333333,
              "#9c179e"
             ],
             [
              0.4444444444444444,
              "#bd3786"
             ],
             [
              0.5555555555555556,
              "#d8576b"
             ],
             [
              0.6666666666666666,
              "#ed7953"
             ],
             [
              0.7777777777777778,
              "#fb9f3a"
             ],
             [
              0.8888888888888888,
              "#fdca26"
             ],
             [
              1,
              "#f0f921"
             ]
            ],
            "type": "surface"
           }
          ],
          "table": [
           {
            "cells": {
             "fill": {
              "color": "#EBF0F8"
             },
             "line": {
              "color": "white"
             }
            },
            "header": {
             "fill": {
              "color": "#C8D4E3"
             },
             "line": {
              "color": "white"
             }
            },
            "type": "table"
           }
          ]
         },
         "layout": {
          "annotationdefaults": {
           "arrowcolor": "#2a3f5f",
           "arrowhead": 0,
           "arrowwidth": 1
          },
          "autotypenumbers": "strict",
          "coloraxis": {
           "colorbar": {
            "outlinewidth": 0,
            "ticks": ""
           }
          },
          "colorscale": {
           "diverging": [
            [
             0,
             "#8e0152"
            ],
            [
             0.1,
             "#c51b7d"
            ],
            [
             0.2,
             "#de77ae"
            ],
            [
             0.3,
             "#f1b6da"
            ],
            [
             0.4,
             "#fde0ef"
            ],
            [
             0.5,
             "#f7f7f7"
            ],
            [
             0.6,
             "#e6f5d0"
            ],
            [
             0.7,
             "#b8e186"
            ],
            [
             0.8,
             "#7fbc41"
            ],
            [
             0.9,
             "#4d9221"
            ],
            [
             1,
             "#276419"
            ]
           ],
           "sequential": [
            [
             0,
             "#0d0887"
            ],
            [
             0.1111111111111111,
             "#46039f"
            ],
            [
             0.2222222222222222,
             "#7201a8"
            ],
            [
             0.3333333333333333,
             "#9c179e"
            ],
            [
             0.4444444444444444,
             "#bd3786"
            ],
            [
             0.5555555555555556,
             "#d8576b"
            ],
            [
             0.6666666666666666,
             "#ed7953"
            ],
            [
             0.7777777777777778,
             "#fb9f3a"
            ],
            [
             0.8888888888888888,
             "#fdca26"
            ],
            [
             1,
             "#f0f921"
            ]
           ],
           "sequentialminus": [
            [
             0,
             "#0d0887"
            ],
            [
             0.1111111111111111,
             "#46039f"
            ],
            [
             0.2222222222222222,
             "#7201a8"
            ],
            [
             0.3333333333333333,
             "#9c179e"
            ],
            [
             0.4444444444444444,
             "#bd3786"
            ],
            [
             0.5555555555555556,
             "#d8576b"
            ],
            [
             0.6666666666666666,
             "#ed7953"
            ],
            [
             0.7777777777777778,
             "#fb9f3a"
            ],
            [
             0.8888888888888888,
             "#fdca26"
            ],
            [
             1,
             "#f0f921"
            ]
           ]
          },
          "colorway": [
           "#636efa",
           "#EF553B",
           "#00cc96",
           "#ab63fa",
           "#FFA15A",
           "#19d3f3",
           "#FF6692",
           "#B6E880",
           "#FF97FF",
           "#FECB52"
          ],
          "font": {
           "color": "#2a3f5f"
          },
          "geo": {
           "bgcolor": "white",
           "lakecolor": "white",
           "landcolor": "#E5ECF6",
           "showlakes": true,
           "showland": true,
           "subunitcolor": "white"
          },
          "hoverlabel": {
           "align": "left"
          },
          "hovermode": "closest",
          "mapbox": {
           "style": "light"
          },
          "paper_bgcolor": "white",
          "plot_bgcolor": "#E5ECF6",
          "polar": {
           "angularaxis": {
            "gridcolor": "white",
            "linecolor": "white",
            "ticks": ""
           },
           "bgcolor": "#E5ECF6",
           "radialaxis": {
            "gridcolor": "white",
            "linecolor": "white",
            "ticks": ""
           }
          },
          "scene": {
           "xaxis": {
            "backgroundcolor": "#E5ECF6",
            "gridcolor": "white",
            "gridwidth": 2,
            "linecolor": "white",
            "showbackground": true,
            "ticks": "",
            "zerolinecolor": "white"
           },
           "yaxis": {
            "backgroundcolor": "#E5ECF6",
            "gridcolor": "white",
            "gridwidth": 2,
            "linecolor": "white",
            "showbackground": true,
            "ticks": "",
            "zerolinecolor": "white"
           },
           "zaxis": {
            "backgroundcolor": "#E5ECF6",
            "gridcolor": "white",
            "gridwidth": 2,
            "linecolor": "white",
            "showbackground": true,
            "ticks": "",
            "zerolinecolor": "white"
           }
          },
          "shapedefaults": {
           "line": {
            "color": "#2a3f5f"
           }
          },
          "ternary": {
           "aaxis": {
            "gridcolor": "white",
            "linecolor": "white",
            "ticks": ""
           },
           "baxis": {
            "gridcolor": "white",
            "linecolor": "white",
            "ticks": ""
           },
           "bgcolor": "#E5ECF6",
           "caxis": {
            "gridcolor": "white",
            "linecolor": "white",
            "ticks": ""
           }
          },
          "title": {
           "x": 0.05
          },
          "xaxis": {
           "automargin": true,
           "gridcolor": "white",
           "linecolor": "white",
           "ticks": "",
           "title": {
            "standoff": 15
           },
           "zerolinecolor": "white",
           "zerolinewidth": 2
          },
          "yaxis": {
           "automargin": true,
           "gridcolor": "white",
           "linecolor": "white",
           "ticks": "",
           "title": {
            "standoff": 15
           },
           "zerolinecolor": "white",
           "zerolinewidth": 2
          }
         }
        },
        "title": {
         "text": "Total Electrical Output"
        },
        "xaxis": {
         "tickangle": -45
        }
       }
      }
     },
     "metadata": {},
     "output_type": "display_data"
    }
   ],
   "source": [
    "print(f\"Wind Plants: Total Electrical Output (Megawatthours): {wind_opr_df[['Year-To-Date - Net Generation (Megawatthours)']].sum()[0]}\")\n",
    "print(f\"Hydro Plants: Total Electrical Output (Megawatthours): {hydro_opr_df[['Year-To-Date - Net Generation (Megawatthours)']].sum()[0]}\")\n",
    "\n",
    "fig = go.Figure()\n",
    "fig.add_trace(go.Bar(\n",
    "    x=['Wind Plants'],\n",
    "    y=wind_opr_df[['Year-To-Date - Net Generation (Megawatthours)']].sum(),\n",
    "    name='Wind Operators',\n",
    "    marker_color='green'\n",
    "))\n",
    "fig.add_trace(go.Bar(\n",
    "    x=['Hydro Plants'],\n",
    "    y=hydro_opr_df[['Year-To-Date - Net Generation (Megawatthours)']].sum(),\n",
    "    name='Hydro Operators',\n",
    "    marker_color='blue'\n",
    "))\n",
    "fig.update_layout(title_text='Total Electrical Output',)\n",
    "# Here we modify the tickangle of the xaxis, resulting in rotated labels.\n",
    "fig.update_layout(barmode='group', xaxis_tickangle=-45)\n",
    "fig.show()"
   ]
  }
 ],
 "metadata": {
  "kernelspec": {
   "display_name": "base",
   "language": "python",
   "name": "python3"
  },
  "language_info": {
   "codemirror_mode": {
    "name": "ipython",
    "version": 3
   },
   "file_extension": ".py",
   "mimetype": "text/x-python",
   "name": "python",
   "nbconvert_exporter": "python",
   "pygments_lexer": "ipython3",
   "version": "3.12.7"
  },
  "orig_nbformat": 4
 },
 "nbformat": 4,
 "nbformat_minor": 2
}
